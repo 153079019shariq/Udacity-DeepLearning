{
 "cells": [
  {
   "cell_type": "markdown",
   "metadata": {},
   "source": [
    "# Creating a Sentiment Analysis Web App\n",
    "## Using PyTorch and SageMaker\n",
    "\n",
    "_Deep Learning Nanodegree Program | Deployment_\n",
    "\n",
    "---\n",
    "\n",
    "Now that we have a basic understanding of how SageMaker works we will try to use it to construct a complete project from end to end. Our goal will be to have a simple web page which a user can use to enter a movie review. The web page will then send the review off to our deployed model which will predict the sentiment of the entered review.\n",
    "\n",
    "## Instructions\n",
    "\n",
    "Some template code has already been provided for you, and you will need to implement additional functionality to successfully complete this notebook. You will not need to modify the included code beyond what is requested. Sections that begin with '**TODO**' in the header indicate that you need to complete or implement some portion within them. Instructions will be provided for each section and the specifics of the implementation are marked in the code block with a `# TODO: ...` comment. Please be sure to read the instructions carefully!\n",
    "\n",
    "In addition to implementing code, there will be questions for you to answer which relate to the task and your implementation. Each section where you will answer a question is preceded by a '**Question:**' header. Carefully read each question and provide your answer below the '**Answer:**' header by editing the Markdown cell.\n",
    "\n",
    "> **Note**: Code and Markdown cells can be executed using the **Shift+Enter** keyboard shortcut. In addition, a cell can be edited by typically clicking it (double-click for Markdown cells) or by pressing **Enter** while it is highlighted.\n",
    "\n",
    "## General Outline\n",
    "\n",
    "Recall the general outline for SageMaker projects using a notebook instance.\n",
    "\n",
    "1. Download or otherwise retrieve the data.\n",
    "2. Process / Prepare the data.\n",
    "3. Upload the processed data to S3.\n",
    "4. Train a chosen model.\n",
    "5. Test the trained model (typically using a batch transform job).\n",
    "6. Deploy the trained model.\n",
    "7. Use the deployed model.\n",
    "\n",
    "For this project, you will be following the steps in the general outline with some modifications. \n",
    "\n",
    "First, you will not be testing the model in its own step. You will still be testing the model, however, you will do it by deploying your model and then using the deployed model by sending the test data to it. One of the reasons for doing this is so that you can make sure that your deployed model is working correctly before moving forward.\n",
    "\n",
    "In addition, you will deploy and use your trained model a second time. In the second iteration you will customize the way that your trained model is deployed by including some of your own code. In addition, your newly deployed model will be used in the sentiment analysis web app."
   ]
  },
  {
   "cell_type": "markdown",
   "metadata": {},
   "source": [
    "## Step 1: Downloading the data\n",
    "\n",
    "As in the XGBoost in SageMaker notebook, we will be using the [IMDb dataset](http://ai.stanford.edu/~amaas/data/sentiment/)\n",
    "\n",
    "> Maas, Andrew L., et al. [Learning Word Vectors for Sentiment Analysis](http://ai.stanford.edu/~amaas/data/sentiment/). In _Proceedings of the 49th Annual Meeting of the Association for Computational Linguistics: Human Language Technologies_. Association for Computational Linguistics, 2011."
   ]
  },
  {
   "cell_type": "code",
   "execution_count": 337,
   "metadata": {},
   "outputs": [],
   "source": [
    "#%mkdir ../data\n",
    "#!wget -O ../data/aclImdb_v1.tar.gz http://ai.stanford.edu/~amaas/data/sentiment/aclImdb_v1.tar.gz\n",
    "#!tar -zxf ../data/aclImdb_v1.tar.gz -C ../data"
   ]
  },
  {
   "cell_type": "markdown",
   "metadata": {},
   "source": [
    "## Step 2: Preparing and Processing the data\n",
    "\n",
    "Also, as in the XGBoost notebook, we will be doing some initial data processing. The first few steps are the same as in the XGBoost example. To begin with, we will read in each of the reviews and combine them into a single input structure. Then, we will split the dataset into a training set and a testing set."
   ]
  },
  {
   "cell_type": "code",
   "execution_count": 460,
   "metadata": {},
   "outputs": [],
   "source": [
    "import os\n",
    "import glob\n",
    "\n",
    "def read_imdb_data(data_dir='../data/aclImdb'):\n",
    "    data = {}\n",
    "    labels = {}\n",
    "    \n",
    "    for data_type in ['train', 'test']:\n",
    "        data[data_type] = {}\n",
    "        labels[data_type] = {}\n",
    "        \n",
    "        for sentiment in ['pos', 'neg']:\n",
    "            data[data_type][sentiment] = []\n",
    "            labels[data_type][sentiment] = []\n",
    "            \n",
    "            path = os.path.join(data_dir, data_type, sentiment, '*.txt')\n",
    "            files = glob.glob(path)\n",
    "            \n",
    "            for f in files:\n",
    "                with open(f) as review:\n",
    "                    data[data_type][sentiment].append(review.read())\n",
    "                    # Here we represent a positive review by '1' and a negative review by '0'\n",
    "                    labels[data_type][sentiment].append(1 if sentiment == 'pos' else 0)\n",
    "                    \n",
    "            assert len(data[data_type][sentiment]) == len(labels[data_type][sentiment]), \\\n",
    "                    \"{}/{} data size does not match labels size\".format(data_type, sentiment)\n",
    "                \n",
    "    return data, labels"
   ]
  },
  {
   "cell_type": "code",
   "execution_count": 461,
   "metadata": {},
   "outputs": [
    {
     "name": "stdout",
     "output_type": "stream",
     "text": [
      "IMDB reviews: train = 12500 pos / 12500 neg, test = 12500 pos / 12500 neg\n"
     ]
    }
   ],
   "source": [
    "data, labels = read_imdb_data()\n",
    "print(\"IMDB reviews: train = {} pos / {} neg, test = {} pos / {} neg\".format(\n",
    "            len(data['train']['pos']), len(data['train']['neg']),\n",
    "            len(data['test']['pos']), len(data['test']['neg'])))"
   ]
  },
  {
   "cell_type": "markdown",
   "metadata": {},
   "source": [
    "Now that we've read the raw training and testing data from the downloaded dataset, we will combine the positive and negative reviews and shuffle the resulting records."
   ]
  },
  {
   "cell_type": "code",
   "execution_count": 462,
   "metadata": {},
   "outputs": [],
   "source": [
    "from sklearn.utils import shuffle\n",
    "\n",
    "def prepare_imdb_data(data, labels):\n",
    "    \"\"\"Prepare training and test sets from IMDb movie reviews.\"\"\"\n",
    "    \n",
    "    #Combine positive and negative reviews and labels\n",
    "    data_train = data['train']['pos'] + data['train']['neg']\n",
    "    data_test = data['test']['pos'] + data['test']['neg']\n",
    "    labels_train = labels['train']['pos'] + labels['train']['neg']\n",
    "    labels_test = labels['test']['pos'] + labels['test']['neg']\n",
    "    \n",
    "    #Shuffle reviews and corresponding labels within training and test sets\n",
    "    data_train, labels_train = shuffle(data_train, labels_train)\n",
    "    data_test, labels_test = shuffle(data_test, labels_test)\n",
    "    \n",
    "    # Return a unified training data, test data, training labels, test labets\n",
    "    return data_train, data_test, labels_train, labels_test"
   ]
  },
  {
   "cell_type": "code",
   "execution_count": 463,
   "metadata": {},
   "outputs": [
    {
     "name": "stdout",
     "output_type": "stream",
     "text": [
      "IMDb reviews (combined): train = 25000, test = 25000\n"
     ]
    }
   ],
   "source": [
    "train_X, test_X, train_y, test_y = prepare_imdb_data(data, labels)\n",
    "print(\"IMDb reviews (combined): train = {}, test = {}\".format(len(train_X), len(test_X)))"
   ]
  },
  {
   "cell_type": "markdown",
   "metadata": {},
   "source": [
    "Now that we have our training and testing sets unified and prepared, we should do a quick check and see an example of the data our model will be trained on. This is generally a good idea as it allows you to see how each of the further processing steps affects the reviews and it also ensures that the data has been loaded correctly."
   ]
  },
  {
   "cell_type": "code",
   "execution_count": 464,
   "metadata": {},
   "outputs": [
    {
     "name": "stdout",
     "output_type": "stream",
     "text": [
      "Three part \"horror\" film with some guy in a boarded up house imploring the viewer not to go \"out there\" and (unfortunately) gives us three tales to prove why.<br /><br />The first story involves a young couple in a car accident who meet up with two psychos. It leads up to two totally predictable twists. Still, it's quick (about 15 minutes), violent, well-acted and well-done. Predictable but enjoyable.<br /><br />The second involves a man on the run after stealing a large amount of money. His car breaks down, he's attacked by a dog and stumbles into a nearby clinic. VERY obvious, badly done and extremely slow. Even at 30 minutes this is too long. Good acting though.<br /><br />The third is just barely a horror story. It involves a beautiful, lonely woman looking for Mr. Right. It has beautiful set designs, a nice erotic feel and a nice sex scene. But (again) predictable and not even remotely scary.<br /><br />It ends very stupidly.<br /><br />All in all, the first one is worth watching, but that's it. Tune in for that one then turn it off.\n",
      "0\n"
     ]
    }
   ],
   "source": [
    "print(train_X[100])\n",
    "print(train_y[100])"
   ]
  },
  {
   "cell_type": "markdown",
   "metadata": {},
   "source": [
    "The first step in processing the reviews is to make sure that any html tags that appear should be removed. In addition we wish to tokenize our input, that way words such as *entertained* and *entertaining* are considered the same with regard to sentiment analysis."
   ]
  },
  {
   "cell_type": "code",
   "execution_count": 465,
   "metadata": {},
   "outputs": [],
   "source": [
    "import nltk\n",
    "from nltk.corpus import stopwords\n",
    "from nltk.stem.porter import *\n",
    "\n",
    "import re\n",
    "from bs4 import BeautifulSoup\n",
    "\n",
    "def review_to_words(review):\n",
    "    nltk.download(\"stopwords\", quiet=True)\n",
    "    stemmer = PorterStemmer()\n",
    "    \n",
    "    text = BeautifulSoup(review, \"html.parser\").get_text() # Remove HTML tags\n",
    "    text = re.sub(r\"[^a-zA-Z0-9]\", \" \", text.lower()) # Convert to lower case\n",
    "    words = text.split() # Split string into words\n",
    "    words = [w for w in words if w not in stopwords.words(\"english\")] # Remove stopwords\n",
    "    words = [PorterStemmer().stem(w) for w in words] # stem\n",
    "    \n",
    "    return words"
   ]
  },
  {
   "cell_type": "markdown",
   "metadata": {},
   "source": [
    "The `review_to_words` method defined above uses `BeautifulSoup` to remove any html tags that appear and uses the `nltk` package to tokenize the reviews. As a check to ensure we know how everything is working, try applying `review_to_words` to one of the reviews in the training set."
   ]
  },
  {
   "cell_type": "code",
   "execution_count": 466,
   "metadata": {},
   "outputs": [
    {
     "data": {
      "text/plain": [
       "['three',\n",
       " 'part',\n",
       " 'horror',\n",
       " 'film',\n",
       " 'guy',\n",
       " 'board',\n",
       " 'hous',\n",
       " 'implor',\n",
       " 'viewer',\n",
       " 'go',\n",
       " 'unfortun',\n",
       " 'give',\n",
       " 'us',\n",
       " 'three',\n",
       " 'tale',\n",
       " 'prove',\n",
       " 'first',\n",
       " 'stori',\n",
       " 'involv',\n",
       " 'young',\n",
       " 'coupl',\n",
       " 'car',\n",
       " 'accid',\n",
       " 'meet',\n",
       " 'two',\n",
       " 'psycho',\n",
       " 'lead',\n",
       " 'two',\n",
       " 'total',\n",
       " 'predict',\n",
       " 'twist',\n",
       " 'still',\n",
       " 'quick',\n",
       " '15',\n",
       " 'minut',\n",
       " 'violent',\n",
       " 'well',\n",
       " 'act',\n",
       " 'well',\n",
       " 'done',\n",
       " 'predict',\n",
       " 'enjoy',\n",
       " 'second',\n",
       " 'involv',\n",
       " 'man',\n",
       " 'run',\n",
       " 'steal',\n",
       " 'larg',\n",
       " 'amount',\n",
       " 'money',\n",
       " 'car',\n",
       " 'break',\n",
       " 'attack',\n",
       " 'dog',\n",
       " 'stumbl',\n",
       " 'nearbi',\n",
       " 'clinic',\n",
       " 'obviou',\n",
       " 'badli',\n",
       " 'done',\n",
       " 'extrem',\n",
       " 'slow',\n",
       " 'even',\n",
       " '30',\n",
       " 'minut',\n",
       " 'long',\n",
       " 'good',\n",
       " 'act',\n",
       " 'though',\n",
       " 'third',\n",
       " 'bare',\n",
       " 'horror',\n",
       " 'stori',\n",
       " 'involv',\n",
       " 'beauti',\n",
       " 'lone',\n",
       " 'woman',\n",
       " 'look',\n",
       " 'mr',\n",
       " 'right',\n",
       " 'beauti',\n",
       " 'set',\n",
       " 'design',\n",
       " 'nice',\n",
       " 'erot',\n",
       " 'feel',\n",
       " 'nice',\n",
       " 'sex',\n",
       " 'scene',\n",
       " 'predict',\n",
       " 'even',\n",
       " 'remot',\n",
       " 'scari',\n",
       " 'end',\n",
       " 'stupidli',\n",
       " 'first',\n",
       " 'one',\n",
       " 'worth',\n",
       " 'watch',\n",
       " 'tune',\n",
       " 'one',\n",
       " 'turn']"
      ]
     },
     "execution_count": 466,
     "metadata": {},
     "output_type": "execute_result"
    }
   ],
   "source": [
    "# TODO: Apply review_to_words to a review (train_X[100] or any other review)\n",
    "review_to_words(train_X[100])"
   ]
  },
  {
   "cell_type": "markdown",
   "metadata": {},
   "source": [
    "**Question:** Above we mentioned that `review_to_words` method removes html formatting and allows us to tokenize the words found in a review, for example, converting *entertained* and *entertaining* into *entertain* so that they are treated as though they are the same word. What else, if anything, does this method do to the input?"
   ]
  },
  {
   "cell_type": "markdown",
   "metadata": {},
   "source": [
    "**Answer:** The sentences were converted to words.All the words are converted into lowercase.The stopwords are also removed."
   ]
  },
  {
   "cell_type": "markdown",
   "metadata": {},
   "source": [
    "The method below applies the `review_to_words` method to each of the reviews in the training and testing datasets. In addition it caches the results. This is because performing this processing step can take a long time. This way if you are unable to complete the notebook in the current session, you can come back without needing to process the data a second time."
   ]
  },
  {
   "cell_type": "code",
   "execution_count": 467,
   "metadata": {},
   "outputs": [],
   "source": [
    "import pickle\n",
    "\n",
    "cache_dir = os.path.join(\"../cache\", \"sentiment_analysis\")  # where to store cache files\n",
    "os.makedirs(cache_dir, exist_ok=True)  # ensure cache directory exists\n",
    "\n",
    "def preprocess_data(data_train, data_test, labels_train, labels_test,\n",
    "                    cache_dir=cache_dir, cache_file=\"preprocessed_data.pkl\"):\n",
    "    \"\"\"Convert each review to words; read from cache if available.\"\"\"\n",
    "\n",
    "    # If cache_file is not None, try to read from it first\n",
    "    cache_data = None\n",
    "    if cache_file is not None:\n",
    "        try:\n",
    "            with open(os.path.join(cache_dir, cache_file), \"rb\") as f:\n",
    "                cache_data = pickle.load(f)\n",
    "            print(\"Read preprocessed data from cache file:\", cache_file)\n",
    "        except:\n",
    "            pass  # unable to read from cache, but that's okay\n",
    "    \n",
    "    # If cache is missing, then do the heavy lifting\n",
    "    if cache_data is None:\n",
    "        # Preprocess training and test data to obtain words for each review\n",
    "        #words_train = list(map(review_to_words, data_train))\n",
    "        #words_test = list(map(review_to_words, data_test))\n",
    "        words_train = [review_to_words(review) for review in data_train]\n",
    "        words_test = [review_to_words(review) for review in data_test]\n",
    "        \n",
    "        # Write to cache file for future runs\n",
    "        if cache_file is not None:\n",
    "            cache_data = dict(words_train=words_train, words_test=words_test,\n",
    "                              labels_train=labels_train, labels_test=labels_test)\n",
    "            with open(os.path.join(cache_dir, cache_file), \"wb\") as f:\n",
    "                pickle.dump(cache_data, f)\n",
    "            print(\"Wrote preprocessed data to cache file:\", cache_file)\n",
    "    else:\n",
    "        # Unpack data loaded from cache file\n",
    "        words_train, words_test, labels_train, labels_test = (cache_data['words_train'],\n",
    "                cache_data['words_test'], cache_data['labels_train'], cache_data['labels_test'])\n",
    "    \n",
    "    return words_train, words_test, labels_train, labels_test"
   ]
  },
  {
   "cell_type": "code",
   "execution_count": 468,
   "metadata": {},
   "outputs": [
    {
     "name": "stdout",
     "output_type": "stream",
     "text": [
      "Read preprocessed data from cache file: preprocessed_data.pkl\n"
     ]
    }
   ],
   "source": [
    "# Preprocess data\n",
    "train_X, test_X, train_y, test_y = preprocess_data(train_X, test_X, train_y, test_y)"
   ]
  },
  {
   "cell_type": "markdown",
   "metadata": {},
   "source": [
    "## Transform the data\n",
    "\n",
    "In the XGBoost notebook we transformed the data from its word representation to a bag-of-words feature representation. For the model we are going to construct in this notebook we will construct a feature representation which is very similar. To start, we will represent each word as an integer. Of course, some of the words that appear in the reviews occur very infrequently and so likely don't contain much information for the purposes of sentiment analysis. The way we will deal with this problem is that we will fix the size of our working vocabulary and we will only include the words that appear most frequently. We will then combine all of the infrequent words into a single category and, in our case, we will label it as `1`.\n",
    "\n",
    "Since we will be using a recurrent neural network, it will be convenient if the length of each review is the same. To do this, we will fix a size for our reviews and then pad short reviews with the category 'no word' (which we will label `0`) and truncate long reviews."
   ]
  },
  {
   "cell_type": "markdown",
   "metadata": {},
   "source": [
    "### (TODO) Create a word dictionary\n",
    "\n",
    "To begin with, we need to construct a way to map words that appear in the reviews to integers. Here we fix the size of our vocabulary (including the 'no word' and 'infrequent' categories) to be `5000` but you may wish to change this to see how it affects the model.\n",
    "\n",
    "> **TODO:** Complete the implementation for the `build_dict()` method below. Note that even though the vocab_size is set to `5000`, we only want to construct a mapping for the most frequently appearing `4998` words. This is because we want to reserve the special labels `0` for 'no word' and `1` for 'infrequent word'."
   ]
  },
  {
   "cell_type": "code",
   "execution_count": 469,
   "metadata": {},
   "outputs": [],
   "source": [
    "import numpy as np\n",
    "from collections import Counter\n",
    "def build_dict(data, vocab_size = 5000):\n",
    "    \"\"\"Construct and return a dictionary mapping each of the most frequently appearing words to a unique integer.\"\"\"\n",
    "    \n",
    "    # TODO: Determine how often each word appears in `data`. Note that `data` is a list of sentences and that a\n",
    "    #       sentence is a list of words.\n",
    "    \n",
    "    word_count = {} # A dict storing the words that appear in the reviews along with how often they occur\n",
    "    print(len(data))\n",
    "    #print(data[0:5])\n",
    "    flattern_data =[j for i in data for j in i]\n",
    "    \n",
    "    word_count =Counter(flattern_data)\n",
    "    list1 = word_count.most_common(4998)\n",
    "    \n",
    "    # TODO: Sort the words found in `data` so that sorted_words[0] is the most frequently appearing word and\n",
    "    #       sorted_words[-1] is the least frequently appearing word.\n",
    "    #print(list1)\n",
    "    sorted_words = [i[0] for i in list1]\n",
    "    \n",
    "    word_dict = {} # This is what we are building, a dictionary that translates words into integers\n",
    "    for idx, word in enumerate(sorted_words[:vocab_size - 2]): # The -2 is so that we save room for the 'no word'\n",
    "        word_dict[word] = idx + 2                              # 'infrequent' labels\n",
    "    return word_dict"
   ]
  },
  {
   "cell_type": "code",
   "execution_count": 470,
   "metadata": {},
   "outputs": [
    {
     "name": "stdout",
     "output_type": "stream",
     "text": [
      "25000\n"
     ]
    }
   ],
   "source": [
    "word_dict = build_dict(train_X)\n",
    "#print(word_dict)"
   ]
  },
  {
   "cell_type": "markdown",
   "metadata": {},
   "source": [
    "**Question:** What are the five most frequently appearing (tokenized) words in the training set? Does it makes sense that these words appear frequently in the training set?"
   ]
  },
  {
   "cell_type": "markdown",
   "metadata": {},
   "source": [
    "**Answer:** The five most occuring words were movi,film,one,like,time. "
   ]
  },
  {
   "cell_type": "code",
   "execution_count": null,
   "metadata": {},
   "outputs": [],
   "source": [
    "# TODO: Use this space to determine the five most frequently appearing words in the training set.\n",
    "i=0\n",
    "for key,value in word_dict.items():\n",
    "    if(i<=5):\n",
    "        print(key,value)\n",
    "    i=i+1\n"
   ]
  },
  {
   "cell_type": "code",
   "execution_count": 472,
   "metadata": {},
   "outputs": [
    {
     "name": "stdout",
     "output_type": "stream",
     "text": [
      "{'movi': 2, 'film': 3, 'one': 4, 'like': 5, 'time': 6, 'good': 7, 'make': 8, 'charact': 9, 'get': 10, 'see': 11, 'watch': 12, 'stori': 13, 'even': 14, 'would': 15, 'realli': 16, 'well': 17, 'scene': 18, 'look': 19, 'show': 20, 'much': 21, 'end': 22, 'peopl': 23, 'bad': 24, 'go': 25, 'great': 26, 'also': 27, 'first': 28, 'love': 29, 'think': 30, 'way': 31, 'act': 32, 'play': 33, 'made': 34, 'thing': 35, 'could': 36, 'know': 37, 'say': 38, 'seem': 39, 'work': 40, 'plot': 41, 'two': 42, 'actor': 43, 'year': 44, 'come': 45, 'mani': 46, 'seen': 47, 'take': 48, 'want': 49, 'life': 50, 'never': 51, 'littl': 52, 'best': 53, 'tri': 54, 'man': 55, 'ever': 56, 'give': 57, 'better': 58, 'still': 59, 'perform': 60, 'find': 61, 'feel': 62, 'part': 63, 'back': 64, 'use': 65, 'someth': 66, 'director': 67, 'actual': 68, 'interest': 69, 'lot': 70, 'real': 71, 'old': 72, 'cast': 73, 'though': 74, 'live': 75, 'star': 76, 'enjoy': 77, 'guy': 78, 'anoth': 79, 'new': 80, 'role': 81, 'noth': 82, '10': 83, 'funni': 84, 'music': 85, 'point': 86, 'start': 87, 'set': 88, 'girl': 89, 'origin': 90, 'day': 91, 'world': 92, 'everi': 93, 'believ': 94, 'turn': 95, 'quit': 96, 'direct': 97, 'us': 98, 'thought': 99, 'fact': 100, 'minut': 101, 'horror': 102, 'kill': 103, 'action': 104, 'comedi': 105, 'pretti': 106, 'young': 107, 'wonder': 108, 'happen': 109, 'around': 110, 'got': 111, 'effect': 112, 'right': 113, 'long': 114, 'howev': 115, 'big': 116, 'line': 117, 'famili': 118, 'enough': 119, 'seri': 120, 'may': 121, 'need': 122, 'fan': 123, 'bit': 124, 'script': 125, 'beauti': 126, 'person': 127, 'becom': 128, 'without': 129, 'must': 130, 'alway': 131, 'friend': 132, 'tell': 133, 'reason': 134, 'saw': 135, 'last': 136, 'final': 137, 'kid': 138, 'almost': 139, 'put': 140, 'least': 141, 'sure': 142, 'done': 143, 'whole': 144, 'place': 145, 'complet': 146, 'kind': 147, 'differ': 148, 'expect': 149, 'shot': 150, 'far': 151, 'mean': 152, 'anyth': 153, 'book': 154, 'laugh': 155, 'might': 156, 'name': 157, 'sinc': 158, 'begin': 159, '2': 160, 'probabl': 161, 'woman': 162, 'help': 163, 'entertain': 164, 'let': 165, 'screen': 166, 'call': 167, 'tv': 168, 'moment': 169, 'away': 170, 'read': 171, 'yet': 172, 'rather': 173, 'worst': 174, 'run': 175, 'fun': 176, 'lead': 177, 'hard': 178, 'audienc': 179, 'idea': 180, 'anyon': 181, 'episod': 182, 'american': 183, 'found': 184, 'appear': 185, 'bore': 186, 'especi': 187, 'although': 188, 'hope': 189, 'keep': 190, 'cours': 191, 'anim': 192, 'job': 193, 'goe': 194, 'move': 195, 'sens': 196, 'version': 197, 'dvd': 198, 'war': 199, 'money': 200, 'someon': 201, 'mind': 202, 'mayb': 203, 'problem': 204, 'true': 205, 'hous': 206, 'everyth': 207, 'nice': 208, 'second': 209, 'rate': 210, 'three': 211, 'night': 212, 'face': 213, 'follow': 214, 'recommend': 215, 'main': 216, 'product': 217, 'worth': 218, 'leav': 219, 'human': 220, 'special': 221, 'excel': 222, 'togeth': 223, 'wast': 224, 'sound': 225, 'everyon': 226, 'john': 227, 'hand': 228, '1': 229, 'father': 230, 'later': 231, 'eye': 232, 'said': 233, 'view': 234, 'instead': 235, 'review': 236, 'boy': 237, 'high': 238, 'hour': 239, 'miss': 240, 'talk': 241, 'classic': 242, 'wife': 243, 'understand': 244, 'left': 245, 'care': 246, 'black': 247, 'death': 248, 'open': 249, 'murder': 250, 'write': 251, 'half': 252, 'head': 253, 'rememb': 254, 'chang': 255, 'viewer': 256, 'fight': 257, 'gener': 258, 'surpris': 259, 'includ': 260, 'short': 261, 'die': 262, 'fall': 263, 'less': 264, 'els': 265, 'entir': 266, 'piec': 267, 'involv': 268, 'pictur': 269, 'simpli': 270, 'top': 271, 'power': 272, 'home': 273, 'total': 274, 'usual': 275, 'budget': 276, 'attempt': 277, 'suppos': 278, 'releas': 279, 'hollywood': 280, 'terribl': 281, 'song': 282, 'men': 283, 'possibl': 284, 'featur': 285, 'portray': 286, 'disappoint': 287, 'poor': 288, '3': 289, 'coupl': 290, 'camera': 291, 'stupid': 292, 'dead': 293, 'wrong': 294, 'low': 295, 'produc': 296, 'either': 297, 'video': 298, 'aw': 299, 'definit': 300, 'except': 301, 'rest': 302, 'given': 303, 'absolut': 304, 'women': 305, 'lack': 306, 'word': 307, 'writer': 308, 'titl': 309, 'talent': 310, 'decid': 311, 'full': 312, 'perfect': 313, 'along': 314, 'style': 315, 'close': 316, 'truli': 317, 'school': 318, 'save': 319, 'emot': 320, 'sex': 321, 'age': 322, 'next': 323, 'bring': 324, 'mr': 325, 'case': 326, 'killer': 327, 'heart': 328, 'comment': 329, 'sort': 330, 'creat': 331, 'perhap': 332, 'came': 333, 'brother': 334, 'sever': 335, 'joke': 336, 'art': 337, 'dialogu': 338, 'game': 339, 'small': 340, 'base': 341, 'flick': 342, 'written': 343, 'sequenc': 344, 'meet': 345, 'earli': 346, 'often': 347, 'other': 348, 'mother': 349, 'develop': 350, 'humor': 351, 'actress': 352, 'consid': 353, 'dark': 354, 'guess': 355, 'amaz': 356, 'unfortun': 357, 'light': 358, 'lost': 359, 'exampl': 360, 'cinema': 361, 'drama': 362, 'ye': 363, 'white': 364, 'experi': 365, 'imagin': 366, 'mention': 367, 'stop': 368, 'natur': 369, 'forc': 370, 'manag': 371, 'felt': 372, 'present': 373, 'cut': 374, 'children': 375, 'fail': 376, 'son': 377, 'support': 378, 'qualiti': 379, 'car': 380, 'ask': 381, 'hit': 382, 'side': 383, 'voic': 384, 'extrem': 385, 'impress': 386, 'evil': 387, 'wors': 388, 'went': 389, 'stand': 390, 'certainli': 391, 'basic': 392, 'oh': 393, 'overal': 394, 'favorit': 395, 'horribl': 396, 'mysteri': 397, 'number': 398, 'type': 399, 'danc': 400, 'wait': 401, 'hero': 402, '5': 403, 'alreadi': 404, 'learn': 405, 'matter': 406, '4': 407, 'michael': 408, 'genr': 409, 'fine': 410, 'despit': 411, 'throughout': 412, 'walk': 413, 'success': 414, 'histori': 415, 'question': 416, 'zombi': 417, 'town': 418, 'relationship': 419, 'realiz': 420, 'child': 421, 'past': 422, 'daughter': 423, 'late': 424, 'b': 425, 'wish': 426, 'hate': 427, 'credit': 428, 'event': 429, 'theme': 430, 'touch': 431, 'citi': 432, 'today': 433, 'sometim': 434, 'behind': 435, 'god': 436, 'twist': 437, 'sit': 438, 'deal': 439, 'annoy': 440, 'stay': 441, 'abl': 442, 'rent': 443, 'pleas': 444, 'edit': 445, 'blood': 446, 'deserv': 447, 'anyway': 448, 'comic': 449, 'appar': 450, 'soon': 451, 'gave': 452, 'etc': 453, 'level': 454, 'slow': 455, 'chanc': 456, 'score': 457, 'bodi': 458, 'brilliant': 459, 'incred': 460, 'figur': 461, 'situat': 462, 'self': 463, 'major': 464, 'stuff': 465, 'decent': 466, 'element': 467, 'dream': 468, 'return': 469, 'obvious': 470, 'order': 471, 'continu': 472, 'pace': 473, 'ridicul': 474, 'happi': 475, 'group': 476, 'highli': 477, 'add': 478, 'thank': 479, 'ladi': 480, 'novel': 481, 'pain': 482, 'speak': 483, 'career': 484, 'shoot': 485, 'strang': 486, 'heard': 487, 'sad': 488, 'polic': 489, 'husband': 490, 'import': 491, 'break': 492, 'took': 493, 'cannot': 494, 'strong': 495, 'robert': 496, 'predict': 497, 'violenc': 498, 'hilari': 499, 'recent': 500, 'countri': 501, 'known': 502, 'particularli': 503, 'pick': 504, 'documentari': 505, 'season': 506, 'critic': 507, 'jame': 508, 'compar': 509, 'obviou': 510, 'alon': 511, 'told': 512, 'state': 513, 'visual': 514, 'rock': 515, 'theater': 516, 'offer': 517, 'exist': 518, 'opinion': 519, 'gore': 520, 'crap': 521, 'hold': 522, 'result': 523, 'room': 524, 'realiti': 525, 'hear': 526, 'clich': 527, 'effort': 528, 'thriller': 529, 'caus': 530, 'sequel': 531, 'explain': 532, 'serious': 533, 'king': 534, 'local': 535, 'ago': 536, 'none': 537, 'hell': 538, 'note': 539, 'allow': 540, 'sister': 541, 'david': 542, 'simpl': 543, 'femal': 544, 'deliv': 545, 'ok': 546, 'convinc': 547, 'class': 548, 'check': 549, 'suspens': 550, 'win': 551, 'buy': 552, 'oscar': 553, 'huge': 554, 'valu': 555, 'sexual': 556, 'scari': 557, 'cool': 558, 'similar': 559, 'excit': 560, 'apart': 561, 'provid': 562, 'exactli': 563, 'avoid': 564, 'shown': 565, 'seriou': 566, 'english': 567, 'taken': 568, 'whose': 569, 'cinematographi': 570, 'shock': 571, 'polit': 572, 'spoiler': 573, 'offic': 574, 'across': 575, 'middl': 576, 'pass': 577, 'street': 578, 'messag': 579, 'silli': 580, 'somewhat': 581, 'charm': 582, 'modern': 583, 'confus': 584, 'filmmak': 585, 'form': 586, 'tale': 587, 'singl': 588, 'jack': 589, 'mostli': 590, 'carri': 591, 'william': 592, 'attent': 593, 'sing': 594, 'five': 595, 'subject': 596, 'prove': 597, 'richard': 598, 'stage': 599, 'team': 600, 'unlik': 601, 'cop': 602, 'georg': 603, 'monster': 604, 'televis': 605, 'earth': 606, 'cover': 607, 'villain': 608, 'pay': 609, 'marri': 610, 'toward': 611, 'build': 612, 'pull': 613, 'parent': 614, 'due': 615, 'fill': 616, 'respect': 617, 'four': 618, 'dialog': 619, 'remind': 620, 'futur': 621, 'typic': 622, 'weak': 623, '7': 624, 'cheap': 625, 'intellig': 626, 'british': 627, 'atmospher': 628, 'clearli': 629, '80': 630, 'paul': 631, 'dog': 632, 'non': 633, 'fast': 634, '8': 635, 'knew': 636, 'artist': 637, 'crime': 638, 'easili': 639, 'escap': 640, 'adult': 641, 'doubt': 642, 'detail': 643, 'date': 644, 'fire': 645, 'member': 646, 'romant': 647, 'drive': 648, 'gun': 649, 'straight': 650, 'fit': 651, 'beyond': 652, 'attack': 653, 'imag': 654, 'upon': 655, 'posit': 656, 'whether': 657, 'fantast': 658, 'peter': 659, 'captur': 660, 'appreci': 661, 'aspect': 662, 'ten': 663, 'plan': 664, 'discov': 665, 'remain': 666, 'period': 667, 'near': 668, 'realist': 669, 'air': 670, 'mark': 671, 'red': 672, 'dull': 673, 'adapt': 674, 'within': 675, 'lose': 676, 'spend': 677, 'materi': 678, 'color': 679, 'chase': 680, 'mari': 681, 'storylin': 682, 'forget': 683, 'bunch': 684, 'clear': 685, 'lee': 686, 'victim': 687, 'nearli': 688, 'box': 689, 'york': 690, 'inspir': 691, 'match': 692, 'finish': 693, 'mess': 694, 'standard': 695, 'easi': 696, 'truth': 697, 'suffer': 698, 'busi': 699, 'bill': 700, 'dramat': 701, 'space': 702, 'western': 703, 'e': 704, 'list': 705, 'battl': 706, 'notic': 707, 'de': 708, 'french': 709, 'ad': 710, '9': 711, 'tom': 712, 'larg': 713, 'among': 714, 'eventu': 715, 'accept': 716, 'train': 717, 'agre': 718, 'soundtrack': 719, 'spirit': 720, 'third': 721, 'teenag': 722, 'soldier': 723, 'adventur': 724, 'sorri': 725, 'famou': 726, 'suggest': 727, 'drug': 728, 'cri': 729, 'babi': 730, 'normal': 731, 'troubl': 732, 'ultim': 733, 'contain': 734, 'certain': 735, 'cultur': 736, 'romanc': 737, 'rare': 738, 'lame': 739, 'somehow': 740, 'disney': 741, 'mix': 742, 'gone': 743, 'cartoon': 744, 'student': 745, 'reveal': 746, 'fear': 747, 'suck': 748, 'kept': 749, 'attract': 750, 'appeal': 751, 'premis': 752, 'greatest': 753, 'design': 754, 'secret': 755, 'shame': 756, 'throw': 757, 'copi': 758, 'scare': 759, 'wit': 760, 'admit': 761, 'america': 762, 'brought': 763, 'relat': 764, 'particular': 765, 'screenplay': 766, 'whatev': 767, 'pure': 768, '70': 769, 'harri': 770, 'averag': 771, 'master': 772, 'describ': 773, 'treat': 774, 'male': 775, '20': 776, 'issu': 777, 'fantasi': 778, 'warn': 779, 'inde': 780, 'forward': 781, 'background': 782, 'free': 783, 'project': 784, 'japanes': 785, 'memor': 786, 'poorli': 787, 'award': 788, 'locat': 789, 'potenti': 790, 'amus': 791, 'struggl': 792, 'magic': 793, 'weird': 794, 'societi': 795, 'okay': 796, 'accent': 797, 'doctor': 798, 'imdb': 799, 'hot': 800, 'water': 801, 'express': 802, '30': 803, 'dr': 804, 'alien': 805, 'odd': 806, 'choic': 807, 'crazi': 808, 'fiction': 809, 'studio': 810, 'becam': 811, 'control': 812, 'masterpiec': 813, 'difficult': 814, 'fli': 815, 'joe': 816, 'scream': 817, 'costum': 818, 'lover': 819, 'uniqu': 820, 'refer': 821, 'remak': 822, 'vampir': 823, 'girlfriend': 824, 'prison': 825, 'execut': 826, 'wear': 827, 'jump': 828, 'unless': 829, 'wood': 830, 'creepi': 831, 'cheesi': 832, 'superb': 833, 'otherwis': 834, 'parti': 835, 'ghost': 836, 'roll': 837, 'public': 838, 'mad': 839, 'depict': 840, 'earlier': 841, 'badli': 842, 'week': 843, 'moral': 844, 'jane': 845, 'dumb': 846, 'fi': 847, 'grow': 848, 'flaw': 849, 'deep': 850, 'sci': 851, 'cat': 852, 'maker': 853, 'footag': 854, 'connect': 855, 'older': 856, 'bother': 857, 'plenti': 858, 'outsid': 859, 'stick': 860, 'gay': 861, 'catch': 862, 'plu': 863, 'co': 864, 'popular': 865, 'equal': 866, 'social': 867, 'quickli': 868, 'disturb': 869, 'perfectli': 870, 'dress': 871, 'era': 872, '90': 873, 'mistak': 874, 'lie': 875, 'previou': 876, 'ride': 877, 'combin': 878, 'concept': 879, 'band': 880, 'answer': 881, 'rich': 882, 'surviv': 883, 'front': 884, 'sweet': 885, 'christma': 886, 'insid': 887, 'concern': 888, 'bare': 889, 'eat': 890, 'ben': 891, 'beat': 892, 'listen': 893, 'c': 894, 'term': 895, 'serv': 896, 'german': 897, 'meant': 898, 'la': 899, 'stereotyp': 900, 'hardli': 901, 'innoc': 902, 'law': 903, 'desper': 904, 'memori': 905, 'promis': 906, 'cute': 907, 'intent': 908, 'inform': 909, 'variou': 910, 'steal': 911, 'brain': 912, 'post': 913, 'tone': 914, 'island': 915, 'amount': 916, 'track': 917, 'compani': 918, 'nuditi': 919, 'claim': 920, 'store': 921, '50': 922, 'hair': 923, 'flat': 924, 'univers': 925, 'land': 926, 'scott': 927, 'danger': 928, 'kick': 929, 'fairli': 930, 'player': 931, 'step': 932, 'plain': 933, 'crew': 934, 'toni': 935, 'share': 936, 'tast': 937, 'centuri': 938, 'achiev': 939, 'engag': 940, 'cold': 941, 'travel': 942, 'suit': 943, 'rip': 944, 'record': 945, 'manner': 946, 'sadli': 947, 'spot': 948, 'tension': 949, 'wrote': 950, 'fascin': 951, 'intens': 952, 'familiar': 953, 'burn': 954, 'depth': 955, 'remark': 956, 'destroy': 957, 'histor': 958, 'sleep': 959, 'purpos': 960, 'languag': 961, 'ignor': 962, 'ruin': 963, 'delight': 964, 'unbeliev': 965, 'italian': 966, 'collect': 967, 'abil': 968, 'soul': 969, 'clever': 970, 'detect': 971, 'violent': 972, 'rape': 973, 'reach': 974, 'door': 975, 'liter': 976, 'scienc': 977, 'trash': 978, 'caught': 979, 'reveng': 980, 'commun': 981, 'creatur': 982, 'approach': 983, 'trip': 984, 'intrigu': 985, 'fashion': 986, 'introduc': 987, 'paint': 988, 'skill': 989, 'channel': 990, 'complex': 991, 'camp': 992, 'christian': 993, 'extra': 994, 'hole': 995, 'mental': 996, 'ann': 997, 'immedi': 998, 'limit': 999, 'comput': 1000, 'slightli': 1001, '6': 1002, 'million': 1003, 'mere': 1004, 'slasher': 1005, 'conclus': 1006, 'imposs': 1007, 'suddenli': 1008, 'teen': 1009, 'crimin': 1010, 'neither': 1011, 'nation': 1012, 'physic': 1013, 'spent': 1014, 'respons': 1015, 'planet': 1016, 'receiv': 1017, 'fake': 1018, 'blue': 1019, 'sick': 1020, 'bizarr': 1021, 'embarrass': 1022, 'indian': 1023, '15': 1024, 'ring': 1025, 'drop': 1026, 'pop': 1027, 'drag': 1028, 'haunt': 1029, 'pointless': 1030, 'suspect': 1031, 'search': 1032, 'edg': 1033, 'handl': 1034, 'common': 1035, 'biggest': 1036, 'faith': 1037, 'arriv': 1038, 'hurt': 1039, 'technic': 1040, 'angel': 1041, 'genuin': 1042, 'dad': 1043, 'solid': 1044, 'f': 1045, 'awesom': 1046, 'focu': 1047, 'former': 1048, 'colleg': 1049, 'van': 1050, 'count': 1051, 'heavi': 1052, 'tear': 1053, 'rais': 1054, 'wall': 1055, 'visit': 1056, 'laughabl': 1057, 'younger': 1058, 'excus': 1059, 'fair': 1060, 'sign': 1061, 'cult': 1062, 'motion': 1063, 'key': 1064, 'tough': 1065, 'desir': 1066, 'super': 1067, 'stun': 1068, 'addit': 1069, 'exploit': 1070, 'cloth': 1071, 'smith': 1072, 'tortur': 1073, 'race': 1074, 'davi': 1075, 'author': 1076, 'cross': 1077, 'jim': 1078, 'minor': 1079, 'consist': 1080, 'compel': 1081, 'focus': 1082, 'pathet': 1083, 'chemistri': 1084, 'commit': 1085, 'park': 1086, 'tradit': 1087, 'obsess': 1088, 'frank': 1089, 'grade': 1090, 'asid': 1091, '60': 1092, 'brutal': 1093, 'somewher': 1094, 'steve': 1095, 'explor': 1096, 'opportun': 1097, 'depress': 1098, 'u': 1099, 'grant': 1100, 'rule': 1101, 'honest': 1102, 'besid': 1103, 'anti': 1104, 'dub': 1105, 'intend': 1106, 'trailer': 1107, 'bar': 1108, 'west': 1109, 'longer': 1110, 'regard': 1111, 'scientist': 1112, 'judg': 1113, 'decad': 1114, 'silent': 1115, 'armi': 1116, 'creativ': 1117, 'wild': 1118, 'g': 1119, 'south': 1120, 'stewart': 1121, 'draw': 1122, 'road': 1123, 'govern': 1124, 'ex': 1125, 'boss': 1126, 'practic': 1127, 'club': 1128, 'motiv': 1129, 'surprisingli': 1130, 'festiv': 1131, 'gang': 1132, 'page': 1133, 'redeem': 1134, 'green': 1135, 'london': 1136, 'idiot': 1137, 'militari': 1138, 'machin': 1139, 'aliv': 1140, 'display': 1141, 'thrill': 1142, 'repeat': 1143, 'folk': 1144, 'yeah': 1145, 'nobodi': 1146, '100': 1147, '40': 1148, 'garbag': 1149, 'journey': 1150, 'ground': 1151, 'smile': 1152, 'tire': 1153, 'bought': 1154, 'mood': 1155, 'sam': 1156, 'cost': 1157, 'stone': 1158, 'mouth': 1159, 'noir': 1160, 'agent': 1161, 'terrif': 1162, 'requir': 1163, 'utterli': 1164, 'area': 1165, 'honestli': 1166, 'sexi': 1167, 'geniu': 1168, 'report': 1169, 'glad': 1170, 'enter': 1171, 'humour': 1172, 'investig': 1173, 'serial': 1174, 'passion': 1175, 'occasion': 1176, 'narr': 1177, 'climax': 1178, 'marriag': 1179, 'studi': 1180, 'industri': 1181, 'nowher': 1182, 'charli': 1183, 'center': 1184, 'demon': 1185, 'ship': 1186, 'hors': 1187, 'loos': 1188, 'bear': 1189, 'hang': 1190, 'wow': 1191, 'graphic': 1192, 'giant': 1193, 'admir': 1194, 'send': 1195, 'damn': 1196, 'loud': 1197, 'rel': 1198, 'subtl': 1199, 'nake': 1200, 'profession': 1201, 'blow': 1202, 'bottom': 1203, 'insult': 1204, 'batman': 1205, 'doubl': 1206, 'boyfriend': 1207, 'r': 1208, 'kelli': 1209, 'initi': 1210, 'frame': 1211, 'opera': 1212, 'gem': 1213, 'church': 1214, 'drawn': 1215, 'challeng': 1216, 'affect': 1217, 'cinemat': 1218, 'j': 1219, 'evid': 1220, 'fulli': 1221, 'l': 1222, 'nightmar': 1223, 'seek': 1224, 'essenti': 1225, 'arm': 1226, 'conflict': 1227, 'wind': 1228, 'grace': 1229, 'christoph': 1230, 'henri': 1231, 'narrat': 1232, 'assum': 1233, 'witch': 1234, 'push': 1235, 'hunt': 1236, 'chri': 1237, 'wise': 1238, 'repres': 1239, 'month': 1240, 'nomin': 1241, 'affair': 1242, 'avail': 1243, 'hide': 1244, 'sceneri': 1245, 'smart': 1246, 'thu': 1247, 'justic': 1248, 'bond': 1249, 'outstand': 1250, 'flashback': 1251, 'interview': 1252, 'presenc': 1253, 'satisfi': 1254, 'constantli': 1255, 'bed': 1256, 'central': 1257, 'iron': 1258, 'sell': 1259, 'content': 1260, 'everybodi': 1261, 'gag': 1262, 'slowli': 1263, 'hotel': 1264, 'hire': 1265, 'system': 1266, 'individu': 1267, 'thrown': 1268, 'adam': 1269, 'hey': 1270, 'charl': 1271, 'mediocr': 1272, 'jone': 1273, 'allen': 1274, 'lesson': 1275, 'billi': 1276, 'ray': 1277, 'cameo': 1278, 'photographi': 1279, 'fellow': 1280, 'pari': 1281, 'strike': 1282, 'rise': 1283, 'brief': 1284, 'absurd': 1285, 'independ': 1286, 'neg': 1287, 'impact': 1288, 'phone': 1289, 'ill': 1290, 'born': 1291, 'model': 1292, 'angl': 1293, 'fresh': 1294, 'spoil': 1295, 'likabl': 1296, 'abus': 1297, 'discuss': 1298, 'hill': 1299, 'sight': 1300, 'ahead': 1301, 'sent': 1302, 'photograph': 1303, 'logic': 1304, 'shine': 1305, 'blame': 1306, 'occur': 1307, 'mainli': 1308, 'bruce': 1309, 'skip': 1310, 'forev': 1311, 'commerci': 1312, 'surround': 1313, 'held': 1314, 'teacher': 1315, 'segment': 1316, 'zero': 1317, 'blond': 1318, 'summer': 1319, 'satir': 1320, 'trap': 1321, 'resembl': 1322, 'ball': 1323, 'six': 1324, 'fool': 1325, 'queen': 1326, 'twice': 1327, 'tragedi': 1328, 'sub': 1329, 'pack': 1330, 'reaction': 1331, 'bomb': 1332, 'will': 1333, 'hospit': 1334, 'protagonist': 1335, 'mile': 1336, 'sport': 1337, 'jerri': 1338, 'mom': 1339, 'vote': 1340, 'trust': 1341, 'drink': 1342, 'encount': 1343, 'plane': 1344, 'current': 1345, 'program': 1346, 'al': 1347, 'station': 1348, 'martin': 1349, 'choos': 1350, 'celebr': 1351, 'join': 1352, 'round': 1353, 'favourit': 1354, 'tragic': 1355, 'field': 1356, 'lord': 1357, 'vision': 1358, 'robot': 1359, 'jean': 1360, 'tie': 1361, 'arthur': 1362, 'random': 1363, 'fortun': 1364, 'roger': 1365, 'intern': 1366, 'psycholog': 1367, 'dread': 1368, 'nonsens': 1369, 'improv': 1370, 'prefer': 1371, 'epic': 1372, 'formula': 1373, 'pleasur': 1374, 'highlight': 1375, 'legend': 1376, 'tape': 1377, '11': 1378, 'dollar': 1379, 'fox': 1380, 'thin': 1381, 'object': 1382, 'porn': 1383, 'gorgeou': 1384, 'wide': 1385, 'influenc': 1386, 'buddi': 1387, 'ugli': 1388, 'ii': 1389, 'prepar': 1390, 'nasti': 1391, 'supposedli': 1392, 'warm': 1393, 'reflect': 1394, 'progress': 1395, 'worthi': 1396, 'youth': 1397, 'latter': 1398, 'length': 1399, 'unusu': 1400, 'crash': 1401, 'seven': 1402, 'superior': 1403, 'childhood': 1404, 'shop': 1405, 'theatr': 1406, 'remot': 1407, 'pilot': 1408, 'disgust': 1409, 'paid': 1410, 'funniest': 1411, 'fell': 1412, 'convers': 1413, 'trick': 1414, 'castl': 1415, 'establish': 1416, 'disast': 1417, 'gangster': 1418, 'rob': 1419, 'heaven': 1420, 'suicid': 1421, 'mine': 1422, 'ident': 1423, 'disappear': 1424, 'tend': 1425, 'forgotten': 1426, 'singer': 1427, 'decis': 1428, 'heroin': 1429, 'mask': 1430, 'brian': 1431, 'partner': 1432, 'recogn': 1433, 'alan': 1434, 'desert': 1435, 'p': 1436, 'thoroughli': 1437, 'sky': 1438, 'ms': 1439, 'stuck': 1440, 'accur': 1441, 'replac': 1442, 'market': 1443, 'seemingli': 1444, 'uncl': 1445, 'eddi': 1446, 'clue': 1447, 'danni': 1448, 'commentari': 1449, 'andi': 1450, 'jackson': 1451, 'devil': 1452, 'therefor': 1453, 'pair': 1454, 'that': 1455, 'refus': 1456, 'fate': 1457, 'ed': 1458, 'unit': 1459, 'fault': 1460, 'river': 1461, 'accid': 1462, 'afraid': 1463, 'tune': 1464, 'clean': 1465, 'russian': 1466, 'hidden': 1467, 'stephen': 1468, 'readi': 1469, 'instanc': 1470, 'irrit': 1471, 'convey': 1472, 'test': 1473, 'quick': 1474, 'captain': 1475, 'european': 1476, 'frustrat': 1477, 'insan': 1478, 'daniel': 1479, 'wed': 1480, 'rescu': 1481, 'chines': 1482, 'food': 1483, '1950': 1484, 'lock': 1485, 'dirti': 1486, 'angri': 1487, 'joy': 1488, 'price': 1489, 'steven': 1490, 'bland': 1491, 'cage': 1492, 'rang': 1493, 'anymor': 1494, 'wooden': 1495, 'news': 1496, 'rush': 1497, 'n': 1498, 'jason': 1499, 'led': 1500, '12': 1501, 'martial': 1502, 'twenti': 1503, 'board': 1504, 'worri': 1505, 'hunter': 1506, 'cgi': 1507, 'symbol': 1508, 'transform': 1509, 'sentiment': 1510, 'onto': 1511, 'piti': 1512, 'invent': 1513, 'johnni': 1514, 'x': 1515, 'process': 1516, 'explan': 1517, 'attitud': 1518, 'owner': 1519, 'awar': 1520, 'aim': 1521, 'favor': 1522, 'necessari': 1523, 'target': 1524, 'energi': 1525, 'floor': 1526, 'religi': 1527, 'opposit': 1528, 'window': 1529, 'blind': 1530, 'chick': 1531, 'insight': 1532, 'movement': 1533, 'possess': 1534, 'deepli': 1535, 'mountain': 1536, 'research': 1537, 'comparison': 1538, 'rain': 1539, 'grand': 1540, 'comed': 1541, 'whatsoev': 1542, 'shadow': 1543, 'mid': 1544, 'bank': 1545, 'began': 1546, 'princ': 1547, 'parodi': 1548, 'friendship': 1549, 'pre': 1550, 'weapon': 1551, 'credibl': 1552, 'taylor': 1553, 'flesh': 1554, 'teach': 1555, 'dougla': 1556, 'bloodi': 1557, 'terror': 1558, 'protect': 1559, 'hint': 1560, 'marvel': 1561, 'load': 1562, 'leader': 1563, 'accord': 1564, 'anybodi': 1565, 'drunk': 1566, 'superman': 1567, 'watchabl': 1568, 'brown': 1569, 'freddi': 1570, 'seat': 1571, 'jeff': 1572, 'appropri': 1573, 'tim': 1574, 'hitler': 1575, 'charg': 1576, 'villag': 1577, 'unknown': 1578, 'knock': 1579, 'keaton': 1580, 'media': 1581, 'unnecessari': 1582, 'empti': 1583, 'enemi': 1584, 'england': 1585, 'dare': 1586, 'perspect': 1587, 'craft': 1588, 'strength': 1589, 'wave': 1590, 'utter': 1591, 'buck': 1592, 'nativ': 1593, 'contrast': 1594, 'kiss': 1595, 'ford': 1596, 'correct': 1597, 'nazi': 1598, 'soap': 1599, 'anywher': 1600, 'distract': 1601, 'magnific': 1602, 'knowledg': 1603, 'speed': 1604, 'chill': 1605, '1980': 1606, 'fred': 1607, 'mission': 1608, 'ice': 1609, 'breath': 1610, 'jr': 1611, 'moon': 1612, 'crowd': 1613, 'joan': 1614, 'soft': 1615, 'frighten': 1616, '000': 1617, 'kate': 1618, 'nick': 1619, 'hundr': 1620, 'dan': 1621, 'dick': 1622, 'radio': 1623, 'dozen': 1624, 'somebodi': 1625, 'simon': 1626, 'thousand': 1627, 'loss': 1628, 'academi': 1629, 'shakespear': 1630, 'andrew': 1631, 'account': 1632, 'quot': 1633, 'root': 1634, 'sum': 1635, 'vehicl': 1636, 'behavior': 1637, 'convent': 1638, 'leg': 1639, '1970': 1640, 'regular': 1641, 'gold': 1642, 'compet': 1643, 'pretenti': 1644, 'demand': 1645, 'worker': 1646, 'stretch': 1647, 'explos': 1648, 'candi': 1649, 'interpret': 1650, 'japan': 1651, 'privat': 1652, 'notabl': 1653, 'lynch': 1654, 'debut': 1655, 'constant': 1656, 'tarzan': 1657, 'sea': 1658, 'revolv': 1659, 'prais': 1660, 'translat': 1661, 'spi': 1662, 'threaten': 1663, 'ass': 1664, 'failur': 1665, 'quiet': 1666, 'technolog': 1667, 'jesu': 1668, 'sat': 1669, 'franc': 1670, 'kevin': 1671, 'punch': 1672, 'higher': 1673, 'met': 1674, 'aid': 1675, 'toy': 1676, 'vh': 1677, 'mike': 1678, 'abandon': 1679, 'interact': 1680, 'command': 1681, 'bet': 1682, 'confront': 1683, 'separ': 1684, 'gotten': 1685, 'servic': 1686, 'techniqu': 1687, 'recal': 1688, 'belong': 1689, 'stunt': 1690, 'site': 1691, 'freak': 1692, 'cabl': 1693, 'bug': 1694, 'foot': 1695, 'capabl': 1696, 'jimmi': 1697, 'african': 1698, 'bright': 1699, 'fu': 1700, 'fat': 1701, 'succeed': 1702, 'presid': 1703, 'boat': 1704, 'clark': 1705, 'stock': 1706, 'spanish': 1707, 'gene': 1708, 'structur': 1709, 'paper': 1710, 'kidnap': 1711, 'belief': 1712, 'factor': 1713, 'whilst': 1714, 'complic': 1715, 'tree': 1716, 'attend': 1717, 'witti': 1718, 'realis': 1719, 'educ': 1720, 'realism': 1721, 'bob': 1722, 'finest': 1723, 'santa': 1724, 'assist': 1725, 'broken': 1726, 'up': 1727, 'determin': 1728, 'depart': 1729, 'smoke': 1730, 'observ': 1731, 'v': 1732, 'hat': 1733, 'fame': 1734, 'routin': 1735, 'domin': 1736, 'lewi': 1737, 'oper': 1738, 'rubbish': 1739, 'safe': 1740, 'lone': 1741, 'kinda': 1742, 'hook': 1743, 'advanc': 1744, 'morgan': 1745, 'foreign': 1746, 'rank': 1747, 'numer': 1748, 'civil': 1749, 'shallow': 1750, 'vs': 1751, 'werewolf': 1752, 'washington': 1753, 'rose': 1754, 'shape': 1755, 'gari': 1756, 'morn': 1757, 'ordinari': 1758, 'winner': 1759, 'kong': 1760, 'accomplish': 1761, 'grab': 1762, 'whenev': 1763, 'virtual': 1764, 'peac': 1765, 'luck': 1766, 'offens': 1767, 'h': 1768, 'patient': 1769, 'complain': 1770, 'welcom': 1771, 'unfunni': 1772, 'activ': 1773, 'bigger': 1774, 'contriv': 1775, 'con': 1776, 'dimension': 1777, 'pretend': 1778, 'trek': 1779, 'lesbian': 1780, 'wake': 1781, 'cain': 1782, 'code': 1783, 'eric': 1784, 'flash': 1785, 'dri': 1786, 'statu': 1787, 'dancer': 1788, 'corrupt': 1789, 'guard': 1790, 'albert': 1791, 'manipul': 1792, 'speech': 1793, 'sourc': 1794, 'gain': 1795, 'signific': 1796, 'awkward': 1797, 'context': 1798, 'clip': 1799, 'anthoni': 1800, '13': 1801, 'corni': 1802, 'sean': 1803, 'psycho': 1804, 'priest': 1805, 'religion': 1806, 'w': 1807, 'curiou': 1808, 'advic': 1809, 'reli': 1810, 'theatric': 1811, 'flow': 1812, 'addict': 1813, 'skin': 1814, 'specif': 1815, 'jennif': 1816, 'secur': 1817, 'asian': 1818, 'howard': 1819, 'golden': 1820, 'luke': 1821, 'promot': 1822, 'comfort': 1823, 'organ': 1824, 'core': 1825, 'lucki': 1826, 'cheat': 1827, 'cash': 1828, 'associ': 1829, 'lower': 1830, 'dislik': 1831, 'degre': 1832, 'devic': 1833, 'regret': 1834, 'contribut': 1835, 'frequent': 1836, 'frankli': 1837, 'spell': 1838, 'wing': 1839, 'balanc': 1840, 'forgiv': 1841, 'print': 1842, 'sake': 1843, 'lake': 1844, 'thoma': 1845, 'mass': 1846, 'betti': 1847, 'crack': 1848, 'gordon': 1849, 'unexpect': 1850, 'invit': 1851, 'grown': 1852, 'categori': 1853, 'construct': 1854, 'depend': 1855, 'amateur': 1856, 'unfold': 1857, 'honor': 1858, 'condit': 1859, 'matur': 1860, 'intellectu': 1861, 'grew': 1862, 'anna': 1863, 'walter': 1864, 'sudden': 1865, 'mirror': 1866, 'veteran': 1867, 'spectacular': 1868, 'sole': 1869, 'freedom': 1870, 'overli': 1871, 'card': 1872, 'gift': 1873, 'experienc': 1874, 'robin': 1875, 'grip': 1876, 'liner': 1877, 'demonstr': 1878, 'meanwhil': 1879, 'subtitl': 1880, 'oliv': 1881, 'colour': 1882, 'section': 1883, 'sheriff': 1884, 'brilliantli': 1885, 'circumst': 1886, 'unabl': 1887, 'theori': 1888, 'crappi': 1889, 'drew': 1890, 'cook': 1891, 'pile': 1892, 'parker': 1893, 'laughter': 1894, 'sheer': 1895, 'matt': 1896, 'altern': 1897, 'path': 1898, 'defin': 1899, 'wander': 1900, 'treatment': 1901, 'relief': 1902, 'lawyer': 1903, 'hall': 1904, 'accident': 1905, 'sinatra': 1906, 'dragon': 1907, 'captiv': 1908, 'hank': 1909, 'moor': 1910, 'gratuit': 1911, 'halloween': 1912, 'jacki': 1913, 'wayn': 1914, 'k': 1915, 'kung': 1916, 'barbara': 1917, 'cowboy': 1918, 'wound': 1919, 'broadway': 1920, 'unintent': 1921, 'spoof': 1922, 'surreal': 1923, 'canadian': 1924, 'statement': 1925, 'winter': 1926, 'cheer': 1927, 'compos': 1928, 'fish': 1929, 'treasur': 1930, 'gonna': 1931, 'fare': 1932, 'unrealist': 1933, 'victor': 1934, 'emerg': 1935, 'woodi': 1936, 'sensit': 1937, 'driven': 1938, 'neighbor': 1939, 'ran': 1940, 'sympathet': 1941, 'overlook': 1942, 'topic': 1943, 'expos': 1944, 'menac': 1945, 'authent': 1946, 'glass': 1947, 'chief': 1948, 'gross': 1949, 'michel': 1950, 'ancient': 1951, 'handsom': 1952, 'comedian': 1953, 'nevertheless': 1954, 'cinderella': 1955, 'contemporari': 1956, 'network': 1957, 'pleasant': 1958, 'russel': 1959, 'built': 1960, 'feet': 1961, 'stranger': 1962, 'letter': 1963, 'miser': 1964, 'endless': 1965, 'earn': 1966, 'blockbust': 1967, 'gori': 1968, 'consider': 1969, 'underr': 1970, 'brook': 1971, 'solv': 1972, 'switch': 1973, 'virgin': 1974, 'convict': 1975, 'edward': 1976, 'victoria': 1977, 'bullet': 1978, 'joseph': 1979, 'alex': 1980, 'chosen': 1981, 'scenario': 1982, 'cynic': 1983, '0': 1984, 'scale': 1985, 'com': 1986, 'gut': 1987, 'sword': 1988, 'curs': 1989, 'outrag': 1990, 'uk': 1991, 'proper': 1992, 'monkey': 1993, 'driver': 1994, 'juli': 1995, 'wrap': 1996, 'screenwrit': 1997, 'substanc': 1998, 'court': 1999, 'indic': 2000, 'remov': 2001, 'bird': 2002, 'par': 2003, 'roy': 2004, 'loser': 2005, 'inevit': 2006, 'advertis': 2007, 'nanci': 2008, 'grave': 2009, 'consequ': 2010, 'rental': 2011, 'naiv': 2012, 'invis': 2013, 'fatal': 2014, 'germani': 2015, 'brave': 2016, 'slap': 2017, 'bridg': 2018, 'le': 2019, 'provok': 2020, 'loui': 2021, 'anger': 2022, 'ador': 2023, 'footbal': 2024, 'anderson': 2025, 'alcohol': 2026, 'chan': 2027, 'ryan': 2028, 'stumbl': 2029, 'willi': 2030, 'professor': 2031, '1930': 2032, 'australian': 2033, 'patrick': 2034, 'sharp': 2035, 'assassin': 2036, 'bat': 2037, 'deni': 2038, 'cell': 2039, 'strongli': 2040, 'amateurish': 2041, 'lousi': 2042, 'trilog': 2043, 'heck': 2044, 'liber': 2045, 'refresh': 2046, 'eight': 2047, 'saturday': 2048, 'ape': 2049, 'sin': 2050, 'san': 2051, 'resid': 2052, 'justifi': 2053, 'vagu': 2054, 'mini': 2055, 'terrifi': 2056, 'reput': 2057, 'defeat': 2058, 'sympathi': 2059, 'creator': 2060, 'indi': 2061, 'endur': 2062, 'tabl': 2063, 'prevent': 2064, 'task': 2065, 'tediou': 2066, 'expert': 2067, 'basebal': 2068, 'trial': 2069, 'offend': 2070, 'imit': 2071, 'rival': 2072, 'employ': 2073, 'che': 2074, 'complaint': 2075, 'beach': 2076, 'dig': 2077, 'max': 2078, 'pitch': 2079, 'weekend': 2080, 'europ': 2081, 'fairi': 2082, 'risk': 2083, 'murphi': 2084, 'format': 2085, 'purchas': 2086, 'harsh': 2087, 'nois': 2088, 'powel': 2089, 'bite': 2090, 'hype': 2091, 'glimps': 2092, 'reminisc': 2093, 'tini': 2094, 'titan': 2095, 'till': 2096, 'asleep': 2097, 'strip': 2098, '14': 2099, 'north': 2100, 'fals': 2101, 'prime': 2102, 'revel': 2103, 'descript': 2104, 'destruct': 2105, 'texa': 2106, 'africa': 2107, 'inner': 2108, 'spin': 2109, 'arrest': 2110, 'excess': 2111, 'uninterest': 2112, 'sitcom': 2113, 'semi': 2114, 'surfac': 2115, 'maintain': 2116, 'argu': 2117, 'controversi': 2118, 'dinosaur': 2119, 'massiv': 2120, 'twin': 2121, 'makeup': 2122, 'hitchcock': 2123, 'ideal': 2124, 'reject': 2125, 'kim': 2126, 'melodrama': 2127, 'expens': 2128, 'stare': 2129, 'ludicr': 2130, 'insist': 2131, 'supernatur': 2132, 'ala': 2133, 'ga': 2134, 'nail': 2135, 'atroci': 2136, 'erot': 2137, 'forest': 2138, 'host': 2139, 'subplot': 2140, 'press': 2141, 'columbo': 2142, 'notch': 2143, 'cant': 2144, 'presum': 2145, 'dude': 2146, 'identifi': 2147, 'guest': 2148, 'character': 2149, 'forgett': 2150, 'plagu': 2151, 'crude': 2152, 'closer': 2153, 'method': 2154, 'beast': 2155, 'landscap': 2156, 'ear': 2157, 'border': 2158, 'lion': 2159, 'foster': 2160, 'princess': 2161, 'accus': 2162, 'bound': 2163, 'birth': 2164, 'storytel': 2165, 'previous': 2166, 'aunt': 2167, 'jungl': 2168, 'urban': 2169, 'pacino': 2170, 'damag': 2171, 'propaganda': 2172, 'doll': 2173, 'thirti': 2174, 'guid': 2175, 'nude': 2176, 'chose': 2177, 'emma': 2178, 'jess': 2179, '25': 2180, 'warrior': 2181, 'whoever': 2182, 'mainstream': 2183, 'pet': 2184, 'mate': 2185, 'merit': 2186, 'exact': 2187, 'gritti': 2188, 'poster': 2189, 'latest': 2190, 'deadli': 2191, 'friday': 2192, 'cooper': 2193, 'upset': 2194, 'size': 2195, 'settl': 2196, 'warner': 2197, 'blend': 2198, 'contact': 2199, 'wilson': 2200, 'buff': 2201, '1990': 2202, 'sun': 2203, 'popul': 2204, 'ton': 2205, 'rough': 2206, 'citizen': 2207, 'corps': 2208, 'contest': 2209, 'overcom': 2210, 'widow': 2211, 'rat': 2212, 'select': 2213, 'alic': 2214, 'metal': 2215, 'pitt': 2216, 'bu': 2217, 'environ': 2218, 'mgm': 2219, 'lift': 2220, 'ted': 2221, 'revolut': 2222, 'particip': 2223, 'guilti': 2224, 'link': 2225, 'matrix': 2226, 'corner': 2227, 'accompani': 2228, 'corpor': 2229, 'moron': 2230, 'afternoon': 2231, 'prostitut': 2232, '1960': 2233, 'exagger': 2234, 'johnson': 2235, 'multipl': 2236, 'sincer': 2237, 'instal': 2238, 'doom': 2239, 'friendli': 2240, 'holm': 2241, 'leagu': 2242, 'clair': 2243, 'hood': 2244, 'string': 2245, 'hip': 2246, 'defend': 2247, 'advis': 2248, 'irish': 2249, 'grim': 2250, 'junk': 2251, 'examin': 2252, 'campi': 2253, 'aka': 2254, 'sunday': 2255, 'lugosi': 2256, 'blah': 2257, 'shake': 2258, 'icon': 2259, 'shut': 2260, 'confid': 2261, 'rachel': 2262, 'varieti': 2263, 'tight': 2264, 'pro': 2265, 'denni': 2266, 'attach': 2267, 'medic': 2268, 'mexican': 2269, 'directli': 2270, 'jaw': 2271, 'goal': 2272, 'sullivan': 2273, 'courag': 2274, 'vietnam': 2275, 'sarah': 2276, 'legendari': 2277, 'breast': 2278, 'sentenc': 2279, 'duke': 2280, 'prior': 2281, 'bourn': 2282, 'dean': 2283, 'truck': 2284, 'terrorist': 2285, 'entri': 2286, 'donald': 2287, 'behav': 2288, 'proceed': 2289, 'nose': 2290, 'un': 2291, 'split': 2292, 'hong': 2293, 'yell': 2294, 'unconvinc': 2295, 'confess': 2296, 'borrow': 2297, 'stolen': 2298, 'gather': 2299, 'swim': 2300, 'buri': 2301, 'everywher': 2302, 'forth': 2303, 'lifetim': 2304, 'concentr': 2305, 'crush': 2306, 'jerk': 2307, 'lip': 2308, 'pan': 2309, 'julia': 2310, 'deliveri': 2311, 'turkey': 2312, 'california': 2313, 'spite': 2314, 'downright': 2315, 'china': 2316, 'proud': 2317, 'offici': 2318, 'hoffman': 2319, 'reward': 2320, 'flight': 2321, 'quest': 2322, 'freeman': 2323, 'betray': 2324, 'jail': 2325, 'inept': 2326, 'sink': 2327, 'lazi': 2328, 'sir': 2329, 'worthwhil': 2330, 'encourag': 2331, 'fabul': 2332, 'fade': 2333, 'jon': 2334, 'notori': 2335, 'imageri': 2336, 'survivor': 2337, 'storm': 2338, 'relev': 2339, 'shower': 2340, 'lisa': 2341, 'branagh': 2342, 'susan': 2343, 'bell': 2344, 'cousin': 2345, 'bag': 2346, 'teeth': 2347, 'retard': 2348, 'trade': 2349, 'alright': 2350, 'summari': 2351, 'finger': 2352, 'quirki': 2353, 'facial': 2354, 'stab': 2355, 'tremend': 2356, 'shark': 2357, 'toler': 2358, 'mexico': 2359, 'hugh': 2360, 'bride': 2361, 'ha': 2362, 'von': 2363, 'bitter': 2364, 'hyster': 2365, 'blown': 2366, 'pose': 2367, 'cruel': 2368, 'larri': 2369, 'afterward': 2370, 'scheme': 2371, 'bone': 2372, 'ned': 2373, 'ron': 2374, 'christ': 2375, 'address': 2376, 'screw': 2377, 'tour': 2378, 'swear': 2379, 'thumb': 2380, 'snake': 2381, 'distinct': 2382, 'pursu': 2383, 'beg': 2384, 'traci': 2385, 'feed': 2386, 'occas': 2387, 'obscur': 2388, 'raw': 2389, 'stomach': 2390, 'mechan': 2391, 'chair': 2392, 'photo': 2393, 'chain': 2394, 'necessarili': 2395, 'hardi': 2396, 'heavili': 2397, 'argument': 2398, 'gruesom': 2399, 'cabin': 2400, 'sidney': 2401, 'resist': 2402, 'render': 2403, 'holiday': 2404, 'southern': 2405, 'understood': 2406, 'philip': 2407, 'racist': 2408, 'satan': 2409, 'india': 2410, 'indulg': 2411, 'integr': 2412, 'obnoxi': 2413, 'belov': 2414, 'midnight': 2415, 'outfit': 2416, 'lay': 2417, 'fourth': 2418, 'forgot': 2419, 'pregnant': 2420, 'tongu': 2421, 'stalk': 2422, 'magazin': 2423, 'carol': 2424, 'slapstick': 2425, '17': 2426, 'ticket': 2427, 'restor': 2428, 'deeper': 2429, 'garden': 2430, 'inhabit': 2431, 'lincoln': 2432, 'devot': 2433, 'incid': 2434, 'shoe': 2435, 'brad': 2436, 'disbelief': 2437, 'benefit': 2438, 'guarante': 2439, 'lili': 2440, 'divorc': 2441, 'maria': 2442, 'anticip': 2443, 'elizabeth': 2444, 'underground': 2445, 'sandler': 2446, 'mildli': 2447, 'creation': 2448, 'amazingli': 2449, 'greater': 2450, 'princip': 2451, 'cring': 2452, 'slave': 2453, 'explod': 2454, 'capit': 2455, 'bbc': 2456, 'halfway': 2457, 'introduct': 2458, 'extraordinari': 2459, 'lesli': 2460, 'funnier': 2461, 'text': 2462, 'enhanc': 2463, 'punish': 2464, 'extent': 2465, 'overwhelm': 2466, 'wreck': 2467, 'tap': 2468, 'advantag': 2469, 'transfer': 2470, 'error': 2471, 'preview': 2472, 'jessica': 2473, 'horrif': 2474, 'dynam': 2475, 'lane': 2476, 'deliber': 2477, 'plant': 2478, 'east': 2479, 'lo': 2480, 'appli': 2481, 'miscast': 2482, 'basi': 2483, 'ensu': 2484, 'miller': 2485, 'sophist': 2486, 'vacat': 2487, '2000': 2488, 'vincent': 2489, 'homosexu': 2490, 'sleazi': 2491, 'via': 2492, 'elev': 2493, 'extend': 2494, 'bollywood': 2495, 'measur': 2496, 'steel': 2497, 'spoken': 2498, 'uncomfort': 2499, 'mansion': 2500, 'reed': 2501, 'cathol': 2502, 'mous': 2503, 'daili': 2504, 'assign': 2505, 'beer': 2506, 'breathtak': 2507, 'fix': 2508, 'alter': 2509, 'savag': 2510, 'blair': 2511, 'conceiv': 2512, 'stanley': 2513, 'dentist': 2514, 'hippi': 2515, 'goofi': 2516, 'melt': 2517, 'overact': 2518, 'nowaday': 2519, 'inspector': 2520, 'sacrific': 2521, 'succe': 2522, 'oppos': 2523, 'subsequ': 2524, 'everyday': 2525, 'properli': 2526, 'burt': 2527, 'carpent': 2528, 'neck': 2529, 'massacr': 2530, 'block': 2531, 'laura': 2532, 'circl': 2533, 'lesser': 2534, 'grey': 2535, 'fallen': 2536, 'access': 2537, 'pool': 2538, 'concert': 2539, 'seagal': 2540, 'mob': 2541, 'christi': 2542, 'portrait': 2543, 'fay': 2544, 'sinist': 2545, 'competit': 2546, 'usa': 2547, 'chees': 2548, 'isol': 2549, 'jewish': 2550, 'relax': 2551, 'react': 2552, 'jake': 2553, 'appal': 2554, 'spiritu': 2555, 'lyric': 2556, 'suitabl': 2557, 'ironi': 2558, '2006': 2559, 'nine': 2560, 'chop': 2561, 'nonetheless': 2562, 'stink': 2563, 'creep': 2564, 'immens': 2565, 'navi': 2566, 'retir': 2567, 'sold': 2568, 'adopt': 2569, 'spring': 2570, 'reduc': 2571, 'showcas': 2572, 'luci': 2573, 'needless': 2574, 'shirt': 2575, 'franchis': 2576, 'user': 2577, 'rage': 2578, 'nut': 2579, 'bath': 2580, 'uninspir': 2581, 'jay': 2582, 'bulli': 2583, 'per': 2584, 'asham': 2585, 'digit': 2586, 'nurs': 2587, 'zone': 2588, 'stanwyck': 2589, 'amongst': 2590, 'oddli': 2591, 'broadcast': 2592, 'sutherland': 2593, 'upper': 2594, '1940': 2595, 'laid': 2596, 'illustr': 2597, '2001': 2598, 'throat': 2599, 'baker': 2600, 'brando': 2601, 'stylish': 2602, 'fulfil': 2603, 'aspir': 2604, 'disguis': 2605, 'em': 2606, 'impli': 2607, 'neighborhood': 2608, 'pound': 2609, '18': 2610, 'endear': 2611, 'thief': 2612, 'pride': 2613, 'wanna': 2614, 'nobl': 2615, 'wwii': 2616, 'diseas': 2617, 'tens': 2618, 'shift': 2619, 'cinematograph': 2620, 'distribut': 2621, '16': 2622, 'coher': 2623, 'prop': 2624, 'albeit': 2625, 'bett': 2626, 'dawn': 2627, 'dinner': 2628, 'bo': 2629, 'shoulder': 2630, 'rochest': 2631, 'snow': 2632, 'forti': 2633, 'surf': 2634, 'function': 2635, 'silenc': 2636, 'wash': 2637, 'shout': 2638, 'rebel': 2639, 'knife': 2640, 'contract': 2641, 'poignant': 2642, 'matthau': 2643, 'internet': 2644, 'proof': 2645, 'cannib': 2646, 'heat': 2647, 'reunion': 2648, 'horrend': 2649, 'derek': 2650, 'cancel': 2651, 'elvira': 2652, 'widmark': 2653, 'height': 2654, 'instinct': 2655, 'eeri': 2656, 'silver': 2657, 'mindless': 2658, 'henc': 2659, 'chuck': 2660, 'duti': 2661, 'repetit': 2662, 'etern': 2663, 'musician': 2664, 'premier': 2665, 'absorb': 2666, 'neat': 2667, 'greatli': 2668, 'alik': 2669, 'pie': 2670, 'mill': 2671, 'spielberg': 2672, 'incoher': 2673, 'torn': 2674, 'elvi': 2675, 'innov': 2676, 'glori': 2677, 'burton': 2678, 'bang': 2679, 'announc': 2680, 'nelson': 2681, 'lovabl': 2682, 'infam': 2683, 'redempt': 2684, 'crisi': 2685, 'wealthi': 2686, 'horrifi': 2687, 'fbi': 2688, 'precis': 2689, 'homag': 2690, 'racism': 2691, 'blank': 2692, 'itali': 2693, 'diamond': 2694, 'trite': 2695, 'britain': 2696, 'flop': 2697, 'happili': 2698, 'hammer': 2699, 'ensembl': 2700, 'wilder': 2701, 'parallel': 2702, 'dedic': 2703, 'resolut': 2704, 'helen': 2705, 'pat': 2706, 'chaplin': 2707, 'streisand': 2708, 'triumph': 2709, 'broke': 2710, 'st': 2711, 'oil': 2712, 'disagre': 2713, 'conclud': 2714, 'factori': 2715, 'plastic': 2716, 'mar': 2717, 'carter': 2718, 'cube': 2719, 'chuckl': 2720, 'climb': 2721, 'weight': 2722, 'bush': 2723, 'rocket': 2724, 'fighter': 2725, 'own': 2726, 'vega': 2727, 'row': 2728, 'march': 2729, 'spare': 2730, 'lust': 2731, 'unforgett': 2732, 'mst3k': 2733, 'meaning': 2734, 'dump': 2735, 'kurt': 2736, 'dane': 2737, 'sensibl': 2738, 'boot': 2739, 'luca': 2740, 'wherea': 2741, 'thug': 2742, 'enorm': 2743, 'caricatur': 2744, 'arnold': 2745, 'butt': 2746, 'engin': 2747, 'rap': 2748, 'difficulti': 2749, 'brand': 2750, 'fifti': 2751, 'adequ': 2752, 'karloff': 2753, 'dear': 2754, 'threat': 2755, 'bobbi': 2756, 'stress': 2757, 'fest': 2758, 'journalist': 2759, 'flynn': 2760, 'hamlet': 2761, 'polish': 2762, 'ralph': 2763, 'barri': 2764, 'arrog': 2765, 'elabor': 2766, 'ego': 2767, 'swing': 2768, 'secretari': 2769, 'homeless': 2770, 'simpson': 2771, 'puppet': 2772, 'conspiraci': 2773, 'fanci': 2774, 'float': 2775, 'tool': 2776, 'arrang': 2777, 'grate': 2778, 'unbear': 2779, 'spike': 2780, 'induc': 2781, 'resort': 2782, 'exercis': 2783, 'choreograph': 2784, 'phillip': 2785, 'guilt': 2786, 'boll': 2787, 'pig': 2788, 'cruis': 2789, 'basement': 2790, 'tribut': 2791, 'muppet': 2792, 'file': 2793, 'slip': 2794, 'editor': 2795, 'medium': 2796, 'fianc': 2797, '24': 2798, 'tower': 2799, 'layer': 2800, 'babe': 2801, 'toilet': 2802, 'korean': 2803, 'document': 2804, 'ward': 2805, 'item': 2806, 'stan': 2807, 'ham': 2808, 'puzzl': 2809, 'scarecrow': 2810, 'larger': 2811, 'glover': 2812, 'transit': 2813, 'librari': 2814, 'superfici': 2815, 'persona': 2816, 'philosoph': 2817, 'assur': 2818, 'portion': 2819, 'denzel': 2820, 'slaughter': 2821, 'minim': 2822, 'spark': 2823, 'inexplic': 2824, 'orient': 2825, 'catherin': 2826, 'territori': 2827, 'doc': 2828, 'wolf': 2829, 'ban': 2830, 'walken': 2831, 'financi': 2832, 'jet': 2833, 'owe': 2834, 'pg': 2835, 'shi': 2836, 'boredom': 2837, 'jeremi': 2838, 'sneak': 2839, 'curti': 2840, 'dorothi': 2841, 'metaphor': 2842, 'multi': 2843, 'profound': 2844, 'eleph': 2845, 'backdrop': 2846, 'hudson': 2847, 'ambigu': 2848, 'cusack': 2849, 'whale': 2850, 'implaus': 2851, 'ultra': 2852, 'rave': 2853, 'birthday': 2854, 'elsewher': 2855, '2005': 2856, 'gadget': 2857, 'hack': 2858, 'stiff': 2859, 'notion': 2860, 'union': 2861, 'viru': 2862, 'hawk': 2863, 'afford': 2864, 'deriv': 2865, 'distanc': 2866, 'newspap': 2867, 'lloyd': 2868, 'poison': 2869, 'urg': 2870, 'reader': 2871, 'canada': 2872, 'slight': 2873, 'superhero': 2874, 'disc': 2875, 'eva': 2876, 'pad': 2877, 'bibl': 2878, 'eastwood': 2879, '1st': 2880, 'squar': 2881, 'sadist': 2882, 'spread': 2883, 'montag': 2884, 'essenc': 2885, 'drown': 2886, 'cure': 2887, 'heston': 2888, 'huh': 2889, 'charisma': 2890, 'skit': 2891, 'health': 2892, 'restaur': 2893, 'button': 2894, 'fetch': 2895, 'gradual': 2896, 'maniac': 2897, 'dealt': 2898, 'peak': 2899, 'estat': 2900, 'godfath': 2901, 'invest': 2902, 'muslim': 2903, 'companion': 2904, 'lab': 2905, 'scoobi': 2906, 'ritter': 2907, 'cup': 2908, 'subtleti': 2909, 'kane': 2910, 'countless': 2911, 'servant': 2912, 'tea': 2913, 'gothic': 2914, 'alli': 2915, 'miik': 2916, 'elect': 2917, 'briefli': 2918, 'charismat': 2919, 'heroic': 2920, 'salli': 2921, 'iii': 2922, 'electr': 2923, 'tender': 2924, 'admittedli': 2925, 'ingredi': 2926, 'nuanc': 2927, 'resourc': 2928, 'wannab': 2929, 'bud': 2930, 'toss': 2931, 'reel': 2932, 'grandmoth': 2933, 'neil': 2934, 'cole': 2935, 'dawson': 2936, 'shall': 2937, 'pit': 2938, 'poverti': 2939, 'gate': 2940, 'mild': 2941, 'kubrick': 2942, 'stronger': 2943, 'mafia': 2944, 'reev': 2945, 'punk': 2946, 'label': 2947, 'stood': 2948, 'pauli': 2949, 'carrey': 2950, 'fond': 2951, 'burst': 2952, 'useless': 2953, 'updat': 2954, 'outcom': 2955, 'smooth': 2956, 'tag': 2957, 'terri': 2958, 'assault': 2959, 'bakshi': 2960, 'cardboard': 2961, 'cox': 2962, 'astair': 2963, 'easier': 2964, 'smash': 2965, 'ian': 2966, 'exchang': 2967, 'increasingli': 2968, 'rex': 2969, 'fist': 2970, 'vari': 2971, 'divers': 2972, 'sketch': 2973, '2002': 2974, 'coincid': 2975, 'vulner': 2976, 'qualifi': 2977, 'samurai': 2978, 'resolv': 2979, 'melodramat': 2980, 'insert': 2981, 'tame': 2982, 'brillianc': 2983, 'blast': 2984, 'luckili': 2985, 'be': 2986, 'scratch': 2987, 'reynold': 2988, 'templ': 2989, 'conveni': 2990, 'suspend': 2991, 'nuclear': 2992, 'strictli': 2993, 'pin': 2994, 'gotta': 2995, 'walker': 2996, 'farm': 2997, 'ambiti': 2998, 'coach': 2999, 'seventi': 3000, 'jami': 3001, 'matthew': 3002, 'hamilton': 3003, 'fisher': 3004, 'soprano': 3005, 'meat': 3006, 'worthless': 3007, 'kudo': 3008, 'clock': 3009, 'instantli': 3010, 'eccentr': 3011, 'joey': 3012, 'monk': 3013, 'empir': 3014, 'closet': 3015, 'revers': 3016, 'convolut': 3017, 'struck': 3018, 'timeless': 3019, 'spooki': 3020, 'butcher': 3021, 'grasp': 3022, 'ninja': 3023, 'discoveri': 3024, 'cave': 3025, 'brosnan': 3026, 'recreat': 3027, 'importantli': 3028, 'gray': 3029, 'cliff': 3030, 'inconsist': 3031, 'bleak': 3032, 'selfish': 3033, 'partli': 3034, 'sloppi': 3035, 'eighti': 3036, 'mitchel': 3037, 'sidekick': 3038, 'miracl': 3039, 'evok': 3040, 'pal': 3041, 'clown': 3042, 'wipe': 3043, 'fifteen': 3044, 'seller': 3045, 'communist': 3046, 'norman': 3047, 'declar': 3048, 'chew': 3049, 'debat': 3050, 'websit': 3051, 'psychiatrist': 3052, 'farc': 3053, 'superbl': 3054, 'lifestyl': 3055, 'ho': 3056, 'cheek': 3057, 'enthusiast': 3058, 'flawless': 3059, 'aforement': 3060, 'seed': 3061, 'stoog': 3062, 'australia': 3063, 'piano': 3064, 'destin': 3065, '45': 3066, 'bash': 3067, 'directori': 3068, 'kitchen': 3069, 'slice': 3070, 'pressur': 3071, 'akshay': 3072, 'wick': 3073, 'emili': 3074, 'dire': 3075, 'wrestl': 3076, 'drivel': 3077, 'regardless': 3078, 'anni': 3079, 'dash': 3080, 'incompet': 3081, 'soviet': 3082, 'splatter': 3083, 'abc': 3084, 'curios': 3085, 'boil': 3086, 'increas': 3087, 'recov': 3088, 'artifici': 3089, 'jar': 3090, 'lou': 3091, 'blob': 3092, 'dave': 3093, 'seduc': 3094, 'chapter': 3095, 'cameron': 3096, 'distant': 3097, 'suppli': 3098, 'prize': 3099, 'glow': 3100, 'mann': 3101, 'ken': 3102, 'pleasantli': 3103, 'helicopt': 3104, 'flower': 3105, 'beaten': 3106, 'duo': 3107, 'cia': 3108, 'cagney': 3109, 'judi': 3110, 'doo': 3111, 'goldberg': 3112, 'francisco': 3113, 'psychot': 3114, 'combat': 3115, 'hop': 3116, 'glenn': 3117, 'ranger': 3118, 'ellen': 3119, 'favour': 3120, 'splendid': 3121, 'eleg': 3122, 'drunken': 3123, 'web': 3124, 'perri': 3125, 'laurel': 3126, 'craig': 3127, 'turner': 3128, 'panic': 3129, 'craven': 3130, 'rid': 3131, 'alexand': 3132, 'flip': 3133, 'hatr': 3134, 'shortli': 3135, 'min': 3136, 'graduat': 3137, 'wizard': 3138, 'fx': 3139, 'gentl': 3140, 'greek': 3141, 'ruth': 3142, 'gandhi': 3143, 'slightest': 3144, 'philosophi': 3145, 'falk': 3146, 'plausibl': 3147, '20th': 3148, 'modesti': 3149, 'knight': 3150, 'manhattan': 3151, 'legal': 3152, 'tall': 3153, 'lend': 3154, 'jealou': 3155, 'holi': 3156, 'futurist': 3157, 'felix': 3158, 'dracula': 3159, 'harm': 3160, 'ocean': 3161, 'fund': 3162, 'preciou': 3163, 'unpleas': 3164, 'we': 3165, 'thread': 3166, 'mock': 3167, 'bless': 3168, 'ami': 3169, 'digniti': 3170, 'nod': 3171, 'forbidden': 3172, 'reviv': 3173, 'overdon': 3174, 'giallo': 3175, 'childish': 3176, 'explicit': 3177, 'scientif': 3178, 'tank': 3179, 'thick': 3180, '99': 3181, 'yesterday': 3182, 'margaret': 3183, 'awe': 3184, '2004': 3185, 'mel': 3186, 'unwatch': 3187, 'repeatedli': 3188, 'nerv': 3189, 'fever': 3190, 'eve': 3191, 'elderli': 3192, 'broad': 3193, 'pirat': 3194, 'awaken': 3195, 'verhoeven': 3196, 'torment': 3197, 'acclaim': 3198, 'custom': 3199, 'royal': 3200, 'ambit': 3201, 'automat': 3202, 'politician': 3203, 'uniform': 3204, 'bin': 3205, 'launch': 3206, 'publish': 3207, 'timothi': 3208, 'rivet': 3209, 'roman': 3210, 'lean': 3211, 'kay': 3212, 'eas': 3213, 'stiller': 3214, 'ah': 3215, 'romero': 3216, 'griffith': 3217, 'absenc': 3218, 'antic': 3219, 'phrase': 3220, 'transport': 3221, 'gabriel': 3222, 'bathroom': 3223, 'homicid': 3224, 'stinker': 3225, 'crook': 3226, 'purpl': 3227, 'pulp': 3228, 'termin': 3229, 'foul': 3230, 'sunshin': 3231, 'pierc': 3232, 'warren': 3233, 'darker': 3234, 'wallac': 3235, 'tomato': 3236, 'hollow': 3237, 'rambo': 3238, 'karen': 3239, 'prom': 3240, 'juvenil': 3241, 'packag': 3242, 'kenneth': 3243, 'horrid': 3244, 'awak': 3245, 'li': 3246, '2003': 3247, 'contrari': 3248, 'eyr': 3249, 'evolv': 3250, 'q': 3251, 'album': 3252, 'marin': 3253, 'brazil': 3254, 'pray': 3255, 'donna': 3256, 'choreographi': 3257, 'coloni': 3258, 'ought': 3259, 'saint': 3260, 'sixti': 3261, 'viciou': 3262, 'revolutionari': 3263, 'defi': 3264, 'overr': 3265, 'ireland': 3266, 'nerd': 3267, 'conserv': 3268, 'kapoor': 3269, 'dose': 3270, 'boast': 3271, 'twelv': 3272, 'option': 3273, 'ramon': 3274, 'beatti': 3275, 'stole': 3276, 'mummi': 3277, 'candid': 3278, 'blade': 3279, 'mildr': 3280, 'funer': 3281, 'flame': 3282, 'collabor': 3283, 'global': 3284, 'detract': 3285, 'jazz': 3286, 'confirm': 3287, 'protest': 3288, 'kirk': 3289, 'trio': 3290, 'natali': 3291, 'astonish': 3292, 'altman': 3293, 'fulci': 3294, 'racial': 3295, 'leap': 3296, 'yellow': 3297, 'bottl': 3298, 'spit': 3299, 'bull': 3300, 'delici': 3301, 'tommi': 3302, 'shade': 3303, 'enterpris': 3304, 'audio': 3305, 'nicholson': 3306, 'mystic': 3307, 'blake': 3308, 'destini': 3309, 'whip': 3310, 'popcorn': 3311, 'adolesc': 3312, 'threw': 3313, 'vivid': 3314, 'visibl': 3315, 'todd': 3316, 'harder': 3317, 'merci': 3318, 'bedroom': 3319, 'neo': 3320, 'inherit': 3321, 'enchant': 3322, 'altogeth': 3323, 'reunit': 3324, 'pseudo': 3325, 'meaningless': 3326, 'staff': 3327, 'fonda': 3328, 'swedish': 3329, 'befriend': 3330, 'atlanti': 3331, 'synopsi': 3332, 'fanat': 3333, 'kennedi': 3334, 'ruthless': 3335, 'suspici': 3336, 'respond': 3337, 'uneven': 3338, 'wire': 3339, 'decor': 3340, 'tip': 3341, 'await': 3342, 'edi': 3343, 'crocodil': 3344, 'reserv': 3345, 'lemmon': 3346, 'bust': 3347, 'moodi': 3348, 'madonna': 3349, 'roommat': 3350, 'lawrenc': 3351, 'exhibit': 3352, 'jew': 3353, 'voight': 3354, 'leonard': 3355, 'carl': 3356, 'unsettl': 3357, 'chao': 3358, '2007': 3359, 'abysm': 3360, 'holli': 3361, 'bargain': 3362, 'bold': 3363, 'garner': 3364, 'ventur': 3365, 'voyag': 3366, 'rural': 3367, 'dimens': 3368, 'clumsi': 3369, 'incident': 3370, 'centr': 3371, 'clint': 3372, 'audit': 3373, 'palma': 3374, 'bradi': 3375, 'cuba': 3376, 'tiger': 3377, 'troop': 3378, 'neglect': 3379, 'echo': 3380, 'lit': 3381, 'acknowledg': 3382, 'elimin': 3383, 'cari': 3384, 'nearbi': 3385, 'hart': 3386, 'trail': 3387, 'cd': 3388, 'daddi': 3389, 'timon': 3390, 'ant': 3391, 'characterist': 3392, '2nd': 3393, 'poetic': 3394, 'immigr': 3395, 'wealth': 3396, 'humili': 3397, 'mall': 3398, 'imperson': 3399, 'versu': 3400, 'prejudic': 3401, 'mickey': 3402, 'repuls': 3403, 'jeffrey': 3404, 'solo': 3405, 'collaps': 3406, 'paus': 3407, 'mistaken': 3408, 'pun': 3409, 'homer': 3410, 'infect': 3411, 'saga': 3412, 'domest': 3413, 'celluloid': 3414, 'marshal': 3415, 'tribe': 3416, 'interrupt': 3417, 'chest': 3418, 'coffe': 3419, 'promin': 3420, 'milk': 3421, '1996': 3422, 'assembl': 3423, 'apolog': 3424, 'gear': 3425, 'pant': 3426, 'equip': 3427, 'harvey': 3428, 'leon': 3429, 'olivi': 3430, 'cake': 3431, 'undoubtedli': 3432, 'hbo': 3433, 'ginger': 3434, 'coat': 3435, 'sore': 3436, 'inan': 3437, 'inappropri': 3438, 'pen': 3439, 'brooklyn': 3440, 'humbl': 3441, 'retain': 3442, 'furthermor': 3443, 'jenni': 3444, 'highest': 3445, 'embrac': 3446, 'instant': 3447, 'exot': 3448, 'vulgar': 3449, 'colleagu': 3450, 'solut': 3451, 'consum': 3452, 'maggi': 3453, 'trace': 3454, 'florida': 3455, 'colonel': 3456, 'primari': 3457, 'airplan': 3458, 'aveng': 3459, 'pot': 3460, 'polanski': 3461, 'institut': 3462, 'devast': 3463, '1999': 3464, 'wive': 3465, 'illog': 3466, 'principl': 3467, 'gender': 3468, 'linda': 3469, 'strain': 3470, 'outer': 3471, '3rd': 3472, 'dutch': 3473, 'cope': 3474, 'sale': 3475, 'descend': 3476, 'disabl': 3477, 'poke': 3478, 'seduct': 3479, 'smaller': 3480, 'godzilla': 3481, 'bowl': 3482, 'rick': 3483, 'ya': 3484, 'dian': 3485, 'secondli': 3486, 'dive': 3487, 'hal': 3488, 'glamor': 3489, 'primarili': 3490, 'mixtur': 3491, 'vast': 3492, 'bubbl': 3493, 'yard': 3494, 'beneath': 3495, 'gloriou': 3496, 'devoid': 3497, 'rabbit': 3498, 'blatant': 3499, 'scope': 3500, 'predecessor': 3501, 'cue': 3502, 'lol': 3503, 'inferior': 3504, 'dud': 3505, 'gundam': 3506, 'invas': 3507, 'streep': 3508, 'arab': 3509, 'trademark': 3510, 'shelf': 3511, 'april': 3512, 'alert': 3513, 'casual': 3514, 'disjoint': 3515, 'countrysid': 3516, 'breed': 3517, 'shirley': 3518, 'talki': 3519, 'alfr': 3520, 'museum': 3521, 'hideou': 3522, 'simplist': 3523, 'z': 3524, 'et': 3525, 'senseless': 3526, 'garbo': 3527, 'myer': 3528, 'grinch': 3529, 'aggress': 3530, 'pearl': 3531, 'domino': 3532, 'robinson': 3533, 'slide': 3534, 'uwe': 3535, 'hardcor': 3536, 'hopeless': 3537, 'applaud': 3538, 'oz': 3539, 'sh': 3540, 'unhappi': 3541, 'stellar': 3542, 'illeg': 3543, 'robberi': 3544, 'boom': 3545, 'disgrac': 3546, 'mail': 3547, 'khan': 3548, 'experiment': 3549, 'loyal': 3550, 'mayor': 3551, 'acid': 3552, 'defens': 3553, 'vanish': 3554, 'stir': 3555, 'obtain': 3556, 'maci': 3557, 'rendit': 3558, 'stack': 3559, 'blew': 3560, 'incomprehens': 3561, 'tempt': 3562, 'wont': 3563, 'grandfath': 3564, 'berlin': 3565, 'span': 3566, 'tenant': 3567, 'rifl': 3568, 'craze': 3569, 'psychic': 3570, 'emphasi': 3571, 'fri': 3572, 'spider': 3573, 'declin': 3574, 'dismiss': 3575, 'topless': 3576, 'recruit': 3577, 'dicken': 3578, 'amanda': 3579, 'counter': 3580, 'hartley': 3581, 'soccer': 3582, 'scroog': 3583, 'diana': 3584, 'sympath': 3585, 'trashi': 3586, 'ethnic': 3587, 'intim': 3588, 'shed': 3589, 'goer': 3590, 'faster': 3591, 'justin': 3592, 'sibl': 3593, 'wet': 3594, 'lumet': 3595, 'ration': 3596, 'resurrect': 3597, 'revolt': 3598, 'parad': 3599, 'shaw': 3600, 'woo': 3601, 'niro': 3602, 'porno': 3603, 'bitch': 3604, 'riot': 3605, 'feminist': 3606, 'choru': 3607, 'honesti': 3608, 'patriot': 3609, 'lena': 3610, 'immort': 3611, 'gap': 3612, 'hopper': 3613, 'wendi': 3614, 'wheel': 3615, 'steam': 3616, 'eager': 3617, '00': 3618, 'biographi': 3619, 'partial': 3620, 'unreal': 3621, 'ballet': 3622, 'region': 3623, 'mario': 3624, 'enlighten': 3625, 'nephew': 3626, 'worm': 3627, 'weakest': 3628, 'ensur': 3629, 'commend': 3630, 'farmer': 3631, 'slick': 3632, 'hesit': 3633, 'jonathan': 3634, 'dealer': 3635, 'rider': 3636, 'andr': 3637, 'skull': 3638, 'psychopath': 3639, 'properti': 3640, 'composit': 3641, 'nostalg': 3642, 'safeti': 3643, 'morri': 3644, 'mutant': 3645, 'snap': 3646, 'kingdom': 3647, 'leo': 3648, 'sappi': 3649, 'vice': 3650, 'blunt': 3651, 'wore': 3652, 'hung': 3653, 'confin': 3654, 'victori': 3655, 'repress': 3656, 'sandra': 3657, 'prequel': 3658, 'charlott': 3659, 'similarli': 3660, 'util': 3661, 'owen': 3662, 'franco': 3663, 'macarthur': 3664, 'repli': 3665, 'acquir': 3666, 'rope': 3667, 'whoopi': 3668, 'campbel': 3669, 'strand': 3670, 'miseri': 3671, 'heartbreak': 3672, 'recycl': 3673, 'dust': 3674, 'deed': 3675, 'valuabl': 3676, '1972': 3677, 'bonu': 3678, 'montana': 3679, 'thru': 3680, 'tad': 3681, 'tail': 3682, 'drum': 3683, 'despair': 3684, 'nervou': 3685, 'drain': 3686, 'rocki': 3687, 'speci': 3688, 'compens': 3689, 'latin': 3690, 'compass': 3691, 'kyle': 3692, 'snl': 3693, 'farrel': 3694, 'rambl': 3695, 'emperor': 3696, 'exit': 3697, 'dalton': 3698, 'bergman': 3699, 'pattern': 3700, 'bow': 3701, 'cg': 3702, 'hyde': 3703, 'bumbl': 3704, 'del': 3705, 'contempl': 3706, 'downhil': 3707, 'percept': 3708, 'carradin': 3709, 'rotten': 3710, 'radic': 3711, 'slug': 3712, 'wacki': 3713, 'tonight': 3714, 'mistress': 3715, 'da': 3716, 'gal': 3717, 'bleed': 3718, '35': 3719, 'roth': 3720, 'oppress': 3721, 'airport': 3722, 'pour': 3723, 'romp': 3724, 'gimmick': 3725, 'orson': 3726, 'olli': 3727, 'rapist': 3728, 'martian': 3729, 'chess': 3730, 'mislead': 3731, 'preach': 3732, 'attorney': 3733, 'pervert': 3734, 'pursuit': 3735, 'paltrow': 3736, 'banal': 3737, 'tooth': 3738, 'tackl': 3739, 'heal': 3740, 'pervers': 3741, 'unpredict': 3742, 'arc': 3743, 'edgar': 3744, 'champion': 3745, 'melodi': 3746, 'belt': 3747, 'dazzl': 3748, 'arguabl': 3749, 'stilt': 3750, 'shelley': 3751, 'taught': 3752, '1983': 3753, 'programm': 3754, 'slash': 3755, 'tiresom': 3756, 'uplift': 3757, 'mesmer': 3758, 'vengeanc': 3759, 'raymond': 3760, 'cleverli': 3761, 'employe': 3762, 'sensat': 3763, 'chicken': 3764, 'graham': 3765, 'duval': 3766, 'conneri': 3767, 'poem': 3768, 'plight': 3769, 'bela': 3770, 'virginia': 3771, 'marti': 3772, 'orang': 3773, 'rubi': 3774, 'vocal': 3775, 'passeng': 3776, 'maid': 3777, 'franki': 3778, 'dixon': 3779, 'closest': 3780, 'gambl': 3781, 'numb': 3782, 'calm': 3783, 'outing': 3784, 'climact': 3785, 'abraham': 3786, 'scottish': 3787, 'giggl': 3788, 'extens': 3789, 'volum': 3790, 'amitabh': 3791, 'swallow': 3792, 'secretli': 3793, 'clone': 3794, 'tube': 3795, 'convincingli': 3796, 'bay': 3797, 'monologu': 3798, 'habit': 3799, 'inject': 3800, 'yawn': 3801, 'paranoia': 3802, 'pokemon': 3803, 'iran': 3804, 'quarter': 3805, 'suffic': 3806, 'engross': 3807, 'whine': 3808, 'lundgren': 3809, 'crystal': 3810, 'mute': 3811, 'profan': 3812, '1968': 3813, 'sirk': 3814, 'gerard': 3815, 'surpass': 3816, 'meander': 3817, 'frankenstein': 3818, 'ethan': 3819, 'profess': 3820, 'nichola': 3821, 'expand': 3822, 'austen': 3823, 'richardson': 3824, 'backward': 3825, 'grotesqu': 3826, 'septemb': 3827, 'spock': 3828, 'dispos': 3829, 'franci': 3830, 'lowest': 3831, 'trend': 3832, 'im': 3833, 'underst': 3834, 'abort': 3835, 'fed': 3836, 'poetri': 3837, 'taxi': 3838, 'earl': 3839, 'bend': 3840, 'chicago': 3841, 'junior': 3842, 'plod': 3843, 'linger': 3844, 'household': 3845, 'descent': 3846, 'tourist': 3847, 'myth': 3848, 'dysfunct': 3849, 'der': 3850, 'simplic': 3851, 'compliment': 3852, 'eugen': 3853, 'greedi': 3854, 'instrument': 3855, 'waitress': 3856, 'rant': 3857, 'nostalgia': 3858, 'rubber': 3859, 'mundan': 3860, 'muddl': 3861, 'sue': 3862, 'literatur': 3863, 'catchi': 3864, 'cannon': 3865, 'spoke': 3866, 'stallon': 3867, 'hum': 3868, 'econom': 3869, 'lure': 3870, 'firstli': 3871, 'alongsid': 3872, 'recognit': 3873, 'crucial': 3874, 'june': 3875, 'omen': 3876, 'dictat': 3877, 'randi': 3878, 'dement': 3879, 'carel': 3880, 'phoni': 3881, 'sissi': 3882, 'hello': 3883, 'eaten': 3884, 'occupi': 3885, 'mortal': 3886, 'damon': 3887, 'furi': 3888, 'mankind': 3889, 'flee': 3890, 'stale': 3891, 'molli': 3892, 'irrelev': 3893, 'duck': 3894, 'insur': 3895, 'cent': 3896, 'equival': 3897, 'deaf': 3898, 'phantom': 3899, 'map': 3900, 'lang': 3901, 'bacal': 3902, 'louis': 3903, 'recognis': 3904, 'coast': 3905, 'blackmail': 3906, 'daisi': 3907, 'bike': 3908, 'freez': 3909, 'lengthi': 3910, '1973': 3911, 'rude': 3912, 'wisdom': 3913, 'loyalti': 3914, 'likewis': 3915, 'onlin': 3916, 'distinguish': 3917, 'biko': 3918, 'reign': 3919, 'rooney': 3920, 'drake': 3921, 'bump': 3922, 'grayson': 3923, 'damm': 3924, 'dreari': 3925, 'heel': 3926, 'ashley': 3927, 'labor': 3928, 'antwon': 3929, 'twilight': 3930, 'newli': 3931, 'buffalo': 3932, 'cyborg': 3933, 'exposur': 3934, 'sailor': 3935, 'emphas': 3936, 'analysi': 3937, 'tunnel': 3938, 'unorigin': 3939, 'incorpor': 3940, 'keith': 3941, 'provoc': 3942, 'basketbal': 3943, 'vein': 3944, 'interior': 3945, 'proce': 3946, 'inher': 3947, 'chronicl': 3948, 'ridden': 3949, 'pink': 3950, 'worn': 3951, 'prey': 3952, 'nineti': 3953, 'startl': 3954, 'butler': 3955, 'baddi': 3956, 'approv': 3957, 'boxer': 3958, 'attribut': 3959, 'barrymor': 3960, 'indiffer': 3961, 'hypnot': 3962, 'er': 3963, 'bunni': 3964, 'stalker': 3965, 'walsh': 3966, 'improvis': 3967, 'mighti': 3968, 'undeni': 3969, 'degrad': 3970, 'barrel': 3971, 'drift': 3972, 'othello': 3973, 'nicol': 3974, 'carla': 3975, 'elm': 3976, 'fleet': 3977, 'millionair': 3978, 'meyer': 3979, 'meg': 3980, 'predat': 3981, 'julian': 3982, 'unrel': 3983, 'condemn': 3984, 'substitut': 3985, 'robbin': 3986, 'belushi': 3987, 'underli': 3988, 'simmon': 3989, 'mormon': 3990, 'shove': 3991, 'alison': 3992, 'edgi': 3993, 'alarm': 3994, 'lampoon': 3995, 'exquisit': 3996, 'greed': 3997, 'roof': 3998, 'vital': 3999, '3d': 4000, 'priceless': 4001, 'agenda': 4002, 'reid': 4003, 'disord': 4004, 'enthusiasm': 4005, 'warmth': 4006, 'rukh': 4007, 'watson': 4008, 'nyc': 4009, 'marion': 4010, 'dolph': 4011, 'firm': 4012, 'palac': 4013, 'hay': 4014, 'errol': 4015, 'unawar': 4016, 'novak': 4017, 'mtv': 4018, 'petti': 4019, 'cassidi': 4020, 'gestur': 4021, 'spain': 4022, 'nun': 4023, 'preserv': 4024, 'valentin': 4025, 'simultan': 4026, 'iraq': 4027, 'championship': 4028, 'angela': 4029, 'orlean': 4030, 'beatl': 4031, 'thompson': 4032, '1933': 4033, 'peril': 4034, 'crown': 4035, 'ponder': 4036, 'testament': 4037, 'glanc': 4038, 'zizek': 4039, 'showdown': 4040, 'what': 4041, 'coup': 4042, '13th': 4043, 'unleash': 4044, 'sergeant': 4045, 'randomli': 4046, 'session': 4047, 'israel': 4048, 'drip': 4049, 'minimum': 4050, 'campaign': 4051, 'peck': 4052, 'distort': 4053, 'pamela': 4054, 'eastern': 4055, 'profit': 4056, 'gentleman': 4057, 'exposit': 4058, 'han': 4059, 'quinn': 4060, 'contradict': 4061, 'cooki': 4062, 'stake': 4063, 'rout': 4064, 'mon': 4065, 'represent': 4066, 'crow': 4067, 'stroke': 4068, 'scotland': 4069, 'cream': 4070, '1984': 4071, 'wig': 4072, 'sabrina': 4073, 'realm': 4074, 'restrain': 4075, 'fido': 4076, 'bro': 4077, 'brenda': 4078, 'buster': 4079, 'regist': 4080, 'climat': 4081, 'kurosawa': 4082, 'calib': 4083, 'valley': 4084, 'shootout': 4085, 'perpetu': 4086, 'jan': 4087, 'miyazaki': 4088, 'unimagin': 4089, 'empathi': 4090, 'travesti': 4091, 'din': 4092, 'reson': 4093, 'crawl': 4094, 'passabl': 4095, 'femm': 4096, 'painter': 4097, 'unseen': 4098, 'compromis': 4099, 'shoddi': 4100, 'baldwin': 4101, 'mclaglen': 4102, 'monoton': 4103, 'geek': 4104, 'businessman': 4105, 'delic': 4106, 'perceiv': 4107, 'warrant': 4108, 'derang': 4109, 'unsatisfi': 4110, 'absent': 4111, 'fuller': 4112, 'tacki': 4113, 'josh': 4114, 'distress': 4115, 'greg': 4116, 'abomin': 4117, '1987': 4118, 'spacey': 4119, 'wax': 4120, 'demis': 4121, 'sucker': 4122, 'ustinov': 4123, 'pretens': 4124, 'censor': 4125, 'cloud': 4126, '1997': 4127, 'shaki': 4128, 'ross': 4129, 'traumat': 4130, 'dana': 4131, 'meryl': 4132, 'darren': 4133, 'crawford': 4134, 'sammi': 4135, 'pole': 4136, 'stargat': 4137, 'soderbergh': 4138, 'deniro': 4139, 'verbal': 4140, 'tarantino': 4141, 'uncov': 4142, 'accuraci': 4143, 'deceas': 4144, 'valid': 4145, 'seal': 4146, 'expedit': 4147, 'fenc': 4148, 'furiou': 4149, 'norm': 4150, 'anchor': 4151, 'exclus': 4152, 'reluct': 4153, 'kumar': 4154, 'tech': 4155, 'polici': 4156, 'jewel': 4157, 'judgment': 4158, 'click': 4159, 'unravel': 4160, 'austin': 4161, 'correctli': 4162, 'nathan': 4163, 'dee': 4164, 'clash': 4165, 'fog': 4166, '1993': 4167, 'sid': 4168, 'wholli': 4169, 'primit': 4170, 'antonioni': 4171, 'conduct': 4172, 'murray': 4173, 'wretch': 4174, 'sunni': 4175, 'wang': 4176, 'debt': 4177, 'fart': 4178, 'alec': 4179, 'nicola': 4180, 'darn': 4181, 'unfair': 4182, 'patienc': 4183, 'crippl': 4184, 'dreck': 4185, 'mode': 4186, 'tax': 4187, 'sustain': 4188, 'vanc': 4189, 'temper': 4190, 'fought': 4191, 'fabric': 4192, 'roller': 4193, 'behold': 4194, 'logan': 4195, 'trait': 4196, '3000': 4197, 'pocket': 4198, 'slam': 4199, '1971': 4200, '2008': 4201, 'ritual': 4202, 'sand': 4203, 'clerk': 4204, 'seldom': 4205, 'shanghai': 4206, 'hallucin': 4207, '1995': 4208, 'sheet': 4209, 'bake': 4210, 'joel': 4211, 'malon': 4212, 'enforc': 4213, 'preposter': 4214, 'divid': 4215, 'technicolor': 4216, 'bias': 4217, 'outlin': 4218, 'exhaust': 4219, 'scriptwrit': 4220, 'schedul': 4221, 'pete': 4222, 'phil': 4223, 'conscious': 4224, 'despis': 4225, 'sweep': 4226, 'canyon': 4227, 'guitar': 4228, 'legaci': 4229, 'penni': 4230, 'tactic': 4231, 'shell': 4232, 'fundament': 4233, 'soup': 4234, 'clau': 4235, 'stuart': 4236, 'critiqu': 4237, 'squad': 4238, 'rita': 4239, 'isabel': 4240, 'preston': 4241, 'robber': 4242, 'stark': 4243, 'runner': 4244, 'bridget': 4245, 'grief': 4246, 'helpless': 4247, 'restrict': 4248, 'russia': 4249, 'jacket': 4250, 'sentinel': 4251, 'propos': 4252, 'gregori': 4253, 'boyl': 4254, 'alley': 4255, 'inabl': 4256, 'marc': 4257, 'agenc': 4258, 'drove': 4259, 'unexpectedli': 4260, 'flair': 4261, 'rear': 4262, 'cigarett': 4263, 'vomit': 4264, 'downey': 4265, 'bloom': 4266, 'liberti': 4267, 'newman': 4268, 'connor': 4269, 'culmin': 4270, 'implic': 4271, 'jodi': 4272, 'palanc': 4273, 'consciou': 4274, 'delv': 4275, 'rehash': 4276, 'lacklust': 4277, 'passag': 4278, 'alicia': 4279, 'kansa': 4280, 'invad': 4281, 'sugar': 4282, 'sniper': 4283, 'tripe': 4284, 'asylum': 4285, 'bacon': 4286, 'behaviour': 4287, '22': 4288, 'delet': 4289, 'ladder': 4290, 'lush': 4291, 'cap': 4292, 'wrench': 4293, 'aesthet': 4294, 'rod': 4295, 'yeti': 4296, 'rehears': 4297, 'pale': 4298, 'chainsaw': 4299, 'horn': 4300, 'mccoy': 4301, 'karl': 4302, '1936': 4303, 'awhil': 4304, 'foxx': 4305, 'tendenc': 4306, 'sharon': 4307, 'rampag': 4308, 'vet': 4309, 'feat': 4310, 'arrow': 4311, 'improb': 4312, 'kolchak': 4313, '1988': 4314, 'paramount': 4315, 'hungri': 4316, 'weav': 4317, 'el': 4318, 'aristocrat': 4319, 'paradis': 4320, 'financ': 4321, 'rhythm': 4322, 'hackney': 4323, 'wildli': 4324, 'amazon': 4325, 'spice': 4326, 'underneath': 4327, 'prank': 4328, 'scoop': 4329, 'elit': 4330, 'fright': 4331, 'tomorrow': 4332, 'shortcom': 4333, 'stream': 4334, 'hulk': 4335, 'visitor': 4336, 'lurk': 4337, 'tasteless': 4338, 'suspicion': 4339, 'minu': 4340, '1978': 4341, '1920': 4342, 'suffici': 4343, 'filler': 4344, '19th': 4345, 'conscienc': 4346, 'newcom': 4347, 'loneli': 4348, 'globe': 4349, 'sung': 4350, 'basing': 4351, 'wagner': 4352, 'coaster': 4353, 'rumor': 4354, 'thunderbird': 4355, 'ram': 4356, 'hopkin': 4357, 'abrupt': 4358, 'inmat': 4359, 'counterpart': 4360, 'teas': 4361, 'leigh': 4362, 'lectur': 4363, 'grudg': 4364, '75': 4365, 'beverli': 4366, 'atroc': 4367, 'wwe': 4368, 'choppi': 4369, 'worship': 4370, 'immers': 4371, 'smell': 4372, 'ingeni': 4373, 'cancer': 4374, 'entranc': 4375, 'rub': 4376, 'springer': 4377, 'impos': 4378, 'recogniz': 4379, 'penn': 4380, '1989': 4381, 'secondari': 4382, 'straightforward': 4383, 'chavez': 4384, 'curli': 4385, 'chamberlain': 4386, 'quietli': 4387, 'heist': 4388, 'bread': 4389, 'iv': 4390, 'paxton': 4391, 'posey': 4392, 'brit': 4393, '1939': 4394, 'literari': 4395, 'tierney': 4396, 'dirt': 4397, 'couch': 4398, 'en': 4399, 'naughti': 4400, 'minist': 4401, 'standout': 4402, 'missil': 4403, 'sassi': 4404, 'yearn': 4405, 'laurenc': 4406, 'quaid': 4407, 'policeman': 4408, 'moreov': 4409, 'variat': 4410, 'lindsay': 4411, 'injuri': 4412, 'net': 4413, 'entitl': 4414, 'enthral': 4415, 'geni': 4416, '1986': 4417, 'transcend': 4418, 'misguid': 4419, 'skeptic': 4420, 'watcher': 4421, 'ace': 4422, 'attenborough': 4423, 'duel': 4424, 'heartfelt': 4425, 'morbid': 4426, 'nolan': 4427, 'convert': 4428, 'bernard': 4429, 'esther': 4430, 'ratso': 4431, 'sublim': 4432, 'clan': 4433, 'nemesi': 4434, 'cattl': 4435, 'unexplain': 4436, 'grin': 4437, 'rosemari': 4438, 'graini': 4439, 'bye': 4440, 'kitti': 4441, 'egg': 4442, 'cruelti': 4443, '1979': 4444, 'spiral': 4445, 'hopelessli': 4446, 'characteris': 4447, 'enabl': 4448, 'steadi': 4449, 'poe': 4450, 'tyler': 4451, 'uncut': 4452, 'kidman': 4453, 'setup': 4454, 'buzz': 4455, 'out': 4456, 'carlito': 4457, 'youngest': 4458, 'dont': 4459, 'artsi': 4460, 'brood': 4461, 'bean': 4462, 'puppi': 4463, 'facil': 4464, 'hk': 4465, 'reliabl': 4466, 'obstacl': 4467, 'mytholog': 4468, 'moder': 4469, 'diari': 4470, 'vader': 4471, 'weather': 4472, 'heap': 4473, 'acquaint': 4474, 'hammi': 4475, 'fuel': 4476, 'christin': 4477, 'effici': 4478, 'despic': 4479, 'gina': 4480, 'sweat': 4481, 'bewar': 4482, 'athlet': 4483, 'niec': 4484, 'kline': 4485, 'exterior': 4486, 'baffl': 4487, 'decept': 4488, 'oblig': 4489, 'brendan': 4490, 'disastr': 4491, 'gillian': 4492, 'hain': 4493, 'underworld': 4494, 'preming': 4495, 'spontan': 4496, '1969': 4497, 'narrow': 4498, 'martha': 4499, 'bounc': 4500, 'clueless': 4501, 'bronson': 4502, 'patricia': 4503, 'angst': 4504, 'analyz': 4505, 'insipid': 4506, 'housewif': 4507, 'virtu': 4508, 'enlist': 4509, 'sooner': 4510, 'injur': 4511, 'taboo': 4512, 'mermaid': 4513, 'loi': 4514, 'goof': 4515, 'circu': 4516, 'uh': 4517, 'dilemma': 4518, 'astound': 4519, 'mayhem': 4520, 'preachi': 4521, 'biker': 4522, 'headach': 4523, 'harmless': 4524, 'loath': 4525, 'shatter': 4526, 'scar': 4527, 'trigger': 4528, 'rome': 4529, 'hepburn': 4530, '19': 4531, 'sleepwalk': 4532, 'viewpoint': 4533, 'renaiss': 4534, 'tick': 4535, 'outlaw': 4536, 'suprem': 4537, 'fontain': 4538, 'candl': 4539, 'lester': 4540, 'dandi': 4541, '73': 4542, 'glorifi': 4543, 'overlong': 4544, 'foolish': 4545, 'dish': 4546, 'camcord': 4547, 'amor': 4548, 'scorses': 4549, 'redund': 4550, 'intric': 4551, 'steer': 4552, 'zoom': 4553, 'surgeri': 4554, 'guin': 4555, 'phenomenon': 4556, 'whore': 4557, 'immatur': 4558, 'hokey': 4559, 'stimul': 4560, 'dismal': 4561, 'slimi': 4562, 'filth': 4563, 'contempt': 4564, 'tripl': 4565, 'stair': 4566, 'fluff': 4567, 'boston': 4568, 'bent': 4569, 'hostag': 4570, 'hooker': 4571, 'claustrophob': 4572, 'gere': 4573, 'ebert': 4574, 'macho': 4575, 'spade': 4576, 'salt': 4577, 'cassavet': 4578, 'idol': 4579, 'sox': 4580, 'oldest': 4581, 'ariel': 4582, 'corbett': 4583, 'obligatori': 4584, 'frantic': 4585, 'schlock': 4586, 'margin': 4587, 'nolt': 4588, 'mutual': 4589, 'faint': 4590, 'widescreen': 4591, 'joker': 4592, 'down': 4593, 'antagonist': 4594, 'strongest': 4595, 'perman': 4596, 'dwarf': 4597, 'mount': 4598, 'spree': 4599, 'corman': 4600, '1981': 4601, 'rhyme': 4602, 'trivia': 4603, 'cow': 4604, 'keen': 4605, 'naschi': 4606, 'gasp': 4607, 'preced': 4608, 'shield': 4609, '1976': 4610, 'radiat': 4611, 'flashi': 4612, 'beard': 4613, 'flirt': 4614, 'cush': 4615, 'spinal': 4616, 'remad': 4617, 'messi': 4618, 'fascist': 4619, 'harold': 4620, 'transplant': 4621, 'proport': 4622, 'zane': 4623, 'assert': 4624, 'astronaut': 4625, 'gabl': 4626, 'muscl': 4627, 'conquer': 4628, 'cohen': 4629, 'shred': 4630, 'flag': 4631, 'alvin': 4632, 'scandal': 4633, 'triangl': 4634, 'fishburn': 4635, '28': 4636, 'www': 4637, 'divin': 4638, 'persuad': 4639, 'claud': 4640, 'departur': 4641, 'discern': 4642, 'brush': 4643, 'vaniti': 4644, 'off': 4645, 'interestingli': 4646, 'someday': 4647, 'sensual': 4648, 'neurot': 4649, 'repris': 4650, 'strive': 4651, 'info': 4652, 'bachelor': 4653, 'instruct': 4654, 'aborigin': 4655, 'barn': 4656, 'resum': 4657, 'hara': 4658, 'archiv': 4659, 'mobil': 4660, 'deer': 4661, 'wield': 4662, 'danish': 4663, 'raj': 4664, '95': 4665, '1945': 4666, 'carey': 4667, 'flock': 4668, 'boob': 4669, 'ritchi': 4670, 'inflict': 4671, 'mol': 4672, 'bitten': 4673, 'neill': 4674, 'senior': 4675, 'kathryn': 4676, 'heartwarm': 4677, 'helm': 4678, 'earnest': 4679, 'pixar': 4680, 'dame': 4681, 'banter': 4682, 'pickford': 4683, 'miracul': 4684, 'dim': 4685, 'axe': 4686, 'vibrant': 4687, 'hilar': 4688, 'carlo': 4689, 'recit': 4690, 'melissa': 4691, 'jade': 4692, 'cher': 4693, 'ish': 4694, 'anton': 4695, 'dylan': 4696, 'submit': 4697, 'biblic': 4698, 'frontier': 4699, 'pacif': 4700, 'fragil': 4701, 'bate': 4702, 'cb': 4703, 'rot': 4704, 'europa': 4705, 'clad': 4706, 'harrison': 4707, 'colin': 4708, 'cycl': 4709, 'parson': 4710, 'wendigo': 4711, 'proclaim': 4712, 'traffic': 4713, 'undermin': 4714, 'timberlak': 4715, 'mobster': 4716, 'cliffhang': 4717, 'prophet': 4718, 'hug': 4719, 'luka': 4720, 'hapless': 4721, 'casino': 4722, 'loretta': 4723, 'artwork': 4724, 'pc': 4725, 'isra': 4726, 'holocaust': 4727, 'legitim': 4728, 'eli': 4729, 'blatantli': 4730, 'milo': 4731, 'estrang': 4732, 'cerebr': 4733, 'feast': 4734, 'bikini': 4735, 'sicken': 4736, 'venom': 4737, 'nope': 4738, 'jo': 4739, 'razor': 4740, 'northern': 4741, 'choke': 4742, 'foil': 4743, 'misfortun': 4744, 'vile': 4745, 'toronto': 4746, 'alexandr': 4747, 'flavor': 4748, 'orphan': 4749, 'antholog': 4750, 'illus': 4751, 'trier': 4752, 'lui': 4753, 'bondag': 4754, 'lucil': 4755, 'static': 4756, 'seedi': 4757, 'wardrob': 4758, 'winchest': 4759, 'mason': 4760, 'articl': 4761, 'akin': 4762, 'jordan': 4763, 'rooki': 4764, 'redneck': 4765, 'token': 4766, 'electron': 4767, 'http': 4768, 'shepherd': 4769, 'breakfast': 4770, 'uma': 4771, 'vanessa': 4772, 'aris': 4773, 'marlon': 4774, 'mathieu': 4775, 'gilbert': 4776, 'smack': 4777, 'retriev': 4778, 'glare': 4779, 'fifth': 4780, 'comprehend': 4781, 'dudley': 4782, 'charlton': 4783, 'oppon': 4784, 'cartoonish': 4785, 'deem': 4786, 'peer': 4787, 'psych': 4788, 'howl': 4789, 'magician': 4790, 'outdat': 4791, 'tack': 4792, 'feminin': 4793, 'nightclub': 4794, 'clinic': 4795, 'shorter': 4796, 'knightley': 4797, 'styliz': 4798, 'audrey': 4799, 'boyer': 4800, 'disregard': 4801, 'huston': 4802, 'frog': 4803, 'wrestler': 4804, 'affleck': 4805, 'ideolog': 4806, 'linear': 4807, 'abund': 4808, 'ceremoni': 4809, 'gunga': 4810, 'highway': 4811, 'swept': 4812, 'turd': 4813, 'leather': 4814, 'newer': 4815, 'bastard': 4816, 'lifeless': 4817, 'deliver': 4818, 'tara': 4819, 'energet': 4820, 'lavish': 4821, 'phenomen': 4822, 'conrad': 4823, 'lighter': 4824, 'mitch': 4825, 'uniformli': 4826, 'monument': 4827, '4th': 4828, 'plate': 4829, 'evolut': 4830, 'cuban': 4831, 'compris': 4832, 'senat': 4833, 'btw': 4834, 'durat': 4835, 'spawn': 4836, 'corn': 4837, 'client': 4838, 'bogu': 4839, 'snatch': 4840, 'collector': 4841, '1994': 4842, 'spine': 4843, 'summar': 4844, 'chip': 4845, 'sleaz': 4846, 'potter': 4847, 'greet': 4848, 'whack': 4849, 'moe': 4850, 'boo': 4851, 'breakdown': 4852, 'braveheart': 4853, 'toe': 4854, 'salman': 4855, '1991': 4856, 'cemeteri': 4857, 'einstein': 4858, 'goldsworthi': 4859, 'alleg': 4860, 'firmli': 4861, 'armstrong': 4862, 'signal': 4863, 'clara': 4864, 'creek': 4865, 'trauma': 4866, 'neatli': 4867, 'jare': 4868, 'mcqueen': 4869, 'ie': 4870, 'undertak': 4871, 'fluid': 4872, 'ol': 4873, 'spectacl': 4874, 'inaccuraci': 4875, 'judd': 4876, 'appl': 4877, 'replay': 4878, 'kent': 4879, 'cecil': 4880, 'evelyn': 4881, 'jedi': 4882, 'liu': 4883, 'undead': 4884, 'eleven': 4885, 'outright': 4886, 'sorrow': 4887, 'wtf': 4888, 'constitut': 4889, 'lex': 4890, 'bori': 4891, '1977': 4892, 'bulk': 4893, 'healthi': 4894, '1974': 4895, 'luxuri': 4896, 'historian': 4897, 'jam': 4898, 'nina': 4899, 'jule': 4900, 'occup': 4901, 'embark': 4902, 'belli': 4903, 'capot': 4904, 'pronounc': 4905, 'gilliam': 4906, 'randolph': 4907, 'kazan': 4908, 'aussi': 4909, 'truman': 4910, 'walt': 4911, 'palm': 4912, 'forgiven': 4913, 'tokyo': 4914, 'goldblum': 4915, 'rosario': 4916, 'congratul': 4917, 'poker': 4918, 'vignett': 4919, 'roar': 4920, 'decapit': 4921, 'comprehens': 4922, 'spray': 4923, 'inaccur': 4924, 'meal': 4925, 'pioneer': 4926, 'galaxi': 4927, 'genet': 4928, 'carmen': 4929, 'blur': 4930, 'unattract': 4931, 'porter': 4932, 'fruit': 4933, 'comb': 4934, 'mum': 4935, 'kiddi': 4936, 'basket': 4937, 'abound': 4938, 'id': 4939, 'unsuspect': 4940, '1985': 4941, 'bait': 4942, 'conan': 4943, 'vain': 4944, 'pepper': 4945, 'knee': 4946, 'sidewalk': 4947, 'relentless': 4948, 'antonio': 4949, 'inclus': 4950, 'curtain': 4951, 'lauren': 4952, 'cape': 4953, 'paula': 4954, 'propheci': 4955, 'miniseri': 4956, 'groan': 4957, 'miami': 4958, 'ash': 4959, 'sacrif': 4960, 'lanc': 4961, 'subtli': 4962, 'bsg': 4963, 'macabr': 4964, 'sophi': 4965, 'mice': 4966, 'sparkl': 4967, 'handicap': 4968, 'substanti': 4969, 'omin': 4970, 'profil': 4971, 'detach': 4972, 'scariest': 4973, 'optimist': 4974, 'motorcycl': 4975, 'masterson': 4976, 'drone': 4977, '21st': 4978, 'scarfac': 4979, 'cypher': 4980, 'monti': 4981, 'verg': 4982, 'evan': 4983, 'ingrid': 4984, 'rapidli': 4985, 'modest': 4986, 'orchestr': 4987, 'reincarn': 4988, 'weari': 4989, 'turtl': 4990, 'victorian': 4991, 'weaker': 4992, 'bach': 4993, 'ghetto': 4994, 'hackman': 4995, 'assort': 4996, 'hostil': 4997, 'spill': 4998, 'asset': 4999}\n"
     ]
    }
   ],
   "source": [
    "print(word_dict)"
   ]
  },
  {
   "cell_type": "markdown",
   "metadata": {},
   "source": [
    "### Save `word_dict`\n",
    "\n",
    "Later on when we construct an endpoint which processes a submitted review we will need to make use of the `word_dict` which we have created. As such, we will save it to a file now for future use."
   ]
  },
  {
   "cell_type": "code",
   "execution_count": 474,
   "metadata": {},
   "outputs": [],
   "source": [
    "data_dir = '../data/pytorch' # The folder we will use for storing data\n",
    "if not os.path.exists(data_dir): # Make sure that the folder exists\n",
    "    os.makedirs(data_dir)"
   ]
  },
  {
   "cell_type": "code",
   "execution_count": 475,
   "metadata": {},
   "outputs": [],
   "source": [
    "with open(os.path.join(data_dir, 'word_dict.pkl'), \"wb\") as f:\n",
    "    pickle.dump(word_dict, f)"
   ]
  },
  {
   "cell_type": "markdown",
   "metadata": {},
   "source": [
    "### Transform the reviews\n",
    "\n",
    "Now that we have our word dictionary which allows us to transform the words appearing in the reviews into integers, it is time to make use of it and convert our reviews to their integer sequence representation, making sure to pad or truncate to a fixed length, which in our case is `500`."
   ]
  },
  {
   "cell_type": "code",
   "execution_count": 476,
   "metadata": {},
   "outputs": [],
   "source": [
    "def convert_and_pad(word_dict, sentence, pad=500):\n",
    "    NOWORD = 0 # We will use 0 to represent the 'no word' category\n",
    "    INFREQ = 1 # and we use 1 to represent the infrequent words, i.e., words not appearing in word_dict\n",
    "    \n",
    "    working_sentence = [NOWORD] * pad\n",
    "    \n",
    "    for word_index, word in enumerate(sentence[:pad]):\n",
    "        if word in word_dict:\n",
    "            working_sentence[word_index] = word_dict[word]\n",
    "        else:\n",
    "            working_sentence[word_index] = INFREQ\n",
    "            \n",
    "    return working_sentence, min(len(sentence), pad)\n",
    "\n",
    "def convert_and_pad_data(word_dict, data, pad=500):\n",
    "    result = []\n",
    "    lengths = []\n",
    "    #print(word_dict)\n",
    "    for sentence in data:\n",
    "        converted, leng = convert_and_pad(word_dict, sentence, pad)\n",
    "        result.append(converted)\n",
    "        lengths.append(leng)\n",
    "        \n",
    "    return np.array(result), np.array(lengths)"
   ]
  },
  {
   "cell_type": "code",
   "execution_count": 477,
   "metadata": {},
   "outputs": [],
   "source": [
    "train1_X = train_X\n",
    "train_X, train_X_len = convert_and_pad_data(word_dict, train_X)\n",
    "test_X, test_X_len = convert_and_pad_data(word_dict, test_X)\n"
   ]
  },
  {
   "cell_type": "markdown",
   "metadata": {},
   "source": [
    "As a quick check to make sure that things are working as intended, check to see what one of the reviews in the training set looks like after having been processeed. Does this look reasonable? What is the length of a review in the training set?"
   ]
  },
  {
   "cell_type": "code",
   "execution_count": 478,
   "metadata": {},
   "outputs": [
    {
     "name": "stdout",
     "output_type": "stream",
     "text": [
      "[4214   13  250 3906  421  321 4860  861 2502 1214  304 4284 1991  341\n",
      "  168  362  438 1986  453  260    1  861   16   10 3756 1261  716  861\n",
      "   23  795 1079  476   49 4356 2599  577    4   93  588   20  561  362\n",
      "  389   36   69   52   13    1 1805    1  861  175   93  393  363  274\n",
      " 4725    4  861  290  247  259  894    1   14 3706  171  125    0    0\n",
      "    0    0    0    0    0    0    0    0    0    0    0    0    0    0\n",
      "    0    0    0    0    0    0    0    0    0    0    0    0    0    0\n",
      "    0    0    0    0    0    0    0    0    0    0    0    0    0    0\n",
      "    0    0    0    0    0    0    0    0    0    0    0    0    0    0\n",
      "    0    0    0    0    0    0    0    0    0    0    0    0    0    0\n",
      "    0    0    0    0    0    0    0    0    0    0    0    0    0    0\n",
      "    0    0    0    0    0    0    0    0    0    0    0    0    0    0\n",
      "    0    0    0    0    0    0    0    0    0    0    0    0    0    0\n",
      "    0    0    0    0    0    0    0    0    0    0    0    0    0    0\n",
      "    0    0    0    0    0    0    0    0    0    0    0    0    0    0\n",
      "    0    0    0    0    0    0    0    0    0    0    0    0    0    0\n",
      "    0    0    0    0    0    0    0    0    0    0    0    0    0    0\n",
      "    0    0    0    0    0    0    0    0    0    0    0    0    0    0\n",
      "    0    0    0    0    0    0    0    0    0    0    0    0    0    0\n",
      "    0    0    0    0    0    0    0    0    0    0    0    0    0    0\n",
      "    0    0    0    0    0    0    0    0    0    0    0    0    0    0\n",
      "    0    0    0    0    0    0    0    0    0    0    0    0    0    0\n",
      "    0    0    0    0    0    0    0    0    0    0    0    0    0    0\n",
      "    0    0    0    0    0    0    0    0    0    0    0    0    0    0\n",
      "    0    0    0    0    0    0    0    0    0    0    0    0    0    0\n",
      "    0    0    0    0    0    0    0    0    0    0    0    0    0    0\n",
      "    0    0    0    0    0    0    0    0    0    0    0    0    0    0\n",
      "    0    0    0    0    0    0    0    0    0    0    0    0    0    0\n",
      "    0    0    0    0    0    0    0    0    0    0    0    0    0    0\n",
      "    0    0    0    0    0    0    0    0    0    0    0    0    0    0\n",
      "    0    0    0    0    0    0    0    0    0    0    0    0    0    0\n",
      "    0    0    0    0    0    0    0    0    0    0    0    0    0    0\n",
      "    0    0    0    0    0    0    0    0    0    0    0    0    0    0\n",
      "    0    0    0    0    0    0    0    0    0    0    0    0    0    0\n",
      "    0    0    0    0    0    0    0    0    0    0    0    0    0    0\n",
      "    0    0    0    0    0    0    0    0    0    0] ['preposter', 'stori', 'murder', 'blackmail', 'child', 'sex', 'alleg', 'gay', 'cathol', 'church', 'absolut', 'tripe', 'uk', 'base', 'tv', 'drama', 'sit', 'com', 'etc', 'includ', 'obligortori', 'gay', 'realli', 'get', 'tiresom', 'everybodi', 'accept', 'gay', 'peopl', 'societi', 'minor', 'group', 'want', 'ram', 'throat', 'pass', 'one', 'everi', 'singl', 'show', 'apart', 'drama', 'went', 'could', 'interest', 'littl', 'stori', 'pantomim', 'priest', 'paedophil', 'gay', 'run', 'everi', 'oh', 'ye', 'total', 'pc', 'one', 'gay', 'coupl', 'black', 'surpris', 'c', 'eccleston', 'even', 'contempl', 'read', 'script'] [ 68 234  45 ... 383 252 114]\n",
      "68\n"
     ]
    }
   ],
   "source": [
    "# Use this cell to examine one of the processed reviews to make sure everything is working as intended.\n",
    "print(train_X[0],train1_X[0],train_X_len)\n",
    "print(len(train1_X[0]))"
   ]
  },
  {
   "cell_type": "markdown",
   "metadata": {},
   "source": [
    "**Question:** In the cells above we use the `preprocess_data` and `convert_and_pad_data` methods to process both the training and testing set. Why or why not might this be a problem?"
   ]
  },
  {
   "cell_type": "markdown",
   "metadata": {},
   "source": [
    "**Answer:** We are using preprocess_data for both training and test dataset. This is because we need to convert the sentences into words for both training and testing. We use convert_and_pad_data to convert the sentence to a fixed size integer of 500. If the length of input sentence(train or test data) is less than 500 then we padd zero in it. If the length of the sentence(train data or test data) is more than 500 then we trucate the sentence so that the input to the RNN is of constant size throught the training and test time.    "
   ]
  },
  {
   "cell_type": "markdown",
   "metadata": {},
   "source": [
    "## Step 3: Upload the data to S3\n",
    "\n",
    "As in the XGBoost notebook, we will need to upload the training dataset to S3 in order for our training code to access it. For now we will save it locally and we will upload to S3 later on.\n",
    "\n",
    "### Save the processed training dataset locally\n",
    "\n",
    "It is important to note the format of the data that we are saving as we will need to know it when we write the training code. In our case, each row of the dataset has the form `label`, `length`, `review[500]` where `review[500]` is a sequence of `500` integers representing the words in the review."
   ]
  },
  {
   "cell_type": "code",
   "execution_count": 479,
   "metadata": {},
   "outputs": [],
   "source": [
    "import pandas as pd\n",
    "    \n",
    "pd.concat([pd.DataFrame(train_y), pd.DataFrame(train_X_len), pd.DataFrame(train_X)], axis=1) \\\n",
    "        .to_csv(os.path.join(data_dir, 'train.csv'), header=False, index=False)"
   ]
  },
  {
   "cell_type": "markdown",
   "metadata": {},
   "source": [
    "### Uploading the training data\n",
    "\n",
    "\n",
    "Next, we need to upload the training data to the SageMaker default S3 bucket so that we can provide access to it while training our model."
   ]
  },
  {
   "cell_type": "code",
   "execution_count": 480,
   "metadata": {},
   "outputs": [],
   "source": [
    "import sagemaker\n",
    "\n",
    "sagemaker_session = sagemaker.Session()\n",
    "\n",
    "bucket = sagemaker_session.default_bucket()\n",
    "prefix = 'sagemaker/sentiment_rnn'\n",
    "\n",
    "role = sagemaker.get_execution_role()"
   ]
  },
  {
   "cell_type": "code",
   "execution_count": 481,
   "metadata": {},
   "outputs": [],
   "source": [
    "input_data = sagemaker_session.upload_data(path=data_dir, bucket=bucket, key_prefix=prefix)"
   ]
  },
  {
   "cell_type": "markdown",
   "metadata": {},
   "source": [
    "**NOTE:** The cell above uploads the entire contents of our data directory. This includes the `word_dict.pkl` file. This is fortunate as we will need this later on when we create an endpoint that accepts an arbitrary review. For now, we will just take note of the fact that it resides in the data directory (and so also in the S3 training bucket) and that we will need to make sure it gets saved in the model directory."
   ]
  },
  {
   "cell_type": "markdown",
   "metadata": {},
   "source": [
    "## Step 4: Build and Train the PyTorch Model\n",
    "\n",
    "In the XGBoost notebook we discussed what a model is in the SageMaker framework. In particular, a model comprises three objects\n",
    "\n",
    " - Model Artifacts,\n",
    " - Training Code, and\n",
    " - Inference Code,\n",
    " \n",
    "each of which interact with one another. In the XGBoost example we used training and inference code that was provided by Amazon. Here we will still be using containers provided by Amazon with the added benefit of being able to include our own custom code.\n",
    "\n",
    "We will start by implementing our own neural network in PyTorch along with a training script. For the purposes of this project we have provided the necessary model object in the `model.py` file, inside of the `train` folder. You can see the provided implementation by running the cell below."
   ]
  },
  {
   "cell_type": "code",
   "execution_count": 482,
   "metadata": {},
   "outputs": [
    {
     "name": "stdout",
     "output_type": "stream",
     "text": [
      "\u001b[34mimport\u001b[39;49;00m \u001b[04m\u001b[36mtorch.nn\u001b[39;49;00m \u001b[34mas\u001b[39;49;00m \u001b[04m\u001b[36mnn\u001b[39;49;00m\r\n",
      "\r\n",
      "\u001b[34mclass\u001b[39;49;00m \u001b[04m\u001b[32mLSTMClassifier\u001b[39;49;00m(nn.Module):\r\n",
      "    \u001b[33m\"\"\"\u001b[39;49;00m\r\n",
      "\u001b[33m    This is the simple RNN model we will be using to perform Sentiment Analysis.\u001b[39;49;00m\r\n",
      "\u001b[33m    \"\"\"\u001b[39;49;00m\r\n",
      "\r\n",
      "    \u001b[34mdef\u001b[39;49;00m \u001b[32m__init__\u001b[39;49;00m(\u001b[36mself\u001b[39;49;00m, embedding_dim, hidden_dim, vocab_size):\r\n",
      "        \u001b[33m\"\"\"\u001b[39;49;00m\r\n",
      "\u001b[33m        Initialize the model by settingg up the various layers.\u001b[39;49;00m\r\n",
      "\u001b[33m        \"\"\"\u001b[39;49;00m\r\n",
      "        \u001b[36msuper\u001b[39;49;00m(LSTMClassifier, \u001b[36mself\u001b[39;49;00m).\u001b[32m__init__\u001b[39;49;00m()\r\n",
      "\r\n",
      "        \u001b[36mself\u001b[39;49;00m.embedding = nn.Embedding(vocab_size, embedding_dim, padding_idx=\u001b[34m0\u001b[39;49;00m)\r\n",
      "        \u001b[36mself\u001b[39;49;00m.lstm = nn.LSTM(embedding_dim, hidden_dim)\r\n",
      "        \u001b[36mself\u001b[39;49;00m.dense = nn.Linear(in_features=hidden_dim, out_features=\u001b[34m1\u001b[39;49;00m)\r\n",
      "        \u001b[36mself\u001b[39;49;00m.sig = nn.Sigmoid()\r\n",
      "        \r\n",
      "        \u001b[36mself\u001b[39;49;00m.word_dict = \u001b[36mNone\u001b[39;49;00m\r\n",
      "\r\n",
      "    \u001b[34mdef\u001b[39;49;00m \u001b[32mforward\u001b[39;49;00m(\u001b[36mself\u001b[39;49;00m, x):\r\n",
      "        \u001b[33m\"\"\"\u001b[39;49;00m\r\n",
      "\u001b[33m        Perform a forward pass of our model on some input.\u001b[39;49;00m\r\n",
      "\u001b[33m        \"\"\"\u001b[39;49;00m\r\n",
      "        x = x.t()\r\n",
      "        lengths = x[\u001b[34m0\u001b[39;49;00m,:]\r\n",
      "        reviews = x[\u001b[34m1\u001b[39;49;00m:,:]\r\n",
      "        embeds = \u001b[36mself\u001b[39;49;00m.embedding(reviews)\r\n",
      "        lstm_out, _ = \u001b[36mself\u001b[39;49;00m.lstm(embeds)\r\n",
      "        out = \u001b[36mself\u001b[39;49;00m.dense(lstm_out)\r\n",
      "        out = out[lengths - \u001b[34m1\u001b[39;49;00m, \u001b[36mrange\u001b[39;49;00m(\u001b[36mlen\u001b[39;49;00m(lengths))]\r\n",
      "        \u001b[34mreturn\u001b[39;49;00m \u001b[36mself\u001b[39;49;00m.sig(out.squeeze())\r\n"
     ]
    }
   ],
   "source": [
    "!pygmentize train/model.py"
   ]
  },
  {
   "cell_type": "markdown",
   "metadata": {},
   "source": [
    "The important takeaway from the implementation provided is that there are three parameters that we may wish to tweak to improve the performance of our model. These are the embedding dimension, the hidden dimension and the size of the vocabulary. We will likely want to make these parameters configurable in the training script so that if we wish to modify them we do not need to modify the script itself. We will see how to do this later on. To start we will write some of the training code in the notebook so that we can more easily diagnose any issues that arise.\n",
    "\n",
    "First we will load a small portion of the training data set to use as a sample. It would be very time consuming to try and train the model completely in the notebook as we do not have access to a gpu and the compute instance that we are using is not particularly powerful. However, we can work on a small bit of the data to get a feel for how our training script is behaving."
   ]
  },
  {
   "cell_type": "code",
   "execution_count": 483,
   "metadata": {},
   "outputs": [],
   "source": [
    "import torch\n",
    "import torch.utils.data\n",
    "\n",
    "# Read in only the first 250 rows\n",
    "train_sample = pd.read_csv(os.path.join(data_dir, 'train.csv'), header=None, names=None, nrows=250)\n",
    "\n",
    "# Turn the input pandas dataframe into tensors\n",
    "train_sample_y = torch.from_numpy(train_sample[[0]].values).float().squeeze()\n",
    "train_sample_X = torch.from_numpy(train_sample.drop([0], axis=1).values).long()\n",
    "\n",
    "# Build the dataset\n",
    "train_sample_ds = torch.utils.data.TensorDataset(train_sample_X, train_sample_y)\n",
    "# Build the dataloader\n",
    "train_sample_dl = torch.utils.data.DataLoader(train_sample_ds, batch_size=50)"
   ]
  },
  {
   "cell_type": "markdown",
   "metadata": {},
   "source": [
    "### (TODO) Writing the training method\n",
    "\n",
    "Next we need to write the training code itself. This should be very similar to training methods that you have written before to train PyTorch models. We will leave any difficult aspects such as model saving / loading and parameter loading until a little later."
   ]
  },
  {
   "cell_type": "code",
   "execution_count": 484,
   "metadata": {},
   "outputs": [],
   "source": [
    "def train(model, train_loader, epochs, optimizer, loss_fn, device):\n",
    "    for epoch in range(1, epochs + 1):\n",
    "        model.train()\n",
    "        total_loss = 0\n",
    "        for batch in train_loader:         \n",
    "            batch_X, batch_y = batch\n",
    "            \n",
    "            batch_X = batch_X.to(device)\n",
    "            batch_y = batch_y.to(device)\n",
    "            optimizer.zero_grad()\n",
    "            output  = model.forward(batch_X)\n",
    "            loss = loss_fn(output,batch_y)\n",
    "            loss.backward()\n",
    "            optimizer.step()\n",
    "            # TODO: Complete this train method to train the model provided.\n",
    "            \n",
    "            total_loss += loss.data.item()\n",
    "        print(\"Epoch: {}, BCELoss: {}\".format(epoch, total_loss / len(train_loader)))"
   ]
  },
  {
   "cell_type": "markdown",
   "metadata": {},
   "source": [
    "Supposing we have the training method above, we will test that it is working by writing a bit of code in the notebook that executes our training method on the small sample training set that we loaded earlier. The reason for doing this in the notebook is so that we have an opportunity to fix any errors that arise early when they are easier to diagnose."
   ]
  },
  {
   "cell_type": "code",
   "execution_count": 485,
   "metadata": {},
   "outputs": [
    {
     "name": "stdout",
     "output_type": "stream",
     "text": [
      "Epoch: 1, BCELoss: 0.6919603109359741\n",
      "Epoch: 2, BCELoss: 0.6839336514472961\n",
      "Epoch: 3, BCELoss: 0.6770533323287964\n",
      "Epoch: 4, BCELoss: 0.6693432688713074\n",
      "Epoch: 5, BCELoss: 0.6599057793617249\n",
      "Epoch: 6, BCELoss: 0.6475024938583374\n",
      "Epoch: 7, BCELoss: 0.6301290631294251\n",
      "Epoch: 8, BCELoss: 0.6045514225959778\n",
      "Epoch: 9, BCELoss: 0.5701189160346984\n",
      "Epoch: 10, BCELoss: 0.5378330111503601\n"
     ]
    }
   ],
   "source": [
    "import torch.optim as optim\n",
    "from train.model import LSTMClassifier\n",
    "\n",
    "device = torch.device(\"cuda\" if torch.cuda.is_available() else \"cpu\")\n",
    "model = LSTMClassifier(32, 100, 5000).to(device)\n",
    "optimizer = optim.Adam(model.parameters())\n",
    "loss_fn = torch.nn.BCELoss()\n",
    "\n",
    "train(model, train_sample_dl, 10, optimizer, loss_fn, device)"
   ]
  },
  {
   "cell_type": "markdown",
   "metadata": {},
   "source": [
    "In order to construct a PyTorch model using SageMaker we must provide SageMaker with a training script. We may optionally include a directory which will be copied to the container and from which our training code will be run. When the training container is executed it will check the uploaded directory (if there is one) for a `requirements.txt` file and install any required Python libraries, after which the training script will be run."
   ]
  },
  {
   "cell_type": "markdown",
   "metadata": {},
   "source": [
    "### (TODO) Training the model\n",
    "\n",
    "When a PyTorch model is constructed in SageMaker, an entry point must be specified. This is the Python file which will be executed when the model is trained. Inside of the `train` directory is a file called `train.py` which has been provided and which contains most of the necessary code to train our model. The only thing that is missing is the implementation of the `train()` method which you wrote earlier in this notebook.\n",
    "\n",
    "**TODO**: Copy the `train()` method written above and paste it into the `train/train.py` file where required.\n",
    "\n",
    "The way that SageMaker passes hyperparameters to the training script is by way of arguments. These arguments can then be parsed and used in the training script. To see how this is done take a look at the provided `train/train.py` file."
   ]
  },
  {
   "cell_type": "code",
   "execution_count": 489,
   "metadata": {},
   "outputs": [],
   "source": [
    "from sagemaker.pytorch import PyTorch\n",
    "\n",
    "estimator = PyTorch(entry_point=\"train.py\",\n",
    "                    source_dir=\"train\",\n",
    "                    role=role,\n",
    "                    framework_version='0.4.0',\n",
    "                    train_instance_count=1,\n",
    "                    train_instance_type='ml.p2.xlarge',\n",
    "                    hyperparameters={\n",
    "                        'epochs': 10,\n",
    "                        'hidden_dim': 200,\n",
    "                    })"
   ]
  },
  {
   "cell_type": "code",
   "execution_count": 490,
   "metadata": {},
   "outputs": [
    {
     "name": "stderr",
     "output_type": "stream",
     "text": [
      "INFO:sagemaker:Creating training-job with name: sagemaker-pytorch-2019-04-07-05-53-50-573\n"
     ]
    },
    {
     "name": "stdout",
     "output_type": "stream",
     "text": [
      "2019-04-07 05:53:52 Starting - Starting the training job......\n",
      "2019-04-07 05:54:25 Starting - Launching requested ML instances......\n",
      "2019-04-07 05:55:24 Starting - Preparing the instances for training.........\n",
      "2019-04-07 05:57:22 Downloading - Downloading input data\n",
      "2019-04-07 05:57:22 Training - Downloading the training image...\n",
      "2019-04-07 05:57:46 Training - Training image download completed. Training in progress..\n",
      "\u001b[31mbash: cannot set terminal process group (-1): Inappropriate ioctl for device\u001b[0m\n",
      "\u001b[31mbash: no job control in this shell\u001b[0m\n",
      "\u001b[31m2019-04-07 05:57:47,551 sagemaker-containers INFO     Imported framework sagemaker_pytorch_container.training\u001b[0m\n",
      "\u001b[31m2019-04-07 05:57:47,576 sagemaker_pytorch_container.training INFO     Block until all host DNS lookups succeed.\u001b[0m\n",
      "\u001b[31m2019-04-07 05:57:47,589 sagemaker_pytorch_container.training INFO     Invoking user training script.\u001b[0m\n",
      "\u001b[31m2019-04-07 05:57:47,812 sagemaker-containers INFO     Module train does not provide a setup.py. \u001b[0m\n",
      "\u001b[31mGenerating setup.py\u001b[0m\n",
      "\u001b[31m2019-04-07 05:57:47,812 sagemaker-containers INFO     Generating setup.cfg\u001b[0m\n",
      "\u001b[31m2019-04-07 05:57:47,812 sagemaker-containers INFO     Generating MANIFEST.in\u001b[0m\n",
      "\u001b[31m2019-04-07 05:57:47,813 sagemaker-containers INFO     Installing module with the following command:\u001b[0m\n",
      "\u001b[31m/usr/bin/python -m pip install -U . -r requirements.txt\u001b[0m\n",
      "\u001b[31mProcessing /opt/ml/code\u001b[0m\n",
      "\u001b[31mCollecting pandas (from -r requirements.txt (line 1))\n",
      "  Downloading https://files.pythonhosted.org/packages/74/24/0cdbf8907e1e3bc5a8da03345c23cbed7044330bb8f73bb12e711a640a00/pandas-0.24.2-cp35-cp35m-manylinux1_x86_64.whl (10.0MB)\u001b[0m\n",
      "\u001b[31mCollecting numpy (from -r requirements.txt (line 2))\n",
      "  Downloading https://files.pythonhosted.org/packages/e3/18/4f013c3c3051f4e0ffbaa4bf247050d6d5e527fe9cb1907f5975b172f23f/numpy-1.16.2-cp35-cp35m-manylinux1_x86_64.whl (17.2MB)\u001b[0m\n",
      "\u001b[31mCollecting nltk (from -r requirements.txt (line 3))\n",
      "  Downloading https://files.pythonhosted.org/packages/6f/ed/9c755d357d33bc1931e157f537721efb5b88d2c583fe593cc09603076cc3/nltk-3.4.zip (1.4MB)\u001b[0m\n",
      "\u001b[31mCollecting beautifulsoup4 (from -r requirements.txt (line 4))\n",
      "  Downloading https://files.pythonhosted.org/packages/1d/5d/3260694a59df0ec52f8b4883f5d23b130bc237602a1411fa670eae12351e/beautifulsoup4-4.7.1-py3-none-any.whl (94kB)\u001b[0m\n",
      "\u001b[31mCollecting html5lib (from -r requirements.txt (line 5))\n",
      "  Downloading https://files.pythonhosted.org/packages/a5/62/bbd2be0e7943ec8504b517e62bab011b4946e1258842bc159e5dfde15b96/html5lib-1.0.1-py2.py3-none-any.whl (117kB)\u001b[0m\n",
      "\u001b[31mCollecting pytz>=2011k (from pandas->-r requirements.txt (line 1))\n",
      "  Downloading https://files.pythonhosted.org/packages/61/28/1d3920e4d1d50b19bc5d24398a7cd85cc7b9a75a490570d5a30c57622d34/pytz-2018.9-py2.py3-none-any.whl (510kB)\u001b[0m\n",
      "\u001b[31mRequirement already satisfied, skipping upgrade: python-dateutil>=2.5.0 in /usr/local/lib/python3.5/dist-packages (from pandas->-r requirements.txt (line 1)) (2.7.5)\u001b[0m\n",
      "\u001b[31mRequirement already satisfied, skipping upgrade: six in /usr/local/lib/python3.5/dist-packages (from nltk->-r requirements.txt (line 3)) (1.11.0)\u001b[0m\n",
      "\u001b[31mCollecting singledispatch (from nltk->-r requirements.txt (line 3))\n",
      "  Downloading https://files.pythonhosted.org/packages/c5/10/369f50bcd4621b263927b0a1519987a04383d4a98fb10438042ad410cf88/singledispatch-3.4.0.3-py2.py3-none-any.whl\u001b[0m\n",
      "\u001b[31mCollecting soupsieve>=1.2 (from beautifulsoup4->-r requirements.txt (line 4))\n",
      "  Downloading https://files.pythonhosted.org/packages/c9/f8/e54b1d771ed4fab66b3fa1c178e137a3c73d84fb6f64329bddf0da5a371c/soupsieve-1.9-py2.py3-none-any.whl\u001b[0m\n",
      "\u001b[31mCollecting webencodings (from html5lib->-r requirements.txt (line 5))\n",
      "  Downloading https://files.pythonhosted.org/packages/f4/24/2a3e3df732393fed8b3ebf2ec078f05546de641fe1b667ee316ec1dcf3b7/webencodings-0.5.1-py2.py3-none-any.whl\u001b[0m\n",
      "\u001b[31mBuilding wheels for collected packages: nltk, train\n",
      "  Running setup.py bdist_wheel for nltk: started\u001b[0m\n",
      "\u001b[31m  Running setup.py bdist_wheel for nltk: finished with status 'done'\n",
      "  Stored in directory: /root/.cache/pip/wheels/4b/c8/24/b2343664bcceb7147efeb21c0b23703a05b23fcfeaceaa2a1e\n",
      "  Running setup.py bdist_wheel for train: started\u001b[0m\n",
      "\u001b[31m  Running setup.py bdist_wheel for train: finished with status 'done'\n",
      "  Stored in directory: /tmp/pip-ephem-wheel-cache-dkq6u4fw/wheels/35/24/16/37574d11bf9bde50616c67372a334f94fa8356bc7164af8ca3\u001b[0m\n",
      "\u001b[31mSuccessfully built nltk train\u001b[0m\n",
      "\u001b[31mInstalling collected packages: numpy, pytz, pandas, singledispatch, nltk, soupsieve, beautifulsoup4, webencodings, html5lib, train\n",
      "  Found existing installation: numpy 1.15.4\n",
      "    Uninstalling numpy-1.15.4:\u001b[0m\n",
      "\u001b[31m      Successfully uninstalled numpy-1.15.4\u001b[0m\n",
      "\u001b[31mSuccessfully installed beautifulsoup4-4.7.1 html5lib-1.0.1 nltk-3.4 numpy-1.16.2 pandas-0.24.2 pytz-2018.9 singledispatch-3.4.0.3 soupsieve-1.9 train-1.0.0 webencodings-0.5.1\u001b[0m\n",
      "\u001b[31mYou are using pip version 18.1, however version 19.0.3 is available.\u001b[0m\n",
      "\u001b[31mYou should consider upgrading via the 'pip install --upgrade pip' command.\u001b[0m\n",
      "\u001b[31m2019-04-07 05:57:59,553 sagemaker-containers INFO     Invoking user script\n",
      "\u001b[0m\n",
      "\u001b[31mTraining Env:\n",
      "\u001b[0m\n",
      "\u001b[31m{\n",
      "    \"hosts\": [\n",
      "        \"algo-1\"\n",
      "    ],\n",
      "    \"module_dir\": \"s3://sagemaker-ap-south-1-031184423404/sagemaker-pytorch-2019-04-07-05-53-50-573/source/sourcedir.tar.gz\",\n",
      "    \"num_cpus\": 4,\n",
      "    \"network_interface_name\": \"ethwe\",\n",
      "    \"module_name\": \"train\",\n",
      "    \"job_name\": \"sagemaker-pytorch-2019-04-07-05-53-50-573\",\n",
      "    \"framework_module\": \"sagemaker_pytorch_container.training:main\",\n",
      "    \"input_config_dir\": \"/opt/ml/input/config\",\n",
      "    \"output_data_dir\": \"/opt/ml/output/data\",\n",
      "    \"log_level\": 20,\n",
      "    \"output_intermediate_dir\": \"/opt/ml/output/intermediate\",\n",
      "    \"resource_config\": {\n",
      "        \"hosts\": [\n",
      "            \"algo-1\"\n",
      "        ],\n",
      "        \"network_interface_name\": \"ethwe\",\n",
      "        \"current_host\": \"algo-1\"\n",
      "    },\n",
      "    \"input_dir\": \"/opt/ml/input\",\n",
      "    \"output_dir\": \"/opt/ml/output\",\n",
      "    \"channel_input_dirs\": {\n",
      "        \"training\": \"/opt/ml/input/data/training\"\n",
      "    },\n",
      "    \"user_entry_point\": \"train.py\",\n",
      "    \"input_data_config\": {\n",
      "        \"training\": {\n",
      "            \"TrainingInputMode\": \"File\",\n",
      "            \"S3DistributionType\": \"FullyReplicated\",\n",
      "            \"RecordWrapperType\": \"None\"\n",
      "        }\n",
      "    },\n",
      "    \"model_dir\": \"/opt/ml/model\",\n",
      "    \"hyperparameters\": {\n",
      "        \"epochs\": 10,\n",
      "        \"hidden_dim\": 200\n",
      "    },\n",
      "    \"current_host\": \"algo-1\",\n",
      "    \"num_gpus\": 1,\n",
      "    \"additional_framework_parameters\": {}\u001b[0m\n",
      "\u001b[31m}\n",
      "\u001b[0m\n",
      "\u001b[31mEnvironment variables:\n",
      "\u001b[0m\n",
      "\u001b[31mSM_HP_EPOCHS=10\u001b[0m\n",
      "\u001b[31mSM_NUM_CPUS=4\u001b[0m\n",
      "\u001b[31mSM_FRAMEWORK_PARAMS={}\u001b[0m\n",
      "\u001b[31mSM_HOSTS=[\"algo-1\"]\u001b[0m\n",
      "\u001b[31mSM_HP_HIDDEN_DIM=200\u001b[0m\n",
      "\u001b[31mSM_HPS={\"epochs\":10,\"hidden_dim\":200}\u001b[0m\n",
      "\u001b[31mSM_MODEL_DIR=/opt/ml/model\u001b[0m\n",
      "\u001b[31mSM_INPUT_DIR=/opt/ml/input\u001b[0m\n",
      "\u001b[31mSM_LOG_LEVEL=20\u001b[0m\n",
      "\u001b[31mSM_INPUT_CONFIG_DIR=/opt/ml/input/config\u001b[0m\n",
      "\u001b[31mSM_OUTPUT_DIR=/opt/ml/output\u001b[0m\n",
      "\u001b[31mSM_RESOURCE_CONFIG={\"current_host\":\"algo-1\",\"hosts\":[\"algo-1\"],\"network_interface_name\":\"ethwe\"}\u001b[0m\n",
      "\u001b[31mSM_INPUT_DATA_CONFIG={\"training\":{\"RecordWrapperType\":\"None\",\"S3DistributionType\":\"FullyReplicated\",\"TrainingInputMode\":\"File\"}}\u001b[0m\n",
      "\u001b[31mSM_TRAINING_ENV={\"additional_framework_parameters\":{},\"channel_input_dirs\":{\"training\":\"/opt/ml/input/data/training\"},\"current_host\":\"algo-1\",\"framework_module\":\"sagemaker_pytorch_container.training:main\",\"hosts\":[\"algo-1\"],\"hyperparameters\":{\"epochs\":10,\"hidden_dim\":200},\"input_config_dir\":\"/opt/ml/input/config\",\"input_data_config\":{\"training\":{\"RecordWrapperType\":\"None\",\"S3DistributionType\":\"FullyReplicated\",\"TrainingInputMode\":\"File\"}},\"input_dir\":\"/opt/ml/input\",\"job_name\":\"sagemaker-pytorch-2019-04-07-05-53-50-573\",\"log_level\":20,\"model_dir\":\"/opt/ml/model\",\"module_dir\":\"s3://sagemaker-ap-south-1-031184423404/sagemaker-pytorch-2019-04-07-05-53-50-573/source/sourcedir.tar.gz\",\"module_name\":\"train\",\"network_interface_name\":\"ethwe\",\"num_cpus\":4,\"num_gpus\":1,\"output_data_dir\":\"/opt/ml/output/data\",\"output_dir\":\"/opt/ml/output\",\"output_intermediate_dir\":\"/opt/ml/output/intermediate\",\"resource_config\":{\"current_host\":\"algo-1\",\"hosts\":[\"algo-1\"],\"network_interface_name\":\"ethwe\"},\"user_entry_point\":\"train.py\"}\u001b[0m\n",
      "\u001b[31mSM_CHANNELS=[\"training\"]\u001b[0m\n",
      "\u001b[31mSM_NETWORK_INTERFACE_NAME=ethwe\u001b[0m\n",
      "\u001b[31mSM_NUM_GPUS=1\u001b[0m\n",
      "\u001b[31mSM_MODULE_DIR=s3://sagemaker-ap-south-1-031184423404/sagemaker-pytorch-2019-04-07-05-53-50-573/source/sourcedir.tar.gz\u001b[0m\n",
      "\u001b[31mSM_MODULE_NAME=train\u001b[0m\n",
      "\u001b[31mSM_CHANNEL_TRAINING=/opt/ml/input/data/training\u001b[0m\n",
      "\u001b[31mSM_OUTPUT_DATA_DIR=/opt/ml/output/data\u001b[0m\n",
      "\u001b[31mSM_FRAMEWORK_MODULE=sagemaker_pytorch_container.training:main\u001b[0m\n",
      "\u001b[31mSM_USER_ARGS=[\"--epochs\",\"10\",\"--hidden_dim\",\"200\"]\u001b[0m\n",
      "\u001b[31mPYTHONPATH=/usr/local/bin:/usr/lib/python35.zip:/usr/lib/python3.5:/usr/lib/python3.5/plat-x86_64-linux-gnu:/usr/lib/python3.5/lib-dynload:/usr/local/lib/python3.5/dist-packages:/usr/lib/python3/dist-packages\u001b[0m\n",
      "\u001b[31mSM_USER_ENTRY_POINT=train.py\u001b[0m\n",
      "\u001b[31mSM_CURRENT_HOST=algo-1\u001b[0m\n",
      "\u001b[31mSM_OUTPUT_INTERMEDIATE_DIR=/opt/ml/output/intermediate\n",
      "\u001b[0m\n",
      "\u001b[31mInvoking script with the following command:\n",
      "\u001b[0m\n",
      "\u001b[31m/usr/bin/python -m train --epochs 10 --hidden_dim 200\n",
      "\n",
      "\u001b[0m\n",
      "\u001b[31mUsing device cuda.\u001b[0m\n",
      "\u001b[31mGet train data loader.\u001b[0m\n"
     ]
    },
    {
     "name": "stdout",
     "output_type": "stream",
     "text": [
      "\u001b[31mModel loaded with embedding_dim 32, hidden_dim 200, vocab_size 5000.\u001b[0m\n",
      "\u001b[31mEpoch: 1, BCELoss: 0.6696939687339627\u001b[0m\n",
      "\u001b[31mEpoch: 2, BCELoss: 0.584347049800717\u001b[0m\n",
      "\u001b[31mEpoch: 3, BCELoss: 0.49126228021115675\u001b[0m\n",
      "\u001b[31mEpoch: 4, BCELoss: 0.41475499345331773\u001b[0m\n",
      "\u001b[31mEpoch: 5, BCELoss: 0.3928553930350712\u001b[0m\n",
      "\u001b[31mEpoch: 6, BCELoss: 0.3499709982044843\u001b[0m\n",
      "\u001b[31mEpoch: 7, BCELoss: 0.33632631508671507\u001b[0m\n",
      "\u001b[31mEpoch: 8, BCELoss: 0.32031573750534836\u001b[0m\n",
      "\u001b[31mEpoch: 9, BCELoss: 0.2960609723718799\u001b[0m\n",
      "\u001b[31mEpoch: 10, BCELoss: 0.2791966050863266\u001b[0m\n",
      "\u001b[31m2019-04-07 06:00:59,919 sagemaker-containers INFO     Reporting training SUCCESS\u001b[0m\n",
      "\n",
      "2019-04-07 06:01:09 Uploading - Uploading generated training model\n",
      "2019-04-07 06:01:09 Completed - Training job completed\n",
      "Billable seconds: 246\n"
     ]
    }
   ],
   "source": [
    "estimator.fit({'training': input_data})"
   ]
  },
  {
   "cell_type": "markdown",
   "metadata": {},
   "source": [
    "## Step 5: Testing the model\n",
    "\n",
    "As mentioned at the top of this notebook, we will be testing this model by first deploying it and then sending the testing data to the deployed endpoint. We will do this so that we can make sure that the deployed model is working correctly.\n",
    "\n",
    "## Step 6: Deploy the model for testing\n",
    "\n",
    "Now that we have trained our model, we would like to test it to see how it performs. Currently our model takes input of the form `review_length, review[500]` where `review[500]` is a sequence of `500` integers which describe the words present in the review, encoded using `word_dict`. Fortunately for us, SageMaker provides built-in inference code for models with simple inputs such as this.\n",
    "\n",
    "There is one thing that we need to provide, however, and that is a function which loads the saved model. This function must be called `model_fn()` and takes as its only parameter a path to the directory where the model artifacts are stored. This function must also be present in the python file which we specified as the entry point. In our case the model loading function has been provided and so no changes need to be made.\n",
    "\n",
    "**NOTE**: When the built-in inference code is run it must import the `model_fn()` method from the `train.py` file. This is why the training code is wrapped in a main guard ( ie, `if __name__ == '__main__':` )\n",
    "\n",
    "Since we don't need to change anything in the code that was uploaded during training, we can simply deploy the current model as-is.\n",
    "\n",
    "**NOTE:** When deploying a model you are asking SageMaker to launch an compute instance that will wait for data to be sent to it. As a result, this compute instance will continue to run until *you* shut it down. This is important to know since the cost of a deployed endpoint depends on how long it has been running for.\n",
    "\n",
    "In other words **If you are no longer using a deployed endpoint, shut it down!**\n",
    "\n",
    "**TODO:** Deploy the trained model."
   ]
  },
  {
   "cell_type": "code",
   "execution_count": 522,
   "metadata": {},
   "outputs": [
    {
     "name": "stderr",
     "output_type": "stream",
     "text": [
      "INFO:sagemaker:Creating model with name: sagemaker-pytorch-2019-04-07-05-53-50-573\n",
      "WARNING:sagemaker:Using already existing model: sagemaker-pytorch-2019-04-07-05-53-50-573\n",
      "INFO:sagemaker:Creating endpoint with name sagemaker-pytorch-2019-04-07-05-53-50-573\n"
     ]
    },
    {
     "name": "stdout",
     "output_type": "stream",
     "text": [
      "---------------------------------------------------------------------------!"
     ]
    }
   ],
   "source": [
    "# TODO: Deploy the trained model\n",
    "#from train.train import model_fn\n",
    "predictor = estimator.deploy(initial_instance_count=1, instance_type='ml.m4.xlarge')"
   ]
  },
  {
   "cell_type": "markdown",
   "metadata": {},
   "source": [
    "## Step 7 - Use the model for testing\n",
    "\n",
    "Once deployed, we can read in the test data and send it off to our deployed model to get some results. Once we collect all of the results we can determine how accurate our model is."
   ]
  },
  {
   "cell_type": "code",
   "execution_count": 523,
   "metadata": {},
   "outputs": [],
   "source": [
    "test_X = pd.concat([pd.DataFrame(test_X_len), pd.DataFrame(test_X)], axis=1)"
   ]
  },
  {
   "cell_type": "code",
   "execution_count": 524,
   "metadata": {},
   "outputs": [],
   "source": [
    "# We split the data into chunks and send each chunk seperately, accumulating the results.\n",
    "\n",
    "def predict(data, rows=512):\n",
    "    print(data.shape)\n",
    "    split_array = np.array_split(data, int(data.shape[0] / float(rows) + 1))\n",
    "    print(len(split_array))\n",
    "    predictions = np.array([])\n",
    "    for array in split_array:\n",
    "        predictions = np.append(predictions, predictor.predict(array))\n",
    "        print(predictions)\n",
    "    print(len(predictions))\n",
    "    return predictions"
   ]
  },
  {
   "cell_type": "code",
   "execution_count": 525,
   "metadata": {},
   "outputs": [
    {
     "name": "stdout",
     "output_type": "stream",
     "text": [
      "(25000, 502)\n",
      "49\n",
      "[2.25713942e-03 2.89532840e-01 7.82399159e-03 9.95694637e-01\n",
      " 6.14828289e-01 9.59852636e-01 7.99664482e-03 1.28209874e-01\n",
      " 3.16446908e-02 3.06752063e-02 6.85096672e-03 9.56444681e-01\n",
      " 9.51834202e-01 2.91915331e-02 3.71334609e-03 7.19257116e-01\n",
      " 9.54710662e-01 3.96175742e-01 9.66093898e-01 8.61479342e-02\n",
      " 6.48071945e-01 3.97950083e-01 1.95310101e-01 7.58232027e-02\n",
      " 9.75383580e-01 6.96868062e-01 2.01669902e-01 5.00632882e-01\n",
      " 8.42590451e-01 6.85249150e-01 9.55715895e-01 2.70286232e-01\n",
      " 1.27114162e-01 3.01554114e-01 8.53065789e-01 1.25783905e-01\n",
      " 3.57201785e-01 2.26626471e-01 4.06967938e-01 9.40555453e-01\n",
      " 4.28936750e-01 1.68104153e-02 9.69886780e-01 1.05511315e-01\n",
      " 9.54425037e-02 9.08971012e-01 6.94889724e-02 2.27159873e-01\n",
      " 1.27471104e-01 1.48339551e-02 1.96101069e-02 5.56701779e-01\n",
      " 9.55496132e-01 2.35500373e-02 9.50681150e-01 6.48702800e-01\n",
      " 3.15786488e-02 2.27878898e-01 6.70999289e-01 4.55279946e-02\n",
      " 9.98115540e-01 8.36184502e-01 2.12249517e-01 8.65465105e-02\n",
      " 3.68377030e-01 1.28392177e-02 3.47030938e-01 8.43164623e-01\n",
      " 1.09343015e-01 9.94626224e-01 1.00479305e-01 2.43806243e-02\n",
      " 2.43478462e-01 8.84066224e-01 8.09170425e-01 9.71231580e-01\n",
      " 8.42926741e-01 6.40402734e-02 1.98463917e-01 9.49076056e-01\n",
      " 2.69721337e-02 5.78528196e-02 7.63052940e-01 1.70505300e-01\n",
      " 4.91227061e-01 2.09974684e-03 9.84983146e-01 9.63344693e-01\n",
      " 3.90800357e-01 5.00363335e-02 1.12469852e-01 8.74482155e-01\n",
      " 8.78530741e-01 2.40331125e-02 9.63256955e-01 2.31248574e-04\n",
      " 6.81910574e-01 4.63249534e-01 9.19027388e-01 6.71476424e-01\n",
      " 9.91074026e-01 7.49664962e-01 5.00106514e-01 1.17730722e-01\n",
      " 8.06032792e-02 9.76608276e-01 1.99571535e-01 9.60415184e-01\n",
      " 1.33287152e-02 1.52820185e-01 3.93405408e-02 2.88377523e-01\n",
      " 1.06025841e-02 9.75517213e-01 3.32599245e-02 4.63071018e-02\n",
      " 9.93979931e-01 9.67069685e-01 3.58706176e-01 2.95376987e-03\n",
      " 9.87670898e-01 7.65591627e-03 9.42563951e-01 6.34863317e-01\n",
      " 9.83619034e-01 7.06119657e-01 9.91162539e-01 9.96976376e-01\n",
      " 8.84085178e-01 4.78937954e-01 8.90407741e-01 8.45725954e-01\n",
      " 1.14491303e-02 2.55635623e-02 5.39298356e-03 6.66568995e-01\n",
      " 8.95741642e-01 1.71964422e-01 9.79301333e-01 2.73080111e-01\n",
      " 1.68903582e-02 8.08864176e-01 9.64923322e-01 9.12868023e-01\n",
      " 1.02434494e-03 9.66473460e-01 4.34527755e-01 4.09240425e-01\n",
      " 8.66118133e-01 1.62766371e-02 3.04282933e-01 1.14551820e-02\n",
      " 7.79840708e-01 9.61101335e-03 2.03642733e-02 5.81869304e-01\n",
      " 3.79939042e-02 4.68127757e-01 4.59635863e-03 7.38434820e-03\n",
      " 9.32437122e-01 3.39959383e-01 3.03322310e-03 9.39284340e-02\n",
      " 9.85428035e-01 6.46072812e-03 1.11486308e-01 2.19247609e-01\n",
      " 1.68073736e-02 9.28743482e-01 9.66047287e-01 2.57336050e-01\n",
      " 5.49548030e-01 1.42187268e-01 4.20638680e-01 5.49993992e-01\n",
      " 7.52715290e-01 2.35024706e-01 5.05555831e-02 9.02996302e-01\n",
      " 9.77502644e-01 1.11709543e-01 9.80354369e-01 6.61638379e-02\n",
      " 1.50904488e-02 7.73934245e-01 9.71899450e-01 7.74630964e-01\n",
      " 8.24612737e-01 7.38469541e-01 8.93340647e-01 8.64382923e-01\n",
      " 9.74824190e-01 5.64681113e-01 4.92720038e-01 7.81885266e-01\n",
      " 4.21231426e-03 8.81171286e-01 1.05575256e-01 2.82271411e-02\n",
      " 9.71983012e-04 8.76816869e-01 2.93382350e-02 9.88485813e-01\n",
      " 8.00185204e-01 9.96168435e-01 9.91619468e-01 8.95849824e-01\n",
      " 9.22379673e-01 9.80730295e-01 9.90518153e-01 1.08160064e-01\n",
      " 1.74516395e-01 4.75473821e-01 3.97215039e-01 9.51128185e-01\n",
      " 8.34955215e-01 9.23183382e-01 5.26901007e-01 1.69471905e-01\n",
      " 8.68978444e-03 8.58478665e-01 8.68613839e-01 7.65240610e-01\n",
      " 9.85834301e-01 2.08077133e-01 6.91440344e-01 8.05130959e-01\n",
      " 3.22786020e-03 1.36000942e-02 9.66010690e-01 9.66485739e-01\n",
      " 9.74891186e-01 2.69940823e-01 8.72345090e-01 2.23321646e-01\n",
      " 9.09140985e-03 9.63184536e-01 4.40684520e-02 7.91355148e-02\n",
      " 5.02720773e-02 1.58431381e-01 9.47130322e-01 9.92569029e-01\n",
      " 1.32361427e-01 9.53929603e-01 1.54633373e-01 9.22266543e-01\n",
      " 9.93363380e-01 3.44344452e-02 9.98551190e-01 3.47197950e-01\n",
      " 9.81480956e-01 4.71923593e-03 3.19802505e-03 1.53578408e-02\n",
      " 6.96182728e-01 8.73394847e-01 1.08637381e-02 7.66026378e-01\n",
      " 8.00002292e-02 9.18065131e-01 8.44890416e-01 1.22224651e-02\n",
      " 5.43668531e-02 2.80757755e-01 8.63969505e-01 9.20822978e-01\n",
      " 9.32831347e-01 2.74483770e-01 4.91001308e-01 8.26134384e-01\n",
      " 3.10533553e-01 9.62952435e-01 8.45655892e-03 7.47489214e-01\n",
      " 9.28622484e-01 8.80766273e-01 1.22744776e-01 1.20976558e-02\n",
      " 9.04554248e-01 1.08971661e-02 4.39742357e-02 2.96538472e-01\n",
      " 9.02710576e-03 1.78817034e-01 7.82684267e-01 7.05348253e-01\n",
      " 4.09541398e-01 9.33404684e-01 4.45410669e-01 5.12772650e-02\n",
      " 9.70601737e-01 9.20136154e-01 7.48460293e-01 1.69246688e-01\n",
      " 9.90376651e-01 4.06129956e-02 9.53701973e-01 7.40424078e-03\n",
      " 7.77081922e-02 1.19680995e-02 8.04536566e-02 9.71595049e-01\n",
      " 5.56800812e-02 8.85730088e-01 8.81679595e-01 8.48232746e-01\n",
      " 9.92508948e-01 9.53124642e-01 8.17105919e-03 1.24046162e-01\n",
      " 9.10303533e-01 8.16498876e-01 4.46554005e-01 1.41120804e-02\n",
      " 6.09382838e-02 3.80943000e-01 7.81725407e-01 9.38536599e-03\n",
      " 2.13601440e-02 3.30872759e-02 5.35033680e-02 9.69995558e-01\n",
      " 9.57624316e-01 1.08146451e-01 9.87850726e-01 7.06658512e-02\n",
      " 7.94648603e-02 9.49078321e-01 9.66865480e-01 9.16560590e-01\n",
      " 4.77061749e-01 2.66063437e-02 7.80905634e-02 3.86793055e-02\n",
      " 8.47214162e-01 6.99090064e-01 9.76342738e-01 9.71766829e-01\n",
      " 8.79788578e-01 1.53618064e-02 9.55926061e-01 9.48633850e-01\n",
      " 7.49720871e-01 4.08795863e-01 1.77065916e-02 3.57538372e-01\n",
      " 8.63467991e-01 6.13679700e-02 9.70439494e-01 9.19864416e-01\n",
      " 8.66658866e-01 8.98305237e-01 6.42934591e-02 2.63179421e-01\n",
      " 9.39195931e-01 5.38552999e-01 1.72922254e-01 4.77575660e-01\n",
      " 9.82622266e-01 1.13192908e-01 9.55517888e-01 1.64060183e-02\n",
      " 9.99233842e-01 2.70612806e-01 7.45065749e-01 4.09700396e-03\n",
      " 8.24857280e-02 9.23784375e-01 7.33187795e-01 8.12393904e-01\n",
      " 8.84912074e-01 1.13577627e-01 2.47376170e-02 9.40985799e-01\n",
      " 1.39472112e-01 8.79036248e-01 6.19230326e-03 6.73707575e-02\n",
      " 4.92425449e-02 7.34261811e-01 5.69463253e-01 6.89521953e-02\n",
      " 8.34502637e-01 8.30273509e-01 7.95780897e-01 9.83147621e-01\n",
      " 8.30694437e-01 4.28340882e-02 3.10996175e-03 7.74093747e-01\n",
      " 7.06750453e-02 7.46480674e-02 3.03859394e-02 9.20007285e-03\n",
      " 9.63393390e-01 9.43642497e-01 3.89153622e-02 8.52793038e-01\n",
      " 4.39567596e-01 2.73205280e-01 9.78132263e-02 7.99963593e-01\n",
      " 9.87729371e-01 1.80636384e-02 5.43737590e-01 4.21500653e-01\n",
      " 9.22456663e-03 2.79818594e-01 5.09937048e-01 7.50921667e-01\n",
      " 9.36229169e-01 2.97584116e-01 5.80857277e-01 6.79056704e-01\n",
      " 4.76076715e-02 9.68202710e-01 7.69354030e-02 1.18004754e-01\n",
      " 1.95712745e-02 9.70158815e-01 9.86443758e-01 9.52456713e-01\n",
      " 3.29333067e-01 8.55284557e-02 1.00972857e-02 6.91023022e-02\n",
      " 9.10581946e-01 4.68693003e-02 6.20530620e-02 4.68956344e-02\n",
      " 3.66601832e-02 9.10660565e-01 3.53979975e-01 7.63005437e-03\n",
      " 9.93710518e-01 6.89837104e-03 9.91913438e-01 1.97805353e-02\n",
      " 2.96588019e-02 2.89010443e-02 8.89887750e-01 6.77901268e-01\n",
      " 9.91332948e-01 1.45636045e-03 8.78965080e-01 9.21310723e-01\n",
      " 6.15501069e-02 9.64196861e-01 9.90042210e-01 2.01990679e-01\n",
      " 4.27878916e-01 4.73218365e-03 7.65647367e-02 9.28584218e-01\n",
      " 2.34080502e-03 5.09941466e-02 9.52016652e-01 6.11715734e-01\n",
      " 9.36092317e-01 7.91189745e-02 9.34288681e-01 1.67064562e-01\n",
      " 9.42843199e-01 9.48850214e-01 9.78793442e-01 2.35334947e-03\n",
      " 9.56370950e-01 6.68443814e-02 7.12911114e-02 7.66253948e-01\n",
      " 9.63762283e-01 3.37898657e-02 9.18182373e-01 9.93527055e-01\n",
      " 9.06545579e-01 7.87518024e-01 9.97295678e-01 1.76977608e-02\n",
      " 5.18563986e-01 2.50479132e-01 4.49382663e-01 9.69119132e-01\n",
      " 4.74293018e-03 1.22513629e-01 1.99606210e-01 9.28617001e-01\n",
      " 2.92366624e-01 7.67516047e-02 2.22055465e-02 9.59064484e-01\n",
      " 9.91767108e-01 2.10637669e-03 6.18275166e-01 4.19198155e-01\n",
      " 3.45605522e-01 8.59088898e-01 2.59352207e-01 9.15091097e-01\n",
      " 7.26937875e-03 4.10811044e-02 1.63308717e-02 9.81509328e-01\n",
      " 4.20946907e-03 9.75056291e-01 7.16592968e-01 3.62127833e-02\n",
      " 1.10168019e-02 8.23832035e-01 8.09908509e-01]\n",
      "[0.00225714 0.28953284 0.00782399 ... 0.70818865 0.08747631 0.00191797]\n",
      "[0.00225714 0.28953284 0.00782399 ... 0.91050619 0.96133167 0.9640848 ]\n",
      "[0.00225714 0.28953284 0.00782399 ... 0.01579983 0.60808218 0.05408091]\n",
      "[0.00225714 0.28953284 0.00782399 ... 0.59365714 0.98787796 0.83939737]\n",
      "[0.00225714 0.28953284 0.00782399 ... 0.88935387 0.67106485 0.87757748]\n",
      "[0.00225714 0.28953284 0.00782399 ... 0.1641264  0.01800901 0.38485318]\n"
     ]
    },
    {
     "name": "stdout",
     "output_type": "stream",
     "text": [
      "[0.00225714 0.28953284 0.00782399 ... 0.96314126 0.02206055 0.98639441]\n",
      "[0.00225714 0.28953284 0.00782399 ... 0.98833346 0.97345179 0.99980527]\n",
      "[0.00225714 0.28953284 0.00782399 ... 0.02647838 0.00391346 0.8584879 ]\n",
      "[0.00225714 0.28953284 0.00782399 ... 0.53296298 0.33987725 0.26578486]\n",
      "[0.00225714 0.28953284 0.00782399 ... 0.79796052 0.77251464 0.00683403]\n",
      "[0.00225714 0.28953284 0.00782399 ... 0.00669985 0.11053352 0.17481656]\n",
      "[0.00225714 0.28953284 0.00782399 ... 0.00786734 0.71105039 0.67510086]\n",
      "[0.00225714 0.28953284 0.00782399 ... 0.78544909 0.70338476 0.3528536 ]\n",
      "[0.00225714 0.28953284 0.00782399 ... 0.99184012 0.01004733 0.96825165]\n",
      "[0.00225714 0.28953284 0.00782399 ... 0.06443031 0.531937   0.96986097]\n",
      "[0.00225714 0.28953284 0.00782399 ... 0.00178607 0.96789986 0.69604772]\n",
      "[0.00225714 0.28953284 0.00782399 ... 0.19160518 0.04658128 0.12020303]\n",
      "[0.00225714 0.28953284 0.00782399 ... 0.97893435 0.88654476 0.04478188]\n",
      "[0.00225714 0.28953284 0.00782399 ... 0.14687429 0.99347949 0.00231018]\n",
      "[0.00225714 0.28953284 0.00782399 ... 0.06280884 0.72167099 0.00546874]\n",
      "[0.00225714 0.28953284 0.00782399 ... 0.53483427 0.00229787 0.9437148 ]\n",
      "[0.00225714 0.28953284 0.00782399 ... 0.07909162 0.44771215 0.02527645]\n",
      "[0.00225714 0.28953284 0.00782399 ... 0.99526274 0.98875451 0.06107338]\n",
      "[0.00225714 0.28953284 0.00782399 ... 0.37470403 0.57331818 0.99734652]\n",
      "[0.00225714 0.28953284 0.00782399 ... 0.99141312 0.87503719 0.7032761 ]\n",
      "[0.00225714 0.28953284 0.00782399 ... 0.99177974 0.95318687 0.73798531]\n",
      "[0.00225714 0.28953284 0.00782399 ... 0.43722239 0.58363909 0.00637961]\n",
      "[0.00225714 0.28953284 0.00782399 ... 0.21678621 0.87027323 0.79889381]\n",
      "[0.00225714 0.28953284 0.00782399 ... 0.12323737 0.98887908 0.34043372]\n",
      "[0.00225714 0.28953284 0.00782399 ... 0.97554612 0.07980116 0.49385282]\n",
      "[0.00225714 0.28953284 0.00782399 ... 0.71409792 0.01224568 0.01643248]\n",
      "[0.00225714 0.28953284 0.00782399 ... 0.83462042 0.24917692 0.89656985]\n",
      "[0.00225714 0.28953284 0.00782399 ... 0.96292603 0.19153397 0.10651062]\n",
      "[0.00225714 0.28953284 0.00782399 ... 0.15001516 0.24750711 0.94454151]\n",
      "[0.00225714 0.28953284 0.00782399 ... 0.96063185 0.97860754 0.00873849]\n",
      "[0.00225714 0.28953284 0.00782399 ... 0.04817507 0.62663078 0.96711618]\n",
      "[0.00225714 0.28953284 0.00782399 ... 0.06494378 0.01579577 0.86302543]\n",
      "[0.00225714 0.28953284 0.00782399 ... 0.03620519 0.02135814 0.74660885]\n",
      "[0.00225714 0.28953284 0.00782399 ... 0.15870507 0.98925471 0.9312464 ]\n",
      "[0.00225714 0.28953284 0.00782399 ... 0.03191568 0.03053699 0.29973397]\n",
      "[0.00225714 0.28953284 0.00782399 ... 0.85869306 0.09427033 0.90663689]\n",
      "[0.00225714 0.28953284 0.00782399 ... 0.01115718 0.17682417 0.62328178]\n",
      "[0.00225714 0.28953284 0.00782399 ... 0.57195675 0.99707925 0.62989372]\n",
      "[0.00225714 0.28953284 0.00782399 ... 0.12776652 0.79798985 0.67145842]\n",
      "[0.00225714 0.28953284 0.00782399 ... 0.98490715 0.99533349 0.02770512]\n",
      "[0.00225714 0.28953284 0.00782399 ... 0.91317278 0.00507241 0.05761782]\n",
      "[0.00225714 0.28953284 0.00782399 ... 0.95834035 0.90246618 0.82895553]\n",
      "25000\n"
     ]
    }
   ],
   "source": [
    "predictions = predict(test_X.values)\n",
    "predictions = [round(num) for num in predictions]"
   ]
  },
  {
   "cell_type": "code",
   "execution_count": 526,
   "metadata": {},
   "outputs": [
    {
     "data": {
      "text/plain": [
       "0.8424"
      ]
     },
     "execution_count": 526,
     "metadata": {},
     "output_type": "execute_result"
    }
   ],
   "source": [
    "from sklearn.metrics import accuracy_score\n",
    "accuracy_score(test_y, predictions)"
   ]
  },
  {
   "cell_type": "markdown",
   "metadata": {},
   "source": [
    "**Question:** How does this model compare to the XGBoost model you created earlier? Why might these two models perform differently on this dataset? Which do *you* think is better for sentiment analysis?"
   ]
  },
  {
   "cell_type": "markdown",
   "metadata": {},
   "source": [
    "**Answer:** The performance of both of them was similar. But RNN perform much better than XGboost provided that the hyperparamers are tuned properly. RNN is more suitable for the sentiment analysis problem. "
   ]
  },
  {
   "cell_type": "markdown",
   "metadata": {},
   "source": [
    "### (TODO) More testing\n",
    "\n",
    "We now have a trained model which has been deployed and which we can send processed reviews to and which returns the predicted sentiment. However, ultimately we would like to be able to send our model an unprocessed review. That is, we would like to send the review itself as a string. For example, suppose we wish to send the following review to our model."
   ]
  },
  {
   "cell_type": "code",
   "execution_count": 527,
   "metadata": {},
   "outputs": [],
   "source": [
    "test_review = 'The simplest pleasures in life are the best, and this film is one of them. Combining a rather basic storyline of love and adventure this movie transcends the usual weekend fair with wit and unmitigated charm.'"
   ]
  },
  {
   "cell_type": "markdown",
   "metadata": {},
   "source": [
    "The question we now need to answer is, how do we send this review to our model?\n",
    "\n",
    "Recall in the first section of this notebook we did a bunch of data processing to the IMDb dataset. In particular, we did two specific things to the provided reviews.\n",
    " - Removed any html tags and stemmed the input\n",
    " - Encoded the review as a sequence of integers using `word_dict`\n",
    " \n",
    "In order process the review we will need to repeat these two steps.\n",
    "\n",
    "**TODO**: Using the `review_to_words` and `convert_and_pad` methods from section one, convert `test_review` into a numpy array `test_data` suitable to send to our model. Remember that our model expects input of the form `review_length, review[500]`."
   ]
  },
  {
   "cell_type": "code",
   "execution_count": 528,
   "metadata": {},
   "outputs": [
    {
     "data": {
      "text/plain": [
       "array([[  20,    1, 1374,   50,   53,    3,    4,  878,  173,  392,  682,\n",
       "          29,  724,    2, 4418,  275, 2080, 1060,  760,    1,  582,    0,\n",
       "           0,    0,    0,    0,    0,    0,    0,    0,    0,    0,    0,\n",
       "           0,    0,    0,    0,    0,    0,    0,    0,    0,    0,    0,\n",
       "           0,    0,    0,    0,    0,    0,    0,    0,    0,    0,    0,\n",
       "           0,    0,    0,    0,    0,    0,    0,    0,    0,    0,    0,\n",
       "           0,    0,    0,    0,    0,    0,    0,    0,    0,    0,    0,\n",
       "           0,    0,    0,    0,    0,    0,    0,    0,    0,    0,    0,\n",
       "           0,    0,    0,    0,    0,    0,    0,    0,    0,    0,    0,\n",
       "           0,    0,    0,    0,    0,    0,    0,    0,    0,    0,    0,\n",
       "           0,    0,    0,    0,    0,    0,    0,    0,    0,    0,    0,\n",
       "           0,    0,    0,    0,    0,    0,    0,    0,    0,    0,    0,\n",
       "           0,    0,    0,    0,    0,    0,    0,    0,    0,    0,    0,\n",
       "           0,    0,    0,    0,    0,    0,    0,    0,    0,    0,    0,\n",
       "           0,    0,    0,    0,    0,    0,    0,    0,    0,    0,    0,\n",
       "           0,    0,    0,    0,    0,    0,    0,    0,    0,    0,    0,\n",
       "           0,    0,    0,    0,    0,    0,    0,    0,    0,    0,    0,\n",
       "           0,    0,    0,    0,    0,    0,    0,    0,    0,    0,    0,\n",
       "           0,    0,    0,    0,    0,    0,    0,    0,    0,    0,    0,\n",
       "           0,    0,    0,    0,    0,    0,    0,    0,    0,    0,    0,\n",
       "           0,    0,    0,    0,    0,    0,    0,    0,    0,    0,    0,\n",
       "           0,    0,    0,    0,    0,    0,    0,    0,    0,    0,    0,\n",
       "           0,    0,    0,    0,    0,    0,    0,    0,    0,    0,    0,\n",
       "           0,    0,    0,    0,    0,    0,    0,    0,    0,    0,    0,\n",
       "           0,    0,    0,    0,    0,    0,    0,    0,    0,    0,    0,\n",
       "           0,    0,    0,    0,    0,    0,    0,    0,    0,    0,    0,\n",
       "           0,    0,    0,    0,    0,    0,    0,    0,    0,    0,    0,\n",
       "           0,    0,    0,    0,    0,    0,    0,    0,    0,    0,    0,\n",
       "           0,    0,    0,    0,    0,    0,    0,    0,    0,    0,    0,\n",
       "           0,    0,    0,    0,    0,    0,    0,    0,    0,    0,    0,\n",
       "           0,    0,    0,    0,    0,    0,    0,    0,    0,    0,    0,\n",
       "           0,    0,    0,    0,    0,    0,    0,    0,    0,    0,    0,\n",
       "           0,    0,    0,    0,    0,    0,    0,    0,    0,    0,    0,\n",
       "           0,    0,    0,    0,    0,    0,    0,    0,    0,    0,    0,\n",
       "           0,    0,    0,    0,    0,    0,    0,    0,    0,    0,    0,\n",
       "           0,    0,    0,    0,    0,    0,    0,    0,    0,    0,    0,\n",
       "           0,    0,    0,    0,    0,    0,    0,    0,    0,    0,    0,\n",
       "           0,    0,    0,    0,    0,    0,    0,    0,    0,    0,    0,\n",
       "           0,    0,    0,    0,    0,    0,    0,    0,    0,    0,    0,\n",
       "           0,    0,    0,    0,    0,    0,    0,    0,    0,    0,    0,\n",
       "           0,    0,    0,    0,    0,    0,    0,    0,    0,    0,    0,\n",
       "           0,    0,    0,    0,    0,    0,    0,    0,    0,    0,    0,\n",
       "           0,    0,    0,    0,    0,    0,    0,    0,    0,    0,    0,\n",
       "           0,    0,    0,    0,    0,    0,    0,    0,    0,    0,    0,\n",
       "           0,    0,    0,    0,    0,    0,    0,    0,    0,    0,    0,\n",
       "           0,    0,    0,    0,    0,    0]])"
      ]
     },
     "execution_count": 528,
     "metadata": {},
     "output_type": "execute_result"
    }
   ],
   "source": [
    "test_review_words = review_to_words(test_review)\n",
    "test_review_words, length = convert_and_pad(word_dict, test_review_words)\n",
    "test_data = np.array([[length] + test_review_words])\n",
    "test_data"
   ]
  },
  {
   "cell_type": "code",
   "execution_count": 529,
   "metadata": {},
   "outputs": [
    {
     "name": "stdout",
     "output_type": "stream",
     "text": [
      "[[  20    1 1374   50   53    3    4  878  173  392  682   29  724    2\n",
      "  4418  275 2080 1060  760    1  582    0    0    0    0    0    0    0\n",
      "     0    0    0    0    0    0    0    0    0    0    0    0    0    0\n",
      "     0    0    0    0    0    0    0    0    0    0    0    0    0    0\n",
      "     0    0    0    0    0    0    0    0    0    0    0    0    0    0\n",
      "     0    0    0    0    0    0    0    0    0    0    0    0    0    0\n",
      "     0    0    0    0    0    0    0    0    0    0    0    0    0    0\n",
      "     0    0    0    0    0    0    0    0    0    0    0    0    0    0\n",
      "     0    0    0    0    0    0    0    0    0    0    0    0    0    0\n",
      "     0    0    0    0    0    0    0    0    0    0    0    0    0    0\n",
      "     0    0    0    0    0    0    0    0    0    0    0    0    0    0\n",
      "     0    0    0    0    0    0    0    0    0    0    0    0    0    0\n",
      "     0    0    0    0    0    0    0    0    0    0    0    0    0    0\n",
      "     0    0    0    0    0    0    0    0    0    0    0    0    0    0\n",
      "     0    0    0    0    0    0    0    0    0    0    0    0    0    0\n",
      "     0    0    0    0    0    0    0    0    0    0    0    0    0    0\n",
      "     0    0    0    0    0    0    0    0    0    0    0    0    0    0\n",
      "     0    0    0    0    0    0    0    0    0    0    0    0    0    0\n",
      "     0    0    0    0    0    0    0    0    0    0    0    0    0    0\n",
      "     0    0    0    0    0    0    0    0    0    0    0    0    0    0\n",
      "     0    0    0    0    0    0    0    0    0    0    0    0    0    0\n",
      "     0    0    0    0    0    0    0    0    0    0    0    0    0    0\n",
      "     0    0    0    0    0    0    0    0    0    0    0    0    0    0\n",
      "     0    0    0    0    0    0    0    0    0    0    0    0    0    0\n",
      "     0    0    0    0    0    0    0    0    0    0    0    0    0    0\n",
      "     0    0    0    0    0    0    0    0    0    0    0    0    0    0\n",
      "     0    0    0    0    0    0    0    0    0    0    0    0    0    0\n",
      "     0    0    0    0    0    0    0    0    0    0    0    0    0    0\n",
      "     0    0    0    0    0    0    0    0    0    0    0    0    0    0\n",
      "     0    0    0    0    0    0    0    0    0    0    0    0    0    0\n",
      "     0    0    0    0    0    0    0    0    0    0    0    0    0    0\n",
      "     0    0    0    0    0    0    0    0    0    0    0    0    0    0\n",
      "     0    0    0    0    0    0    0    0    0    0    0    0    0    0\n",
      "     0    0    0    0    0    0    0    0    0    0    0    0    0    0\n",
      "     0    0    0    0    0    0    0    0    0    0    0    0    0    0\n",
      "     0    0    0    0    0    0    0    0    0    0    0]]\n"
     ]
    }
   ],
   "source": [
    "# TODO: Convert test_review into a form usable by the model and save the results in test_data\n",
    "test_data      = None\n",
    "test_data2      = review_to_words(test_review)\n",
    "test_data4, test_data_len = convert_and_pad(word_dict,test_data2)\n",
    "test_data4.insert(0,test_data_len)\n",
    "test_data_np=np.array([test_data4])\n",
    "print(test_data_np)"
   ]
  },
  {
   "cell_type": "markdown",
   "metadata": {},
   "source": [
    "Now that we have processed the review, we can send the resulting array to our model to predict the sentiment of the review."
   ]
  },
  {
   "cell_type": "code",
   "execution_count": 530,
   "metadata": {},
   "outputs": [
    {
     "data": {
      "text/plain": [
       "array(0.92135787, dtype=float32)"
      ]
     },
     "execution_count": 530,
     "metadata": {},
     "output_type": "execute_result"
    }
   ],
   "source": [
    "predictor.predict(test_data_np)"
   ]
  },
  {
   "cell_type": "markdown",
   "metadata": {},
   "source": [
    "Since the return value of our model is close to `1`, we can be certain that the review we submitted is positive."
   ]
  },
  {
   "cell_type": "markdown",
   "metadata": {},
   "source": [
    "### Delete the endpoint\n",
    "\n",
    "Of course, just like in the XGBoost notebook, once we've deployed an endpoint it continues to run until we tell it to shut down. Since we are done using our endpoint for now, we can delete it."
   ]
  },
  {
   "cell_type": "code",
   "execution_count": 531,
   "metadata": {},
   "outputs": [
    {
     "name": "stderr",
     "output_type": "stream",
     "text": [
      "INFO:sagemaker:Deleting endpoint with name: sagemaker-pytorch-2019-04-07-05-53-50-573\n"
     ]
    }
   ],
   "source": [
    "estimator.delete_endpoint()"
   ]
  },
  {
   "cell_type": "markdown",
   "metadata": {},
   "source": [
    "## Step 6 (again) - Deploy the model for the web app\n",
    "\n",
    "Now that we know that our model is working, it's time to create some custom inference code so that we can send the model a review which has not been processed and have it determine the sentiment of the review.\n",
    "\n",
    "As we saw above, by default the estimator which we created, when deployed, will use the entry script and directory which we provided when creating the model. However, since we now wish to accept a string as input and our model expects a processed review, we need to write some custom inference code.\n",
    "\n",
    "We will store the code that we write in the `serve` directory. Provided in this directory is the `model.py` file that we used to construct our model, a `utils.py` file which contains the `review_to_words` and `convert_and_pad` pre-processing functions which we used during the initial data processing, and `predict.py`, the file which will contain our custom inference code. Note also that `requirements.txt` is present which will tell SageMaker what Python libraries are required by our custom inference code.\n",
    "\n",
    "When deploying a PyTorch model in SageMaker, you are expected to provide four functions which the SageMaker inference container will use.\n",
    " - `model_fn`: This function is the same function that we used in the training script and it tells SageMaker how to load our model.\n",
    " - `input_fn`: This function receives the raw serialized input that has been sent to the model's endpoint and its job is to de-serialize and make the input available for the inference code.\n",
    " - `output_fn`: This function takes the output of the inference code and its job is to serialize this output and return it to the caller of the model's endpoint.\n",
    " - `predict_fn`: The heart of the inference script, this is where the actual prediction is done and is the function which you will need to complete.\n",
    "\n",
    "For the simple website that we are constructing during this project, the `input_fn` and `output_fn` methods are relatively straightforward. We only require being able to accept a string as input and we expect to return a single value as output. You might imagine though that in a more complex application the input or output may be image data or some other binary data which would require some effort to serialize.\n",
    "\n",
    "### (TODO) Writing inference code\n",
    "\n",
    "Before writing our custom inference code, we will begin by taking a look at the code which has been provided."
   ]
  },
  {
   "cell_type": "code",
   "execution_count": 500,
   "metadata": {},
   "outputs": [
    {
     "name": "stdout",
     "output_type": "stream",
     "text": [
      "\u001b[34mimport\u001b[39;49;00m \u001b[04m\u001b[36margparse\u001b[39;49;00m\r\n",
      "\u001b[34mimport\u001b[39;49;00m \u001b[04m\u001b[36mjson\u001b[39;49;00m\r\n",
      "\u001b[34mimport\u001b[39;49;00m \u001b[04m\u001b[36mos\u001b[39;49;00m\r\n",
      "\u001b[34mimport\u001b[39;49;00m \u001b[04m\u001b[36mpickle\u001b[39;49;00m\r\n",
      "\u001b[34mimport\u001b[39;49;00m \u001b[04m\u001b[36msys\u001b[39;49;00m\r\n",
      "\u001b[34mimport\u001b[39;49;00m \u001b[04m\u001b[36msagemaker_containers\u001b[39;49;00m\r\n",
      "\u001b[34mimport\u001b[39;49;00m \u001b[04m\u001b[36mpandas\u001b[39;49;00m \u001b[34mas\u001b[39;49;00m \u001b[04m\u001b[36mpd\u001b[39;49;00m\r\n",
      "\u001b[34mimport\u001b[39;49;00m \u001b[04m\u001b[36mnumpy\u001b[39;49;00m \u001b[34mas\u001b[39;49;00m \u001b[04m\u001b[36mnp\u001b[39;49;00m\r\n",
      "\u001b[34mimport\u001b[39;49;00m \u001b[04m\u001b[36mtorch\u001b[39;49;00m\r\n",
      "\u001b[34mimport\u001b[39;49;00m \u001b[04m\u001b[36mtorch.nn\u001b[39;49;00m \u001b[34mas\u001b[39;49;00m \u001b[04m\u001b[36mnn\u001b[39;49;00m\r\n",
      "\u001b[34mimport\u001b[39;49;00m \u001b[04m\u001b[36mtorch.optim\u001b[39;49;00m \u001b[34mas\u001b[39;49;00m \u001b[04m\u001b[36moptim\u001b[39;49;00m\r\n",
      "\u001b[34mimport\u001b[39;49;00m \u001b[04m\u001b[36mtorch.utils.data\u001b[39;49;00m\r\n",
      "\r\n",
      "\u001b[34mfrom\u001b[39;49;00m \u001b[04m\u001b[36mmodel\u001b[39;49;00m \u001b[34mimport\u001b[39;49;00m LSTMClassifier\r\n",
      "\r\n",
      "\u001b[34mfrom\u001b[39;49;00m \u001b[04m\u001b[36mutils\u001b[39;49;00m \u001b[34mimport\u001b[39;49;00m review_to_words, convert_and_pad\r\n",
      "\r\n",
      "\u001b[34mdef\u001b[39;49;00m \u001b[32mmodel_fn\u001b[39;49;00m(model_dir):\r\n",
      "    \u001b[33m\"\"\"Load the PyTorch model from the `model_dir` directory.\"\"\"\u001b[39;49;00m\r\n",
      "    \u001b[34mprint\u001b[39;49;00m(\u001b[33m\"\u001b[39;49;00m\u001b[33mLoading model.\u001b[39;49;00m\u001b[33m\"\u001b[39;49;00m)\r\n",
      "\r\n",
      "    \u001b[37m# First, load the parameters used to create the model.\u001b[39;49;00m\r\n",
      "    model_info = {}\r\n",
      "    model_info_path = os.path.join(model_dir, \u001b[33m'\u001b[39;49;00m\u001b[33mmodel_info.pth\u001b[39;49;00m\u001b[33m'\u001b[39;49;00m)\r\n",
      "    \u001b[34mwith\u001b[39;49;00m \u001b[36mopen\u001b[39;49;00m(model_info_path, \u001b[33m'\u001b[39;49;00m\u001b[33mrb\u001b[39;49;00m\u001b[33m'\u001b[39;49;00m) \u001b[34mas\u001b[39;49;00m f:\r\n",
      "        model_info = torch.load(f)\r\n",
      "\r\n",
      "    \u001b[34mprint\u001b[39;49;00m(\u001b[33m\"\u001b[39;49;00m\u001b[33mmodel_info: {}\u001b[39;49;00m\u001b[33m\"\u001b[39;49;00m.format(model_info))\r\n",
      "\r\n",
      "    \u001b[37m# Determine the device and construct the model.\u001b[39;49;00m\r\n",
      "    device = torch.device(\u001b[33m\"\u001b[39;49;00m\u001b[33mcuda\u001b[39;49;00m\u001b[33m\"\u001b[39;49;00m \u001b[34mif\u001b[39;49;00m torch.cuda.is_available() \u001b[34melse\u001b[39;49;00m \u001b[33m\"\u001b[39;49;00m\u001b[33mcpu\u001b[39;49;00m\u001b[33m\"\u001b[39;49;00m)\r\n",
      "    model = LSTMClassifier(model_info[\u001b[33m'\u001b[39;49;00m\u001b[33membedding_dim\u001b[39;49;00m\u001b[33m'\u001b[39;49;00m], model_info[\u001b[33m'\u001b[39;49;00m\u001b[33mhidden_dim\u001b[39;49;00m\u001b[33m'\u001b[39;49;00m], model_info[\u001b[33m'\u001b[39;49;00m\u001b[33mvocab_size\u001b[39;49;00m\u001b[33m'\u001b[39;49;00m])\r\n",
      "\r\n",
      "    \u001b[37m# Load the store model parameters.\u001b[39;49;00m\r\n",
      "    model_path = os.path.join(model_dir, \u001b[33m'\u001b[39;49;00m\u001b[33mmodel.pth\u001b[39;49;00m\u001b[33m'\u001b[39;49;00m)\r\n",
      "    \u001b[34mwith\u001b[39;49;00m \u001b[36mopen\u001b[39;49;00m(model_path, \u001b[33m'\u001b[39;49;00m\u001b[33mrb\u001b[39;49;00m\u001b[33m'\u001b[39;49;00m) \u001b[34mas\u001b[39;49;00m f:\r\n",
      "        model.load_state_dict(torch.load(f))\r\n",
      "\r\n",
      "    \u001b[37m# Load the saved word_dict.\u001b[39;49;00m\r\n",
      "    word_dict_path = os.path.join(model_dir, \u001b[33m'\u001b[39;49;00m\u001b[33mword_dict.pkl\u001b[39;49;00m\u001b[33m'\u001b[39;49;00m)\r\n",
      "    \u001b[34mwith\u001b[39;49;00m \u001b[36mopen\u001b[39;49;00m(word_dict_path, \u001b[33m'\u001b[39;49;00m\u001b[33mrb\u001b[39;49;00m\u001b[33m'\u001b[39;49;00m) \u001b[34mas\u001b[39;49;00m f:\r\n",
      "        model.word_dict = pickle.load(f)\r\n",
      "\r\n",
      "    model.to(device).eval()\r\n",
      "\r\n",
      "    \u001b[34mprint\u001b[39;49;00m(\u001b[33m\"\u001b[39;49;00m\u001b[33mDone loading model.\u001b[39;49;00m\u001b[33m\"\u001b[39;49;00m)\r\n",
      "    \u001b[34mreturn\u001b[39;49;00m model\r\n",
      "\r\n",
      "\u001b[34mdef\u001b[39;49;00m \u001b[32minput_fn\u001b[39;49;00m(serialized_input_data, content_type):\r\n",
      "    \u001b[34mprint\u001b[39;49;00m(\u001b[33m'\u001b[39;49;00m\u001b[33mDeserializing the input data.\u001b[39;49;00m\u001b[33m'\u001b[39;49;00m)\r\n",
      "    \u001b[34mif\u001b[39;49;00m content_type == \u001b[33m'\u001b[39;49;00m\u001b[33mtext/plain\u001b[39;49;00m\u001b[33m'\u001b[39;49;00m:\r\n",
      "        data = serialized_input_data.decode(\u001b[33m'\u001b[39;49;00m\u001b[33mutf-8\u001b[39;49;00m\u001b[33m'\u001b[39;49;00m)\r\n",
      "        \u001b[34mreturn\u001b[39;49;00m data\r\n",
      "    \u001b[34mraise\u001b[39;49;00m \u001b[36mException\u001b[39;49;00m(\u001b[33m'\u001b[39;49;00m\u001b[33mRequested unsupported ContentType in content_type: \u001b[39;49;00m\u001b[33m'\u001b[39;49;00m + content_type)\r\n",
      "\r\n",
      "\u001b[34mdef\u001b[39;49;00m \u001b[32moutput_fn\u001b[39;49;00m(prediction_output, accept):\r\n",
      "    \u001b[34mprint\u001b[39;49;00m(\u001b[33m'\u001b[39;49;00m\u001b[33mSerializing the generated output.\u001b[39;49;00m\u001b[33m'\u001b[39;49;00m)\r\n",
      "    \u001b[34mreturn\u001b[39;49;00m \u001b[36mstr\u001b[39;49;00m(prediction_output)\r\n",
      "\r\n",
      "\u001b[34mdef\u001b[39;49;00m \u001b[32mpredict_fn\u001b[39;49;00m(input_data, model):\r\n",
      "    \u001b[34mprint\u001b[39;49;00m(\u001b[33m'\u001b[39;49;00m\u001b[33mInferring sentiment of input data.\u001b[39;49;00m\u001b[33m'\u001b[39;49;00m)\r\n",
      "\r\n",
      "    device = torch.device(\u001b[33m\"\u001b[39;49;00m\u001b[33mcuda\u001b[39;49;00m\u001b[33m\"\u001b[39;49;00m \u001b[34mif\u001b[39;49;00m torch.cuda.is_available() \u001b[34melse\u001b[39;49;00m \u001b[33m\"\u001b[39;49;00m\u001b[33mcpu\u001b[39;49;00m\u001b[33m\"\u001b[39;49;00m)\r\n",
      "    \r\n",
      "    \u001b[34mif\u001b[39;49;00m model.word_dict \u001b[35mis\u001b[39;49;00m \u001b[36mNone\u001b[39;49;00m:\r\n",
      "        \u001b[34mraise\u001b[39;49;00m \u001b[36mException\u001b[39;49;00m(\u001b[33m'\u001b[39;49;00m\u001b[33mModel has not been loaded properly, no word_dict.\u001b[39;49;00m\u001b[33m'\u001b[39;49;00m)\r\n",
      "    \r\n",
      "    \u001b[37m# TODO: Process input_data so that it is ready to be sent to our model.\u001b[39;49;00m\r\n",
      "    \u001b[37m#       You should produce two variables:\u001b[39;49;00m\r\n",
      "    \u001b[37m#         data_X   - A sequence of length 500 which represents the converted review\u001b[39;49;00m\r\n",
      "    \u001b[37m#         data_len - The length of the review\u001b[39;49;00m\r\n",
      "\r\n",
      "    data_X = \u001b[36mNone\u001b[39;49;00m\r\n",
      "    data_len = \u001b[36mNone\u001b[39;49;00m\r\n",
      "\r\n",
      "    \u001b[37m# Using data_X and data_len we construct an appropriate input tensor. Remember\u001b[39;49;00m\r\n",
      "    \u001b[37m# that our model expects input data of the form 'len, review[500]'.\u001b[39;49;00m\r\n",
      "    data_pack = np.hstack((data_len, data_X))\r\n",
      "    data_pack = data_pack.reshape(\u001b[34m1\u001b[39;49;00m, -\u001b[34m1\u001b[39;49;00m)\r\n",
      "    \r\n",
      "    data = torch.from_numpy(data_pack)\r\n",
      "    data = data.to(device)\r\n",
      "\r\n",
      "    \u001b[37m# Make sure to put the model into evaluation mode\u001b[39;49;00m\r\n",
      "    model.eval()\r\n",
      "\r\n",
      "    \u001b[37m# TODO: Compute the result of applying the model to the input data. The variable `result` should\u001b[39;49;00m\r\n",
      "    \u001b[37m#       be a numpy array which contains a single integer which is either 1 or 0\u001b[39;49;00m\r\n",
      "    y_hat = model(data).detach().cpu().numpy()\r\n",
      "    \u001b[34mprint\u001b[39;49;00m(y_hat)\r\n",
      "    result = np.round(y_hat).astype(np.int)\r\n",
      "    \u001b[34mreturn\u001b[39;49;00m result\r\n"
     ]
    }
   ],
   "source": [
    "!pygmentize serve/predict.py"
   ]
  },
  {
   "cell_type": "markdown",
   "metadata": {},
   "source": [
    "As mentioned earlier, the `model_fn` method is the same as the one provided in the training code and the `input_fn` and `output_fn` methods are very simple and your task will be to complete the `predict_fn` method. Make sure that you save the completed file as `predict.py` in the `serve` directory.\n",
    "\n",
    "**TODO**: Complete the `predict_fn()` method in the `serve/predict.py` file."
   ]
  },
  {
   "cell_type": "markdown",
   "metadata": {},
   "source": [
    "### Deploying the model\n",
    "\n",
    "Now that the custom inference code has been written, we will create and deploy our model. To begin with, we need to construct a new PyTorchModel object which points to the model artifacts created during training and also points to the inference code that we wish to use. Then we can call the deploy method to launch the deployment container.\n",
    "\n",
    "**NOTE**: The default behaviour for a deployed PyTorch model is to assume that any input passed to the predictor is a `numpy` array. In our case we want to send a string so we need to construct a simple wrapper around the `RealTimePredictor` class to accomodate simple strings. In a more complicated situation you may want to provide a serialization object, for example if you wanted to sent image data."
   ]
  },
  {
   "cell_type": "code",
   "execution_count": 516,
   "metadata": {},
   "outputs": [
    {
     "name": "stderr",
     "output_type": "stream",
     "text": [
      "INFO:sagemaker:Creating model with name: sagemaker-pytorch-2019-04-07-06-49-11-137\n",
      "INFO:sagemaker:Creating endpoint with name sagemaker-pytorch-2019-04-07-06-49-11-137\n"
     ]
    },
    {
     "name": "stdout",
     "output_type": "stream",
     "text": [
      "--------------------------------------------------------------------------!"
     ]
    }
   ],
   "source": [
    "from sagemaker.predictor import RealTimePredictor\n",
    "from sagemaker.pytorch import PyTorchModel\n",
    "\n",
    "class StringPredictor(RealTimePredictor):\n",
    "    def __init__(self, endpoint_name, sagemaker_session):\n",
    "        super(StringPredictor, self).__init__(endpoint_name, sagemaker_session, content_type='text/plain')\n",
    "\n",
    "model = PyTorchModel(model_data=estimator.model_data,\n",
    "                     role = role,\n",
    "                     framework_version='0.4.0',\n",
    "                     entry_point='predict.py',\n",
    "                     source_dir='serve',\n",
    "                     predictor_cls=StringPredictor)\n",
    "predictor = model.deploy(initial_instance_count=1, instance_type='ml.m4.xlarge')"
   ]
  },
  {
   "cell_type": "markdown",
   "metadata": {},
   "source": [
    "### Testing the model\n",
    "\n",
    "Now that we have deployed our model with the custom inference code, we should test to see if everything is working. Here we test our model by loading the first `250` positive and negative reviews and send them to the endpoint, then collect the results. The reason for only sending some of the data is that the amount of time it takes for our model to process the input and then perform inference is quite long and so testing the entire data set would be prohibitive."
   ]
  },
  {
   "cell_type": "code",
   "execution_count": 517,
   "metadata": {},
   "outputs": [],
   "source": [
    "import glob\n",
    "\n",
    "def test_reviews(data_dir='../data/aclImdb', stop=250):\n",
    "    \n",
    "    results = []\n",
    "    ground = []\n",
    "    \n",
    "    # We make sure to test both positive and negative reviews    \n",
    "    for sentiment in ['pos', 'neg']:\n",
    "        \n",
    "        path = os.path.join(data_dir, 'test', sentiment, '*.txt')\n",
    "        files = glob.glob(path)\n",
    "        \n",
    "        files_read = 0\n",
    "        \n",
    "        print('Starting ', sentiment, ' files')\n",
    "        \n",
    "        # Iterate through the files and send them to the predictor\n",
    "        for f in files:\n",
    "            with open(f) as review:\n",
    "                # First, we store the ground truth (was the review positive or negative)\n",
    "                if sentiment == 'pos':\n",
    "                    ground.append(1)\n",
    "                else:\n",
    "                    ground.append(0)\n",
    "                # Read in the review and convert to 'utf-8' for transmission via HTTP\n",
    "                #print(\"After ground\")\n",
    "                review_input = review.read().encode('utf-8')\n",
    "                # Send the review to the predictor and store the results\n",
    "                results.append(int(predictor.predict(review_input)))\n",
    "                \n",
    "            # Sending reviews to our endpoint one at a time takes a while so we\n",
    "            # only send a small number of reviews\n",
    "            files_read += 1\n",
    "            if files_read == stop:\n",
    "                break\n",
    "            \n",
    "    return ground, results"
   ]
  },
  {
   "cell_type": "code",
   "execution_count": 518,
   "metadata": {},
   "outputs": [
    {
     "name": "stdout",
     "output_type": "stream",
     "text": [
      "Starting  pos  files\n",
      "Starting  neg  files\n"
     ]
    }
   ],
   "source": [
    "ground, results = test_reviews()"
   ]
  },
  {
   "cell_type": "code",
   "execution_count": 519,
   "metadata": {},
   "outputs": [
    {
     "data": {
      "text/plain": [
       "0.86"
      ]
     },
     "execution_count": 519,
     "metadata": {},
     "output_type": "execute_result"
    }
   ],
   "source": [
    "from sklearn.metrics import accuracy_score\n",
    "accuracy_score(ground, results)"
   ]
  },
  {
   "cell_type": "markdown",
   "metadata": {},
   "source": [
    "As an additional test, we can try sending the `test_review` that we looked at earlier."
   ]
  },
  {
   "cell_type": "code",
   "execution_count": 520,
   "metadata": {},
   "outputs": [
    {
     "data": {
      "text/plain": [
       "b'1'"
      ]
     },
     "execution_count": 520,
     "metadata": {},
     "output_type": "execute_result"
    }
   ],
   "source": [
    "predictor.predict(test_review)"
   ]
  },
  {
   "cell_type": "markdown",
   "metadata": {},
   "source": [
    "Now that we know our endpoint is working as expected, we can set up the web page that will interact with it. If you don't have time to finish the project now, make sure to skip down to the end of this notebook and shut down your endpoint. You can deploy it again when you come back."
   ]
  },
  {
   "cell_type": "markdown",
   "metadata": {},
   "source": [
    "## Step 7 (again): Use the model for the web app\n",
    "\n",
    "> **TODO:** This entire section and the next contain tasks for you to complete, mostly using the AWS console.\n",
    "\n",
    "So far we have been accessing our model endpoint by constructing a predictor object which uses the endpoint and then just using the predictor object to perform inference. What if we wanted to create a web app which accessed our model? The way things are set up currently makes that not possible since in order to access a SageMaker endpoint the app would first have to authenticate with AWS using an IAM role which included access to SageMaker endpoints. However, there is an easier way! We just need to use some additional AWS services.\n",
    "\n",
    "<img src=\"Web App Diagram.svg\">\n",
    "\n",
    "The diagram above gives an overview of how the various services will work together. On the far right is the model which we trained above and which is deployed using SageMaker. On the far left is our web app that collects a user's movie review, sends it off and expects a positive or negative sentiment in return.\n",
    "\n",
    "In the middle is where some of the magic happens. We will construct a Lambda function, which you can think of as a straightforward Python function that can be executed whenever a specified event occurs. We will give this function permission to send and recieve data from a SageMaker endpoint.\n",
    "\n",
    "Lastly, the method we will use to execute the Lambda function is a new endpoint that we will create using API Gateway. This endpoint will be a url that listens for data to be sent to it. Once it gets some data it will pass that data on to the Lambda function and then return whatever the Lambda function returns. Essentially it will act as an interface that lets our web app communicate with the Lambda function.\n",
    "\n",
    "### Setting up a Lambda function\n",
    "\n",
    "The first thing we are going to do is set up a Lambda function. This Lambda function will be executed whenever our public API has data sent to it. When it is executed it will receive the data, perform any sort of processing that is required, send the data (the review) to the SageMaker endpoint we've created and then return the result.\n",
    "\n",
    "#### Part A: Create an IAM Role for the Lambda function\n",
    "\n",
    "Since we want the Lambda function to call a SageMaker endpoint, we need to make sure that it has permission to do so. To do this, we will construct a role that we can later give the Lambda function.\n",
    "\n",
    "Using the AWS Console, navigate to the **IAM** page and click on **Roles**. Then, click on **Create role**. Make sure that the **AWS service** is the type of trusted entity selected and choose **Lambda** as the service that will use this role, then click **Next: Permissions**.\n",
    "\n",
    "In the search box type `sagemaker` and select the check box next to the **AmazonSageMakerFullAccess** policy. Then, click on **Next: Review**.\n",
    "\n",
    "Lastly, give this role a name. Make sure you use a name that you will remember later on, for example `LambdaSageMakerRole`. Then, click on **Create role**.\n",
    "\n",
    "#### Part B: Create a Lambda function\n",
    "\n",
    "Now it is time to actually create the Lambda function.\n",
    "\n",
    "Using the AWS Console, navigate to the AWS Lambda page and click on **Create a function**. When you get to the next page, make sure that **Author from scratch** is selected. Now, name your Lambda function, using a name that you will remember later on, for example `sentiment_analysis_func`. Make sure that the **Python 3.6** runtime is selected and then choose the role that you created in the previous part. Then, click on **Create Function**.\n",
    "\n",
    "On the next page you will see some information about the Lambda function you've just created. If you scroll down you should see an editor in which you can write the code that will be executed when your Lambda function is triggered. In our example, we will use the code below. \n",
    "\n",
    "```python\n",
    "# We need to use the low-level library to interact with SageMaker since the SageMaker API\n",
    "# is not available natively through Lambda.\n",
    "import boto3\n",
    "\n",
    "def lambda_handler(event, context):\n",
    "\n",
    "    # The SageMaker runtime is what allows us to invoke the endpoint that we've created.\n",
    "    runtime = boto3.Session().client('sagemaker-runtime')\n",
    "\n",
    "    # Now we use the SageMaker runtime to invoke our endpoint, sending the review we were given\n",
    "    response = runtime.invoke_endpoint(EndpointName = '**ENDPOINT NAME HERE**',    # The name of the endpoint we created\n",
    "                                       ContentType = 'text/plain',                 # The data format that is expected\n",
    "                                       Body = event['body'])                       # The actual review\n",
    "\n",
    "    # The response is an HTTP response whose body contains the result of our inference\n",
    "    result = response['Body'].read().decode('utf-8')\n",
    "\n",
    "    return {\n",
    "        'statusCode' : 200,\n",
    "        'headers' : { 'Content-Type' : 'text/plain', 'Access-Control-Allow-Origin' : '*' },\n",
    "        'body' : result\n",
    "    }\n",
    "```\n",
    "\n",
    "Once you have copy and pasted the code above into the Lambda code editor, replace the `**ENDPOINT NAME HERE**` portion with the name of the endpoint that we deployed earlier. You can determine the name of the endpoint using the code cell below."
   ]
  },
  {
   "cell_type": "code",
   "execution_count": 521,
   "metadata": {},
   "outputs": [
    {
     "data": {
      "text/plain": [
       "'sagemaker-pytorch-2019-04-07-06-49-11-137'"
      ]
     },
     "execution_count": 521,
     "metadata": {},
     "output_type": "execute_result"
    }
   ],
   "source": [
    "predictor.endpoint"
   ]
  },
  {
   "cell_type": "markdown",
   "metadata": {},
   "source": [
    "Once you have added the endpoint name to the Lambda function, click on **Save**. Your Lambda function is now up and running. Next we need to create a way for our web app to execute the Lambda function.\n",
    "\n",
    "### Setting up API Gateway\n",
    "\n",
    "Now that our Lambda function is set up, it is time to create a new API using API Gateway that will trigger the Lambda function we have just created.\n",
    "\n",
    "Using AWS Console, navigate to **Amazon API Gateway** and then click on **Get started**.\n",
    "\n",
    "On the next page, make sure that **New API** is selected and give the new api a name, for example, `sentiment_analysis_api`. Then, click on **Create API**.\n",
    "\n",
    "Now we have created an API, however it doesn't currently do anything. What we want it to do is to trigger the Lambda function that we created earlier.\n",
    "\n",
    "Select the **Actions** dropdown menu and click **Create Method**. A new blank method will be created, select its dropdown menu and select **POST**, then click on the check mark beside it.\n",
    "\n",
    "For the integration point, make sure that **Lambda Function** is selected and click on the **Use Lambda Proxy integration**. This option makes sure that the data that is sent to the API is then sent directly to the Lambda function with no processing. It also means that the return value must be a proper response object as it will also not be processed by API Gateway.\n",
    "\n",
    "Type the name of the Lambda function you created earlier into the **Lambda Function** text entry box and then click on **Save**. Click on **OK** in the pop-up box that then appears, giving permission to API Gateway to invoke the Lambda function you created.\n",
    "\n",
    "The last step in creating the API Gateway is to select the **Actions** dropdown and click on **Deploy API**. You will need to create a new Deployment stage and name it anything you like, for example `prod`.\n",
    "\n",
    "You have now successfully set up a public API to access your SageMaker model. Make sure to copy or write down the URL provided to invoke your newly created public API as this will be needed in the next step. This URL can be found at the top of the page, highlighted in blue next to the text **Invoke URL**."
   ]
  },
  {
   "cell_type": "markdown",
   "metadata": {},
   "source": [
    "## Step 4: Deploying our web app\n",
    "\n",
    "Now that we have a publicly available API, we can start using it in a web app. For our purposes, we have provided a simple static html file which can make use of the public api you created earlier.\n",
    "\n",
    "In the `website` folder there should be a file called `index.html`. Download the file to your computer and open that file up in a text editor of your choice. There should be a line which contains **\\*\\*REPLACE WITH PUBLIC API URL\\*\\***. Replace this string with the url that you wrote down in the last step and then save the file.\n",
    "\n",
    "Now, if you open `index.html` on your local computer, your browser will behave as a local web server and you can use the provided site to interact with your SageMaker model.\n",
    "\n",
    "If you'd like to go further, you can host this html file anywhere you'd like, for example using github or hosting a static site on Amazon's S3. Once you have done this you can share the link with anyone you'd like and have them play with it too!\n",
    "\n",
    "> **Important Note** In order for the web app to communicate with the SageMaker endpoint, the endpoint has to actually be deployed and running. This means that you are paying for it. Make sure that the endpoint is running when you want to use the web app but that you shut it down when you don't need it, otherwise you will end up with a surprisingly large AWS bill.\n",
    "\n",
    "**TODO:** Make sure that you include the edited `index.html` file in your project submission."
   ]
  },
  {
   "cell_type": "markdown",
   "metadata": {},
   "source": [
    "Now that your web app is working, trying playing around with it and see how well it works.\n",
    "\n",
    "**Question**: Give an example of a review that you entered into your web app. What was the predicted sentiment of your example review?"
   ]
  },
  {
   "cell_type": "markdown",
   "metadata": {},
   "source": [
    "**Answer:** 1st Example:The example that I entered in the App was \"The movie is good.The characters in the movie are amazing\".The respone which I got was \"Your review was positive\".\n",
    "2nd Example:\" The character in the movie is poor.I disliked the movie\". The response which I got was \"Your review was negetive\". \n"
   ]
  },
  {
   "cell_type": "markdown",
   "metadata": {},
   "source": [
    "### Delete the endpoint\n",
    "\n",
    "Remember to always shut down your endpoint if you are no longer using it. You are charged for the length of time that the endpoint is running so if you forget and leave it on you could end up with an unexpectedly large bill."
   ]
  },
  {
   "cell_type": "code",
   "execution_count": 514,
   "metadata": {},
   "outputs": [
    {
     "name": "stderr",
     "output_type": "stream",
     "text": [
      "INFO:sagemaker:Deleting endpoint configuration with name: sagemaker-pytorch-2019-04-07-06-39-12-073\n",
      "INFO:sagemaker:Deleting endpoint with name: sagemaker-pytorch-2019-04-07-06-39-12-073\n"
     ]
    }
   ],
   "source": [
    "predictor.delete_endpoint()"
   ]
  },
  {
   "cell_type": "code",
   "execution_count": null,
   "metadata": {},
   "outputs": [],
   "source": []
  }
 ],
 "metadata": {
  "kernelspec": {
   "display_name": "conda_pytorch_p36",
   "language": "python",
   "name": "conda_pytorch_p36"
  },
  "language_info": {
   "codemirror_mode": {
    "name": "ipython",
    "version": 3
   },
   "file_extension": ".py",
   "mimetype": "text/x-python",
   "name": "python",
   "nbconvert_exporter": "python",
   "pygments_lexer": "ipython3",
   "version": "3.6.5"
  }
 },
 "nbformat": 4,
 "nbformat_minor": 2
}
